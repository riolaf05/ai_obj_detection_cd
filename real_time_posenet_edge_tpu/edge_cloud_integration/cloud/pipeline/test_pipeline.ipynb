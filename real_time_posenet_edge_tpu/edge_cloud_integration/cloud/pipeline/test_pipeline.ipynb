{
 "cells": [
  {
   "cell_type": "code",
   "execution_count": 110,
   "metadata": {},
   "outputs": [],
   "source": [
    "import sys\n",
    "sys.path.insert(1, '/home/jovyan/.local/lib/python3.6/site-packages')\n",
    "#See https://www.kubeflow.org/docs/pipelines/sdk/component-development/\n",
    "import kfp\n",
    "from kfp import compiler\n",
    "import kfp.components as comp\n",
    "import kfp.dsl as dsl\n",
    "from kfp import gcp"
   ]
  },
  {
   "cell_type": "code",
   "execution_count": 111,
   "metadata": {},
   "outputs": [],
   "source": [
    "EXPERIMENT_NAME = 'gpu-test'\n",
    "BUCKET = \"ai-vqc-kubeflow-components\"\n",
    "OUTPUT_BUCKET='ai-vqc-kubeflow-output'\n",
    "PROJECT='ai-vqc'"
   ]
  },
  {
   "cell_type": "code",
   "execution_count": 112,
   "metadata": {},
   "outputs": [],
   "source": [
    "#Upload train component\n",
    "#!gsutil rm gs://$BUCKET/components/gpu/train/component.yaml\n",
    "#!gsutil cp component.yaml gs://$BUCKET/components/gpu/train/component.yaml\n",
    "#!gsutil acl ch -u AllUsers:R gs://$BUCKET/components/gpu/train/component.yaml\n",
    "        \n",
    "#train_operation = kfp.components.load_component_from_url('https://storage.googleapis.com/{}/components/gpu/train/component.yaml'.format(BUCKET))\n",
    "#help(train_operation)"
   ]
  },
  {
   "cell_type": "code",
   "execution_count": 113,
   "metadata": {},
   "outputs": [],
   "source": [
    "#Component definition\n",
    "def training_op(image_data_format,\n",
    "               output,\n",
    "               ):\n",
    "  return dsl.ContainerOp(\n",
    "    name='gpu-op', \n",
    "    image='eu.gcr.io/ai-vqc/x86-keras-gpu:latest',\n",
    "    command=\"python3\",\n",
    "    arguments=[\n",
    "        \"/src/main.py\",\n",
    "        \"--image-data-format\", image_data_format,\n",
    "        \"--output\", output,\n",
    "    ],\n",
    "    #pvolumes={\"/mnt\": download_step.pvolume}\n",
    "    file_outputs={\n",
    "        'accuracy-score': '/mlpipeline-metrics.json'\n",
    "    }\n",
    "  ).set_gpu_limit(1).apply(kfp.gcp.use_gcp_secret('user-gcp-sa'))\n",
    "\n",
    "\n",
    "@dsl.pipeline(\n",
    "  name='Kubeflow Test Pipeline',\n",
    "  description='Performs preprocessing, training and deployment.'\n",
    ")\n",
    "def pipeline(\n",
    "    image_data_format='channels_first',\n",
    "    output='gs://ai-vqc-kubeflow-output/gpu/model',\n",
    "    ):\n",
    "\n",
    "    #Pipeline component instances\n",
    "    train_gpu=training_op(image_data_format, output)\n",
    "    "
   ]
  },
  {
   "cell_type": "code",
   "execution_count": 114,
   "metadata": {},
   "outputs": [],
   "source": [
    "#Compile the pipeline\n",
    "pipeline_func = pipeline\n",
    "pipeline_filename = pipeline_func.__name__ + '.pipeline.zip'\n",
    "\n",
    "import kfp.compiler as compiler\n",
    "compiler.Compiler().compile(pipeline_func, pipeline_filename) #compiles your Python domain-specific language (DSL) code into a single static configuration (in YAML format) that the Kubeflow Pipelines service can process."
   ]
  },
  {
   "cell_type": "code",
   "execution_count": 115,
   "metadata": {},
   "outputs": [
    {
     "name": "stdout",
     "output_type": "stream",
     "text": [
      "{'created_at': datetime.datetime(2020, 3, 27, 12, 31, 45, tzinfo=tzlocal()),\n",
      " 'description': None,\n",
      " 'id': 'f0eee47d-c847-4331-9d1d-0433b3777e6f',\n",
      " 'name': 'gpu-test',\n",
      " 'resource_references': None}\n"
     ]
    }
   ],
   "source": [
    "#Create Kubeflow experiment\n",
    "client = kfp.Client()\n",
    "try:\n",
    "    experiment = client.get_experiment(experiment_name=EXPERIMENT_NAME)\n",
    "except:\n",
    "    experiment = client.create_experiment(EXPERIMENT_NAME)\n",
    "    \n",
    "print(experiment)"
   ]
  },
  {
   "cell_type": "code",
   "execution_count": 116,
   "metadata": {},
   "outputs": [
    {
     "data": {
      "text/html": [
       "Run link <a href=\"/pipeline/#/runs/details/ba65605a-bb32-4ab4-981b-8f5648daf2bd\" target=\"_blank\" >here</a>"
      ],
      "text/plain": [
       "<IPython.core.display.HTML object>"
      ]
     },
     "metadata": {},
     "output_type": "display_data"
    },
    {
     "name": "stdout",
     "output_type": "stream",
     "text": [
      "f0eee47d-c847-4331-9d1d-0433b3777e6f\n",
      "pipeline run\n",
      "pipeline.pipeline.zip\n",
      "{}\n"
     ]
    }
   ],
   "source": [
    "#Run the pipeline\n",
    "arguments = {}\n",
    "run_name = pipeline_func.__name__ + ' run'\n",
    "run_result = client.run_pipeline(experiment.id, \n",
    "                                 run_name, \n",
    "                                 pipeline_filename, \n",
    "                                 arguments)\n",
    "print(experiment.id)\n",
    "print(run_name)\n",
    "print(pipeline_filename)\n",
    "print(arguments)"
   ]
  },
  {
   "cell_type": "code",
   "execution_count": null,
   "metadata": {},
   "outputs": [],
   "source": []
  }
 ],
 "metadata": {
  "kernelspec": {
   "display_name": "Python 3",
   "language": "python",
   "name": "python3"
  },
  "language_info": {
   "codemirror_mode": {
    "name": "ipython",
    "version": 3
   },
   "file_extension": ".py",
   "mimetype": "text/x-python",
   "name": "python",
   "nbconvert_exporter": "python",
   "pygments_lexer": "ipython3",
   "version": "3.6.9"
  }
 },
 "nbformat": 4,
 "nbformat_minor": 4
}
