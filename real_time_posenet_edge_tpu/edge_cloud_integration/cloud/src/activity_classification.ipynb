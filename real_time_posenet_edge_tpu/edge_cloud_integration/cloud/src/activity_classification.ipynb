{
 "cells": [
  {
   "cell_type": "code",
   "execution_count": 171,
   "metadata": {},
   "outputs": [],
   "source": [
    "import sys\n",
    "sys.path.insert(1, '/home/jovyan/.local/lib/python3.6/site-packages')\n",
    "#See https://www.kubeflow.org/docs/pipelines/sdk/component-development/\n",
    "import kfp\n",
    "from kfp import compiler\n",
    "import kfp.components as comp\n",
    "import kfp.dsl as dsl\n",
    "from kfp import gcp"
   ]
  },
  {
   "cell_type": "code",
   "execution_count": 172,
   "metadata": {},
   "outputs": [],
   "source": [
    "#Component definition\n",
    "\n",
    "version='v25'\n",
    "def preprocess_op(prep_input,\n",
    "                  prep_output,\n",
    "                   ):\n",
    "  return dsl.ContainerOp(\n",
    "    name='preprocess-op', \n",
    "    image='rio05docker/activity_classification:preprocess'+version,\n",
    "    command=\"python3\",\n",
    "    arguments=[\n",
    "        \"preprocess.py\",\n",
    "        '--input-bucket', prep_input,\n",
    "        '--output-bucket', prep_output,\n",
    "    ],\n",
    "    file_outputs={\n",
    "        'data_file': '/src/final_df.csv',\n",
    "    }\n",
    "  ).apply(kfp.gcp.use_gcp_secret('user-gcp-sa'))\n",
    "\n",
    "\n",
    "def training_op(input,\n",
    "                output,\n",
    "               ):\n",
    "  return dsl.ContainerOp(\n",
    "    name='gpu-op', \n",
    "    image='rio05docker/activity_classification:trainv2',\n",
    "    command=\"python3\",\n",
    "    arguments=[\n",
    "        \"train.py\",\n",
    "        '--input-bucket', input,\n",
    "        '--input-bucket', output,\n",
    "    ],\n",
    "    #pvolumes={\"/mnt\": download_step.pvolume}\n",
    "    file_outputs={\n",
    "        'model': '/activity_classification.h5',\n",
    "    }\n",
    "  ).set_gpu_limit(1).apply(kfp.gcp.use_gcp_secret('user-gcp-sa'))\n",
    "\n",
    "def convert_op(prep_input,\n",
    "                  prep_output,\n",
    "                   ):\n",
    "  return dsl.ContainerOp(\n",
    "    name='convert_op-op', \n",
    "    image='rio05docker/activity_classification:convertv2',\n",
    "    command=\"python3\",\n",
    "    arguments=[\n",
    "        \"convert.py\",\n",
    "        '--input-bucket', prep_input,\n",
    "        '--output-bucket', prep_output,\n",
    "    ],\n",
    "    file_outputs={\n",
    "        'model_file': '/activity_classification.tflite',\n",
    "    }\n",
    "  ).apply(kfp.gcp.use_gcp_secret('user-gcp-sa'))"
   ]
  },
  {
   "cell_type": "code",
   "execution_count": 173,
   "metadata": {},
   "outputs": [],
   "source": [
    "#Pipeline definition\n",
    "@dsl.pipeline(\n",
    "  name='Kubeflow Test Pipeline',\n",
    "  description='Performs preprocessing, training and deployment.'\n",
    ")\n",
    "def pipeline(\n",
    "    prep_input='ai-vqc',\n",
    "    prep_output='ai-vqc',\n",
    "    ):\n",
    "\n",
    "    #Pipeline component instances\n",
    "    prep_op=preprocess_op(prep_input, prep_output)\n",
    "    training_op(prep_input, prep_output).after(prep_op)\n",
    "    convert_op(prep_input, prep_output).after(training_op)"
   ]
  },
  {
   "cell_type": "code",
   "execution_count": 174,
   "metadata": {},
   "outputs": [],
   "source": [
    "#Compile the pipeline\n",
    "pipeline_func = pipeline\n",
    "pipeline_filename = pipeline_func.__name__ + '.pipeline.zip'\n",
    "\n",
    "import kfp.compiler as compiler\n",
    "compiler.Compiler().compile(pipeline_func, pipeline_filename) #compiles your Python domain-specific language (DSL) code into a single static configuration (in YAML format) that the Kubeflow Pipelines service can process."
   ]
  },
  {
   "cell_type": "code",
   "execution_count": 175,
   "metadata": {},
   "outputs": [
    {
     "name": "stdout",
     "output_type": "stream",
     "text": [
      "{'created_at': datetime.datetime(2020, 4, 7, 15, 21, tzinfo=tzlocal()),\n",
      " 'description': None,\n",
      " 'id': '1a72d687-9bac-44af-8cdd-4190322fea3f',\n",
      " 'name': 'activity_classification',\n",
      " 'resource_references': None}\n"
     ]
    }
   ],
   "source": [
    "#Create Kubeflow experiment\n",
    "client = kfp.Client()\n",
    "try:\n",
    "    experiment = client.get_experiment(experiment_name=EXPERIMENT_NAME)\n",
    "except:\n",
    "    experiment = client.create_experiment(EXPERIMENT_NAME)\n",
    "    \n",
    "print(experiment)"
   ]
  },
  {
   "cell_type": "code",
   "execution_count": 176,
   "metadata": {},
   "outputs": [
    {
     "data": {
      "text/html": [
       "Run link <a href=\"/pipeline/#/runs/details/031298b4-eceb-49d5-9189-ee77dc8dd011\" target=\"_blank\" >here</a>"
      ],
      "text/plain": [
       "<IPython.core.display.HTML object>"
      ]
     },
     "metadata": {},
     "output_type": "display_data"
    },
    {
     "name": "stdout",
     "output_type": "stream",
     "text": [
      "1a72d687-9bac-44af-8cdd-4190322fea3f\n",
      "pipeline run\n",
      "pipeline.pipeline.zip\n",
      "{}\n"
     ]
    }
   ],
   "source": [
    "#Run the pipeline\n",
    "arguments = {}\n",
    "run_name = pipeline_func.__name__ + ' run'\n",
    "run_result = client.run_pipeline(experiment.id, \n",
    "                                 run_name, \n",
    "                                 pipeline_filename, \n",
    "                                 arguments)\n",
    "print(experiment.id)\n",
    "print(run_name)\n",
    "print(pipeline_filename)\n",
    "print(arguments)"
   ]
  },
  {
   "cell_type": "code",
   "execution_count": null,
   "metadata": {},
   "outputs": [],
   "source": []
  }
 ],
 "metadata": {
  "kernelspec": {
   "display_name": "Python 3",
   "language": "python",
   "name": "python3"
  },
  "language_info": {
   "codemirror_mode": {
    "name": "ipython",
    "version": 3
   },
   "file_extension": ".py",
   "mimetype": "text/x-python",
   "name": "python",
   "nbconvert_exporter": "python",
   "pygments_lexer": "ipython3",
   "version": "3.6.9"
  }
 },
 "nbformat": 4,
 "nbformat_minor": 4
}
