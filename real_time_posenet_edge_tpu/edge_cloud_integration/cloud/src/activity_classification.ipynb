{
 "cells": [
  {
   "cell_type": "code",
   "execution_count": 177,
   "metadata": {},
   "outputs": [],
   "source": [
    "import sys\n",
    "sys.path.insert(1, '/home/jovyan/.local/lib/python3.6/site-packages')\n",
    "#See https://www.kubeflow.org/docs/pipelines/sdk/component-development/\n",
    "import kfp\n",
    "from kfp import compiler\n",
    "import kfp.components as comp\n",
    "import kfp.dsl as dsl\n",
    "from kfp import gcp"
   ]
  },
  {
   "cell_type": "code",
   "execution_count": 178,
   "metadata": {},
   "outputs": [],
   "source": [
    "EXPERIMENT_NAME='activity_classification_test'"
   ]
  },
  {
   "cell_type": "code",
   "execution_count": 179,
   "metadata": {},
   "outputs": [],
   "source": [
    "#Component definition (see: https://www.kubeflow.org/docs/pipelines/sdk/build-component/)\n",
    "\n",
    "preprocess_version='v2'\n",
    "def ingestion_op(input_bucket,\n",
    "                  output_bucket,\n",
    "                   ):\n",
    "  return dsl.ContainerOp(\n",
    "    name='preprocess-op', \n",
    "    image='rio05docker/activity_classification:preprocess'+preprocess_version,\n",
    "    command=\"python3\",\n",
    "    arguments=[\n",
    "        \"/src/preprocess.py\",\n",
    "        '--input-bucket', input_bucket,\n",
    "        '--output-bucket', output_bucket,\n",
    "    ],\n",
    "    file_outputs={\n",
    "        'data_file': '/src/final_df.csv',\n",
    "    }\n",
    "  ).apply(kfp.gcp.use_gcp_secret('user-gcp-sa'))\n",
    "\n",
    "\n",
    "\n",
    "train_version=''\n",
    "def training_op(input_bucket,\n",
    "                output_bucket,\n",
    "                #model_file,\n",
    "                #conf_matrix,\n",
    "               ):\n",
    "  return dsl.ContainerOp(\n",
    "    name='gpu-op', \n",
    "    image='rio05docker/activity_classification:train'+train_version,\n",
    "    command=\"python3\",\n",
    "    arguments=[\n",
    "        \"train.py\",\n",
    "        '--input-bucket', input_bucket,\n",
    "        '--input-bucket', output_bucket,\n",
    "    ],\n",
    "    #pvolumes={\"/mnt\": download_step.pvolume}\n",
    "    file_outputs={\n",
    "        'model': '/activity_classification.h5',\n",
    "        'conf_matrix': '/conf_matrix.csv',\n",
    "        'metrics': '/mlpipeline-metrics.json',\n",
    "    }\n",
    "  ).set_gpu_limit(1).apply(kfp.gcp.use_gcp_secret('user-gcp-sa'))\n",
    "\n",
    "\n",
    "\n",
    "convert_version='v3'\n",
    "def convert_op(input_model,\n",
    "               output_bucket,\n",
    "                   ):\n",
    "  return dsl.ContainerOp(\n",
    "    name='convert-op',\n",
    "    image='rio05docker/activity_classification:convert'+convert_version,\n",
    "    command=\"python3\",\n",
    "    arguments=[\n",
    "        \"convert.py\",\n",
    "        '--input-model', input_model,\n",
    "        '--output-bucket', output_bucket,\n",
    "    ],\n",
    "    file_outputs={\n",
    "        'model_file': '/activity_classification.tflite',\n",
    "    }\n",
    "  ).apply(kfp.gcp.use_gcp_secret('user-gcp-sa'))"
   ]
  },
  {
   "cell_type": "code",
   "execution_count": 180,
   "metadata": {},
   "outputs": [],
   "source": [
    "#Pipeline definition\n",
    "@dsl.pipeline(\n",
    "  name='Kubeflow Test Pipeline',\n",
    "  description='Performs preprocessing, training and deployment.'\n",
    ")\n",
    "def pipeline(\n",
    "    input_bucket='ai-vqc', #bucket where to read data\n",
    "    output_bucket='ai-vqc', #bucket where to write model\n",
    "    ):\n",
    "\n",
    "    #Pipeline component instances\n",
    "    prep_op=ingestion_op(input_bucket, output_bucket)\n",
    "    \n",
    "    train_op=training_op(input_bucket, output_bucket).after(prep_op)\n",
    "    \n",
    "    conv_op=convert_op(dsl.InputArgumentPath(train_op.outputs['model']), output_bucket).after(train_op)"
   ]
  },
  {
   "cell_type": "code",
   "execution_count": 181,
   "metadata": {},
   "outputs": [],
   "source": [
    "#Compile the pipeline\n",
    "pipeline_func = pipeline\n",
    "pipeline_filename = pipeline_func.__name__ + '.pipeline.zip'\n",
    "\n",
    "import kfp.compiler as compiler\n",
    "compiler.Compiler().compile(pipeline_func, pipeline_filename) #compiles your Python domain-specific language (DSL) code into a single static configuration (in YAML format) that the Kubeflow Pipelines service can process."
   ]
  },
  {
   "cell_type": "code",
   "execution_count": 182,
   "metadata": {},
   "outputs": [
    {
     "data": {
      "text/html": [
       "Experiment link <a href=\"/pipeline/#/experiments/details/f0ebef9a-9b8e-45c8-adea-84dc666f9735\" target=\"_blank\" >here</a>"
      ],
      "text/plain": [
       "<IPython.core.display.HTML object>"
      ]
     },
     "metadata": {},
     "output_type": "display_data"
    },
    {
     "name": "stdout",
     "output_type": "stream",
     "text": [
      "{'created_at': datetime.datetime(2020, 5, 18, 14, 36, 4, tzinfo=tzlocal()),\n",
      " 'description': None,\n",
      " 'id': 'f0ebef9a-9b8e-45c8-adea-84dc666f9735',\n",
      " 'name': 'activity_classification_test',\n",
      " 'resource_references': None}\n"
     ]
    }
   ],
   "source": [
    "#Create Kubeflow experiment\n",
    "client = kfp.Client()\n",
    "try:\n",
    "    experiment = client.get_experiment(experiment_name=EXPERIMENT_NAME)\n",
    "except:\n",
    "    experiment = client.create_experiment(EXPERIMENT_NAME)\n",
    "    \n",
    "print(experiment)"
   ]
  },
  {
   "cell_type": "code",
   "execution_count": 183,
   "metadata": {},
   "outputs": [
    {
     "data": {
      "text/html": [
       "Run link <a href=\"/pipeline/#/runs/details/ea4e3c2f-c16c-4f29-8f76-46727617e0a5\" target=\"_blank\" >here</a>"
      ],
      "text/plain": [
       "<IPython.core.display.HTML object>"
      ]
     },
     "metadata": {},
     "output_type": "display_data"
    },
    {
     "name": "stdout",
     "output_type": "stream",
     "text": [
      "f0ebef9a-9b8e-45c8-adea-84dc666f9735\n",
      "pipeline run\n",
      "pipeline.pipeline.zip\n",
      "{}\n"
     ]
    }
   ],
   "source": [
    "#Run the pipeline\n",
    "arguments = {}\n",
    "run_name = pipeline_func.__name__ + ' run'\n",
    "run_result = client.run_pipeline(experiment.id, \n",
    "                                 run_name, \n",
    "                                 pipeline_filename, \n",
    "                                 arguments)\n",
    "print(experiment.id)\n",
    "print(run_name)\n",
    "print(pipeline_filename)\n",
    "print(arguments)"
   ]
  },
  {
   "cell_type": "code",
   "execution_count": null,
   "metadata": {},
   "outputs": [],
   "source": []
  }
 ],
 "metadata": {
  "kernelspec": {
   "display_name": "Python 3",
   "language": "python",
   "name": "python3"
  },
  "language_info": {
   "codemirror_mode": {
    "name": "ipython",
    "version": 3
   },
   "file_extension": ".py",
   "mimetype": "text/x-python",
   "name": "python",
   "nbconvert_exporter": "python",
   "pygments_lexer": "ipython3",
   "version": "3.6.9"
  }
 },
 "nbformat": 4,
 "nbformat_minor": 4
}
