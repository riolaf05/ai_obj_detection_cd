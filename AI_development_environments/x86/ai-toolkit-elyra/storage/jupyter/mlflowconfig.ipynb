{
 "cells": [
  {
   "cell_type": "code",
   "execution_count": 33,
   "metadata": {},
   "outputs": [
    {
     "name": "stdout",
     "output_type": "stream",
     "text": [
      "Overwriting requirements.txt\n"
     ]
    }
   ],
   "source": [
    "%%writefile requirements.txt\n",
    "mlflow==1.12.1"
   ]
  },
  {
   "cell_type": "code",
   "execution_count": 34,
   "metadata": {},
   "outputs": [
    {
     "name": "stdout",
     "output_type": "stream",
     "text": [
      "Requirement already satisfied: mlflow==1.12.1 in /opt/conda/lib/python3.7/site-packages (from -r requirements.txt (line 1)) (1.12.1)\n",
      "Requirement already satisfied: querystring-parser in /opt/conda/lib/python3.7/site-packages (from mlflow==1.12.1->-r requirements.txt (line 1)) (1.2.4)\n",
      "Requirement already satisfied: numpy in /opt/conda/lib/python3.7/site-packages (from mlflow==1.12.1->-r requirements.txt (line 1)) (1.19.4)\n",
      "Requirement already satisfied: pandas in /opt/conda/lib/python3.7/site-packages (from mlflow==1.12.1->-r requirements.txt (line 1)) (1.1.4)\n",
      "Requirement already satisfied: alembic<=1.4.1 in /opt/conda/lib/python3.7/site-packages (from mlflow==1.12.1->-r requirements.txt (line 1)) (1.3.3)\n",
      "Requirement already satisfied: entrypoints in /opt/conda/lib/python3.7/site-packages (from mlflow==1.12.1->-r requirements.txt (line 1)) (0.3)\n",
      "Requirement already satisfied: python-dateutil in /opt/conda/lib/python3.7/site-packages (from mlflow==1.12.1->-r requirements.txt (line 1)) (2.8.1)\n",
      "Requirement already satisfied: prometheus-flask-exporter in /opt/conda/lib/python3.7/site-packages (from mlflow==1.12.1->-r requirements.txt (line 1)) (0.18.1)\n",
      "Requirement already satisfied: gunicorn; platform_system != \"Windows\" in /opt/conda/lib/python3.7/site-packages (from mlflow==1.12.1->-r requirements.txt (line 1)) (20.0.4)\n",
      "Requirement already satisfied: pyyaml in /opt/conda/lib/python3.7/site-packages (from mlflow==1.12.1->-r requirements.txt (line 1)) (5.3.1)\n",
      "Requirement already satisfied: protobuf>=3.6.0 in /opt/conda/lib/python3.7/site-packages (from mlflow==1.12.1->-r requirements.txt (line 1)) (3.14.0)\n",
      "Requirement already satisfied: sqlparse>=0.3.1 in /opt/conda/lib/python3.7/site-packages (from mlflow==1.12.1->-r requirements.txt (line 1)) (0.4.1)\n",
      "Requirement already satisfied: six>=1.10.0 in /opt/conda/lib/python3.7/site-packages (from mlflow==1.12.1->-r requirements.txt (line 1)) (1.15.0)\n",
      "Requirement already satisfied: docker>=4.0.0 in /opt/conda/lib/python3.7/site-packages (from mlflow==1.12.1->-r requirements.txt (line 1)) (4.4.0)\n",
      "Requirement already satisfied: azure-storage-blob in /opt/conda/lib/python3.7/site-packages (from mlflow==1.12.1->-r requirements.txt (line 1)) (12.6.0)\n",
      "Requirement already satisfied: databricks-cli>=0.8.7 in /opt/conda/lib/python3.7/site-packages (from mlflow==1.12.1->-r requirements.txt (line 1)) (0.14.1)\n",
      "Requirement already satisfied: Flask in /opt/conda/lib/python3.7/site-packages (from mlflow==1.12.1->-r requirements.txt (line 1)) (1.1.2)\n",
      "Requirement already satisfied: gitpython>=2.1.0 in /opt/conda/lib/python3.7/site-packages (from mlflow==1.12.1->-r requirements.txt (line 1)) (3.1.11)\n",
      "Requirement already satisfied: click>=7.0 in /opt/conda/lib/python3.7/site-packages (from mlflow==1.12.1->-r requirements.txt (line 1)) (7.1.2)\n",
      "Requirement already satisfied: cloudpickle in /opt/conda/lib/python3.7/site-packages (from mlflow==1.12.1->-r requirements.txt (line 1)) (1.6.0)\n",
      "Requirement already satisfied: requests>=2.17.3 in /opt/conda/lib/python3.7/site-packages (from mlflow==1.12.1->-r requirements.txt (line 1)) (2.25.0)\n",
      "Requirement already satisfied: sqlalchemy in /opt/conda/lib/python3.7/site-packages (from mlflow==1.12.1->-r requirements.txt (line 1)) (1.3.13)\n",
      "Requirement already satisfied: pytz>=2017.2 in /opt/conda/lib/python3.7/site-packages (from pandas->mlflow==1.12.1->-r requirements.txt (line 1)) (2020.4)\n",
      "Requirement already satisfied: Mako in /opt/conda/lib/python3.7/site-packages (from alembic<=1.4.1->mlflow==1.12.1->-r requirements.txt (line 1)) (1.1.0)\n",
      "Requirement already satisfied: python-editor>=0.3 in /opt/conda/lib/python3.7/site-packages (from alembic<=1.4.1->mlflow==1.12.1->-r requirements.txt (line 1)) (1.0.4)\n",
      "Requirement already satisfied: prometheus-client in /opt/conda/lib/python3.7/site-packages (from prometheus-flask-exporter->mlflow==1.12.1->-r requirements.txt (line 1)) (0.9.0)\n",
      "Requirement already satisfied: setuptools>=3.0 in /opt/conda/lib/python3.7/site-packages (from gunicorn; platform_system != \"Windows\"->mlflow==1.12.1->-r requirements.txt (line 1)) (50.3.2)\n",
      "Requirement already satisfied: websocket-client>=0.32.0 in /opt/conda/lib/python3.7/site-packages (from docker>=4.0.0->mlflow==1.12.1->-r requirements.txt (line 1)) (0.57.0)\n",
      "Requirement already satisfied: msrest>=0.6.10 in /opt/conda/lib/python3.7/site-packages (from azure-storage-blob->mlflow==1.12.1->-r requirements.txt (line 1)) (0.6.19)\n",
      "Requirement already satisfied: azure-core<2.0.0,>=1.9.0 in /opt/conda/lib/python3.7/site-packages (from azure-storage-blob->mlflow==1.12.1->-r requirements.txt (line 1)) (1.9.0)\n",
      "Requirement already satisfied: cryptography>=2.1.4 in /opt/conda/lib/python3.7/site-packages (from azure-storage-blob->mlflow==1.12.1->-r requirements.txt (line 1)) (3.2.1)\n",
      "Requirement already satisfied: tabulate>=0.7.7 in /opt/conda/lib/python3.7/site-packages (from databricks-cli>=0.8.7->mlflow==1.12.1->-r requirements.txt (line 1)) (0.8.7)\n",
      "Requirement already satisfied: itsdangerous>=0.24 in /opt/conda/lib/python3.7/site-packages (from Flask->mlflow==1.12.1->-r requirements.txt (line 1)) (1.1.0)\n",
      "Requirement already satisfied: Werkzeug>=0.15 in /opt/conda/lib/python3.7/site-packages (from Flask->mlflow==1.12.1->-r requirements.txt (line 1)) (1.0.1)\n",
      "Requirement already satisfied: Jinja2>=2.10.1 in /opt/conda/lib/python3.7/site-packages (from Flask->mlflow==1.12.1->-r requirements.txt (line 1)) (2.11.2)\n",
      "Requirement already satisfied: gitdb<5,>=4.0.1 in /opt/conda/lib/python3.7/site-packages (from gitpython>=2.1.0->mlflow==1.12.1->-r requirements.txt (line 1)) (4.0.5)\n",
      "Requirement already satisfied: certifi>=2017.4.17 in /opt/conda/lib/python3.7/site-packages (from requests>=2.17.3->mlflow==1.12.1->-r requirements.txt (line 1)) (2020.11.8)\n",
      "Requirement already satisfied: chardet<4,>=3.0.2 in /opt/conda/lib/python3.7/site-packages (from requests>=2.17.3->mlflow==1.12.1->-r requirements.txt (line 1)) (3.0.4)\n",
      "Requirement already satisfied: urllib3<1.27,>=1.21.1 in /opt/conda/lib/python3.7/site-packages (from requests>=2.17.3->mlflow==1.12.1->-r requirements.txt (line 1)) (1.26.2)\n",
      "Requirement already satisfied: idna<3,>=2.5 in /opt/conda/lib/python3.7/site-packages (from requests>=2.17.3->mlflow==1.12.1->-r requirements.txt (line 1)) (2.10)\n",
      "Requirement already satisfied: MarkupSafe>=0.9.2 in /opt/conda/lib/python3.7/site-packages (from Mako->alembic<=1.4.1->mlflow==1.12.1->-r requirements.txt (line 1)) (1.1.1)\n",
      "Requirement already satisfied: requests-oauthlib>=0.5.0 in /opt/conda/lib/python3.7/site-packages (from msrest>=0.6.10->azure-storage-blob->mlflow==1.12.1->-r requirements.txt (line 1)) (1.3.0)\n",
      "Requirement already satisfied: isodate>=0.6.0 in /opt/conda/lib/python3.7/site-packages (from msrest>=0.6.10->azure-storage-blob->mlflow==1.12.1->-r requirements.txt (line 1)) (0.6.0)\n",
      "Requirement already satisfied: cffi!=1.11.3,>=1.8 in /opt/conda/lib/python3.7/site-packages (from cryptography>=2.1.4->azure-storage-blob->mlflow==1.12.1->-r requirements.txt (line 1)) (1.14.3)\n",
      "Requirement already satisfied: smmap<4,>=3.0.1 in /opt/conda/lib/python3.7/site-packages (from gitdb<5,>=4.0.1->gitpython>=2.1.0->mlflow==1.12.1->-r requirements.txt (line 1)) (3.0.4)\n",
      "Requirement already satisfied: oauthlib>=3.0.0 in /opt/conda/lib/python3.7/site-packages (from requests-oauthlib>=0.5.0->msrest>=0.6.10->azure-storage-blob->mlflow==1.12.1->-r requirements.txt (line 1)) (3.1.0)\n",
      "Requirement already satisfied: pycparser in /opt/conda/lib/python3.7/site-packages (from cffi!=1.11.3,>=1.8->cryptography>=2.1.4->azure-storage-blob->mlflow==1.12.1->-r requirements.txt (line 1)) (2.20)\n",
      "\u001b[33mWARNING: You are using pip version 20.2.4; however, version 20.3.1 is available.\n",
      "You should consider upgrading via the '/opt/conda/bin/python -m pip install --upgrade pip' command.\u001b[0m\n"
     ]
    }
   ],
   "source": [
    "!pip3 install -r requirements.txt"
   ]
  },
  {
   "cell_type": "code",
   "execution_count": 35,
   "metadata": {},
   "outputs": [],
   "source": [
    "#config\n",
    "\n",
    "NGROK_URL='http://ai-toolkit-elyra_mlflowui_1:5000'\n",
    "EXPERIMENT='test-mlflow'\n",
    "EPOCHS=5\n",
    "VERSION=1\n",
    "\n",
    "SAVE_PATH='saved_model'\n",
    "%mkdir -p saved_model"
   ]
  },
  {
   "cell_type": "code",
   "execution_count": 36,
   "metadata": {},
   "outputs": [],
   "source": [
    "#Mlflow settings\n",
    "\n",
    "import mlflow\n",
    "\n",
    "#set MLflow server \n",
    "mlflow.set_tracking_uri(NGROK_URL)\n",
    "#Set experiment\n",
    "if mlflow.get_experiment_by_name(EXPERIMENT) != None:\n",
    "    exp_id = mlflow.set_experiment(EXPERIMENT)\n",
    "else: \n",
    "    exp_id = mlflow.create_experiment(EXPERIMENT)\n",
    "\n",
    "#Close active runs\n",
    "if mlflow.active_run():\n",
    "    mlflow.end_run()"
   ]
  },
  {
   "cell_type": "code",
   "execution_count": 37,
   "metadata": {},
   "outputs": [],
   "source": [
    "with mlflow.start_run(run_id=None, experiment_id=exp_id, run_name=None, nested=False): \n",
    "    # log parameters\n",
    "    mlflow.log_param(\"epochs\", EPOCHS)\n",
    "    \n",
    "    mlflow.end_run()"
   ]
  },
  {
   "cell_type": "code",
   "execution_count": null,
   "metadata": {},
   "outputs": [],
   "source": []
  }
 ],
 "metadata": {
  "kernelspec": {
   "display_name": "Python 3",
   "language": "python",
   "name": "python3"
  },
  "language_info": {
   "codemirror_mode": {
    "name": "ipython",
    "version": 3
   },
   "file_extension": ".py",
   "mimetype": "text/x-python",
   "name": "python",
   "nbconvert_exporter": "python",
   "pygments_lexer": "ipython3",
   "version": "3.7.4"
  }
 },
 "nbformat": 4,
 "nbformat_minor": 4
}
