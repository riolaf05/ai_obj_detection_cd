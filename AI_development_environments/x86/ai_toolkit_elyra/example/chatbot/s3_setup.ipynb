{
 "cells": [
  {
   "cell_type": "code",
   "execution_count": 1,
   "metadata": {
    "execution": {
     "iopub.execute_input": "2021-02-04T19:08:00.228822Z",
     "iopub.status.busy": "2021-02-04T19:08:00.226616Z",
     "iopub.status.idle": "2021-02-04T19:08:04.101058Z",
     "shell.execute_reply": "2021-02-04T19:08:04.106576Z"
    },
    "papermill": {
     "duration": 3.966635,
     "end_time": "2021-02-04T19:08:04.119560",
     "exception": false,
     "start_time": "2021-02-04T19:08:00.152925",
     "status": "completed"
    },
    "tags": []
   },
   "outputs": [
    {
     "name": "stdout",
     "output_type": "stream",
     "text": [
      "Requirement already satisfied: minio in /opt/conda/lib/python3.7/site-packages (6.0.0)\r\n"
     ]
    },
    {
     "name": "stdout",
     "output_type": "stream",
     "text": [
      "Requirement already satisfied: boto3==1.9.240 in /opt/conda/lib/python3.7/site-packages (1.9.240)\r\n",
      "Requirement already satisfied: python-dateutil in /opt/conda/lib/python3.7/site-packages (from minio) (2.8.1)\r\n",
      "Requirement already satisfied: pytz in /opt/conda/lib/python3.7/site-packages (from minio) (2020.4)\r\n",
      "Requirement already satisfied: urllib3 in /opt/conda/lib/python3.7/site-packages (from minio) (1.26.2)\r\n"
     ]
    },
    {
     "name": "stdout",
     "output_type": "stream",
     "text": [
      "Requirement already satisfied: configparser in /opt/conda/lib/python3.7/site-packages (from minio) (5.0.1)\r\n"
     ]
    },
    {
     "name": "stdout",
     "output_type": "stream",
     "text": [
      "Requirement already satisfied: certifi in /opt/conda/lib/python3.7/site-packages (from minio) (2020.11.8)\r\n",
      "Requirement already satisfied: jmespath<1.0.0,>=0.7.1 in /opt/conda/lib/python3.7/site-packages (from boto3==1.9.240) (0.10.0)\r\n",
      "Requirement already satisfied: botocore<1.13.0,>=1.12.240 in /opt/conda/lib/python3.7/site-packages (from boto3==1.9.240) (1.12.253)\r\n",
      "Requirement already satisfied: s3transfer<0.3.0,>=0.2.0 in /opt/conda/lib/python3.7/site-packages (from boto3==1.9.240) (0.2.1)\r\n"
     ]
    },
    {
     "name": "stdout",
     "output_type": "stream",
     "text": [
      "Requirement already satisfied: six>=1.5 in /opt/conda/lib/python3.7/site-packages (from python-dateutil->minio) (1.15.0)\r\n",
      "Requirement already satisfied: docutils<0.16,>=0.10 in /opt/conda/lib/python3.7/site-packages (from botocore<1.13.0,>=1.12.240->boto3==1.9.240) (0.15.2)\r\n"
     ]
    },
    {
     "name": "stdout",
     "output_type": "stream",
     "text": [
      "\u001b[33mWARNING: You are using pip version 20.2.4; however, version 21.0.1 is available.\r\n",
      "You should consider upgrading via the '/opt/conda/bin/python -m pip install --upgrade pip' command.\u001b[0m\r\n"
     ]
    }
   ],
   "source": [
    "!pip3 install minio boto3==1.9.240"
   ]
  },
  {
   "cell_type": "code",
   "execution_count": 2,
   "metadata": {
    "execution": {
     "iopub.execute_input": "2021-02-04T19:08:04.208624Z",
     "iopub.status.busy": "2021-02-04T19:08:04.207636Z",
     "iopub.status.idle": "2021-02-04T19:08:04.461777Z",
     "shell.execute_reply": "2021-02-04T19:08:04.461162Z"
    },
    "papermill": {
     "duration": 0.284547,
     "end_time": "2021-02-04T19:08:04.461925",
     "exception": false,
     "start_time": "2021-02-04T19:08:04.177378",
     "status": "completed"
    },
    "tags": []
   },
   "outputs": [],
   "source": [
    "import os\n",
    "import boto3\n",
    "import json\n",
    "from minio import Minio\n",
    "from minio.error import ResponseError"
   ]
  },
  {
   "cell_type": "code",
   "execution_count": 3,
   "metadata": {
    "execution": {
     "iopub.execute_input": "2021-02-04T19:08:04.503839Z",
     "iopub.status.busy": "2021-02-04T19:08:04.501471Z",
     "iopub.status.idle": "2021-02-04T19:08:04.505692Z",
     "shell.execute_reply": "2021-02-04T19:08:04.507225Z"
    },
    "papermill": {
     "duration": 0.031744,
     "end_time": "2021-02-04T19:08:04.507494",
     "exception": false,
     "start_time": "2021-02-04T19:08:04.475750",
     "status": "completed"
    },
    "tags": []
   },
   "outputs": [],
   "source": [
    "S3_HOST=os.getenv('S3_HOST')\n",
    "S3_ACCESS_KEY=os.getenv('S3_ACCESS_KEY')\n",
    "S3_SECRET_KEY=os.getenv('S3_SECRET_KEY')\n",
    "EXPERIMENT=os.getenv('EXPERIMENT')"
   ]
  },
  {
   "cell_type": "code",
   "execution_count": 4,
   "metadata": {
    "execution": {
     "iopub.execute_input": "2021-02-04T19:08:04.552684Z",
     "iopub.status.busy": "2021-02-04T19:08:04.551173Z",
     "iopub.status.idle": "2021-02-04T19:08:04.560439Z",
     "shell.execute_reply": "2021-02-04T19:08:04.561574Z"
    },
    "papermill": {
     "duration": 0.041342,
     "end_time": "2021-02-04T19:08:04.561886",
     "exception": false,
     "start_time": "2021-02-04T19:08:04.520544",
     "status": "completed"
    },
    "tags": []
   },
   "outputs": [],
   "source": [
    "policy = {\"Version\":\"2012-10-17\",\n",
    "        \"Statement\":[\n",
    "            {\n",
    "            \"Sid\":\"\",\n",
    "            \"Effect\":\"Allow\",\n",
    "            \"Principal\":{\"AWS\":\"*\"},\n",
    "            \"Action\":\"s3:GetBucketLocation\",\n",
    "            \"Resource\":\"arn:aws:s3:::mlflowruns\"\n",
    "            },\n",
    "            {\n",
    "            \"Sid\":\"\",\n",
    "            \"Effect\":\"Allow\",\n",
    "            \"Principal\":{\"AWS\":\"*\"},\n",
    "            \"Action\":\"s3:ListBucket\",\n",
    "            \"Resource\":\"arn:aws:s3:::{}\".format(EXPERIMENT)\n",
    "            },\n",
    "            {\n",
    "            \"Sid\":\"\",\n",
    "            \"Effect\":\"Allow\",\n",
    "            \"Principal\":{\"AWS\":\"*\"},\n",
    "            \"Action\":\"s3:GetObject\",\n",
    "            \"Resource\":\"arn:aws:s3:::mlflowruns/*\"\n",
    "            },\n",
    "            {\n",
    "            \"Sid\":\"\",\n",
    "            \"Effect\":\"Allow\",\n",
    "            \"Principal\":{\"AWS\":\"*\"},\n",
    "            \"Action\":\"s3:PutObject\",\n",
    "            \"Resource\":\"arn:aws:s3:::mlflowruns/*\"\n",
    "            }\n",
    "\n",
    "        ]}\n"
   ]
  },
  {
   "cell_type": "code",
   "execution_count": 5,
   "metadata": {
    "execution": {
     "iopub.execute_input": "2021-02-04T19:08:04.628181Z",
     "iopub.status.busy": "2021-02-04T19:08:04.626547Z",
     "iopub.status.idle": "2021-02-04T19:08:04.643289Z",
     "shell.execute_reply": "2021-02-04T19:08:04.640840Z"
    },
    "papermill": {
     "duration": 0.061369,
     "end_time": "2021-02-04T19:08:04.643637",
     "exception": false,
     "start_time": "2021-02-04T19:08:04.582268",
     "status": "completed"
    },
    "tags": []
   },
   "outputs": [],
   "source": [
    "def create_s3_bucket():\n",
    "    minioClient = Minio(S3_HOST,\n",
    "                  access_key=S3_ACCESS_KEY,\n",
    "                  secret_key=S3_SECRET_KEY,\n",
    "                  secure=False)\n",
    "\n",
    "    print(minioClient.list_buckets())\n",
    "\n",
    "    try:\n",
    "        if not minioClient.bucket_exists(\"mlflowruns\"):\n",
    "            minioClient.make_bucket('mlflowruns')\n",
    "    except ResponseError as err:\n",
    "        print(err)\n",
    "\n",
    "    buckets = minioClient.list_buckets()\n",
    "    for bucket in buckets:\n",
    "        print(bucket.name, bucket.creation_date)\n",
    "\n",
    "    policy = {\"Version\":\"2012-10-17\",\n",
    "        \"Statement\":[\n",
    "            {\n",
    "            \"Sid\":\"\",\n",
    "            \"Effect\":\"Allow\",\n",
    "            \"Principal\":{\"AWS\":\"*\"},\n",
    "            \"Action\":\"s3:GetBucketLocation\",\n",
    "            \"Resource\":\"arn:aws:s3:::mlflowruns\"\n",
    "            },\n",
    "            {\n",
    "            \"Sid\":\"\",\n",
    "            \"Effect\":\"Allow\",\n",
    "            \"Principal\":{\"AWS\":\"*\"},\n",
    "            \"Action\":\"s3:ListBucket\",\n",
    "            \"Resource\":\"arn:aws:s3:::mlflowruns\"\n",
    "            },\n",
    "            {\n",
    "            \"Sid\":\"\",\n",
    "            \"Effect\":\"Allow\",\n",
    "            \"Principal\":{\"AWS\":\"*\"},\n",
    "            \"Action\":\"s3:GetObject\",\n",
    "            \"Resource\":\"arn:aws:s3:::mlflowruns/*\"\n",
    "            },\n",
    "            {\n",
    "            \"Sid\":\"\",\n",
    "            \"Effect\":\"Allow\",\n",
    "            \"Principal\":{\"AWS\":\"*\"},\n",
    "            \"Action\":\"s3:PutObject\",\n",
    "            \"Resource\":\"arn:aws:s3:::mlflowruns/*\"\n",
    "            }\n",
    "\n",
    "        ]}\n",
    "\n",
    "    minioClient.set_bucket_policy('mlflowruns', json.dumps(policy))\n",
    "\n",
    "    # List all object paths in bucket that begin with my-prefixname.\n",
    "    objects = minioClient.list_objects('mlflowruns', prefix='',\n",
    "                              recursive=True)\n",
    "    for obj in objects:\n",
    "        print(obj.bucket_name, obj.object_name.encode('utf-8'), obj.last_modified,\n",
    "            obj.etag, obj.size, obj.content_type)"
   ]
  },
  {
   "cell_type": "code",
   "execution_count": 6,
   "metadata": {
    "execution": {
     "iopub.execute_input": "2021-02-04T19:08:04.690897Z",
     "iopub.status.busy": "2021-02-04T19:08:04.689768Z",
     "iopub.status.idle": "2021-02-04T19:08:04.860203Z",
     "shell.execute_reply": "2021-02-04T19:08:04.857349Z"
    },
    "papermill": {
     "duration": 0.195665,
     "end_time": "2021-02-04T19:08:04.860410",
     "exception": false,
     "start_time": "2021-02-04T19:08:04.664745",
     "status": "completed"
    },
    "tags": []
   },
   "outputs": [
    {
     "name": "stdout",
     "output_type": "stream",
     "text": [
      "[<minio.definitions.Bucket object at 0x7f78b0761790>, <minio.definitions.Bucket object at 0x7f78b0761750>]\n",
      "mlflowruns 2021-02-04 19:05:53.508000+00:00\n",
      "test 2021-02-02 14:13:35.144000+00:00\n",
      "mlflowruns b'28ee189c162949abbaa64eec55bd905b/artifacts/model/MLmodel' 2021-02-04 19:05:59.748000+00:00 e0a7ff525cdc70acd650ea91da054877 334 None\n",
      "mlflowruns b'28ee189c162949abbaa64eec55bd905b/artifacts/model/conda.yaml' 2021-02-04 19:05:59.768000+00:00 5598bd313c9c3bce2fc3b45242a6c3a9 142 None\n",
      "mlflowruns b'28ee189c162949abbaa64eec55bd905b/artifacts/model/data/keras_module.txt' 2021-02-04 19:05:59.908000+00:00 65daa80bd048be9a6b0b2f1ba806122a 16 None\n",
      "mlflowruns b'28ee189c162949abbaa64eec55bd905b/artifacts/model/data/model.h5' 2021-02-04 19:05:59.888000+00:00 5137d36ea0c0909f4bf2577091ec5256 237336 None\n",
      "mlflowruns b'28ee189c162949abbaa64eec55bd905b/artifacts/model/data/save_format.txt' 2021-02-04 19:05:59.928000+00:00 77230e94b5cd88d51a872031531bfecd 2 None\n",
      "mlflowruns b'28ee189c162949abbaa64eec55bd905b/artifacts/model_summary.txt' 2021-02-04 19:05:53.508000+00:00 0ec019d598cea852e99a631604082a98 1013 None\n",
      "mlflowruns b'28ee189c162949abbaa64eec55bd905b/artifacts/tensorboard_logs/train/events.out.tfevents.1612465555.44bf8680a255.1215.190.v2' 2021-02-04 19:06:00.098000+00:00 e146de25c9e2945dec16be60e764a1df 56973 None\n",
      "mlflowruns b'28ee189c162949abbaa64eec55bd905b/artifacts/tensorboard_logs/train/events.out.tfevents.1612465556.44bf8680a255.profile-empty' 2021-02-04 19:06:00.038000+00:00 919f337dd6f13101c58e6276dddb0941 40 None\n",
      "mlflowruns b'28ee189c162949abbaa64eec55bd905b/artifacts/tensorboard_logs/train/plugins/profile/2021_02_04_19_05_56/44bf8680a255.input_pipeline.pb' 2021-02-04 19:07:01.129000+00:00 08fb1b28dc713293e7f93bd582f6dfb5 3349 None\n",
      "mlflowruns b'28ee189c162949abbaa64eec55bd905b/artifacts/tensorboard_logs/train/plugins/profile/2021_02_04_19_05_56/44bf8680a255.kernel_stats.pb' 2021-02-04 19:06:00.298000+00:00 d41d8cd98f00b204e9800998ecf8427e 0 None\n",
      "mlflowruns b'28ee189c162949abbaa64eec55bd905b/artifacts/tensorboard_logs/train/plugins/profile/2021_02_04_19_05_56/44bf8680a255.memory_profile.json.gz' 2021-02-04 19:06:00.258000+00:00 f8bb2fca0ae6fc5aefe19b2573db809f 73 None\n",
      "mlflowruns b'28ee189c162949abbaa64eec55bd905b/artifacts/tensorboard_logs/train/plugins/profile/2021_02_04_19_05_56/44bf8680a255.overview_page.pb' 2021-02-04 19:07:01.159000+00:00 39841bc756f7d5c6bfa6ec4c5fb9eaf3 4464 None\n",
      "mlflowruns b'28ee189c162949abbaa64eec55bd905b/artifacts/tensorboard_logs/train/plugins/profile/2021_02_04_19_05_56/44bf8680a255.tensorflow_stats.pb' 2021-02-04 19:06:00.218000+00:00 e01603090965210abca5be76aa290edf 30632 None\n",
      "mlflowruns b'28ee189c162949abbaa64eec55bd905b/artifacts/tensorboard_logs/train/plugins/profile/2021_02_04_19_05_56/44bf8680a255.trace.json.gz' 2021-02-04 19:06:00.178000+00:00 7b612fbfe3d5f50fd85547dab5ba4777 4710 None\n",
      "mlflowruns b'28ee189c162949abbaa64eec55bd905b/artifacts/tensorboard_logs/train/plugins/profile/2021_02_04_19_05_56/44bf8680a255.xplane.pb' 2021-02-04 19:06:00.138000+00:00 d7bccc95e25c1b46b265bd896e136143 17035 None\n",
      "mlflowruns b'f5127409bec145d7aad8ff0fd2b51ab6/artifacts/model/MLmodel' 2021-02-04 19:04:12.068000+00:00 967993bf8173d44fc64ddb5d102d5ad7 334 None\n",
      "mlflowruns b'f5127409bec145d7aad8ff0fd2b51ab6/artifacts/model/conda.yaml' 2021-02-04 19:04:12.108000+00:00 5598bd313c9c3bce2fc3b45242a6c3a9 142 None\n",
      "mlflowruns b'f5127409bec145d7aad8ff0fd2b51ab6/artifacts/model/data/keras_module.txt' 2021-02-04 19:04:12.318000+00:00 65daa80bd048be9a6b0b2f1ba806122a 16 None\n",
      "mlflowruns b'f5127409bec145d7aad8ff0fd2b51ab6/artifacts/model/data/model.h5' 2021-02-04 19:04:12.238000+00:00 c73b7fb553d73d019dc6ce79848762ca 237336 None\n",
      "mlflowruns b'f5127409bec145d7aad8ff0fd2b51ab6/artifacts/model/data/save_format.txt' 2021-02-04 19:04:12.358000+00:00 77230e94b5cd88d51a872031531bfecd 2 None\n",
      "mlflowruns b'f5127409bec145d7aad8ff0fd2b51ab6/artifacts/model_summary.txt' 2021-02-04 19:04:06.438000+00:00 0ec019d598cea852e99a631604082a98 1013 None\n",
      "mlflowruns b'f5127409bec145d7aad8ff0fd2b51ab6/artifacts/tensorboard_logs/train/events.out.tfevents.1612465448.44bf8680a255.1096.190.v2' 2021-02-04 19:04:12.578000+00:00 7f8f73871a8e429ad4408ea8e70cb374 56973 None\n",
      "mlflowruns b'f5127409bec145d7aad8ff0fd2b51ab6/artifacts/tensorboard_logs/train/events.out.tfevents.1612465449.44bf8680a255.profile-empty' 2021-02-04 19:04:12.508000+00:00 e9a3b54ce0bcde64a1011755001a9309 40 None\n",
      "mlflowruns b'f5127409bec145d7aad8ff0fd2b51ab6/artifacts/tensorboard_logs/train/plugins/profile/2021_02_04_19_04_09/44bf8680a255.input_pipeline.pb' 2021-02-04 19:05:13.808000+00:00 44550124753376396238a720ab5c69ca 3220 None\n",
      "mlflowruns b'f5127409bec145d7aad8ff0fd2b51ab6/artifacts/tensorboard_logs/train/plugins/profile/2021_02_04_19_04_09/44bf8680a255.kernel_stats.pb' 2021-02-04 19:04:12.818000+00:00 d41d8cd98f00b204e9800998ecf8427e 0 None\n",
      "mlflowruns b'f5127409bec145d7aad8ff0fd2b51ab6/artifacts/tensorboard_logs/train/plugins/profile/2021_02_04_19_04_09/44bf8680a255.memory_profile.json.gz' 2021-02-04 19:04:12.798000+00:00 f8bb2fca0ae6fc5aefe19b2573db809f 73 None\n",
      "mlflowruns b'f5127409bec145d7aad8ff0fd2b51ab6/artifacts/tensorboard_logs/train/plugins/profile/2021_02_04_19_04_09/44bf8680a255.overview_page.pb' 2021-02-04 19:05:13.838000+00:00 ed4dbfce26f2bee151ff428810ca946b 4380 None\n",
      "mlflowruns b'f5127409bec145d7aad8ff0fd2b51ab6/artifacts/tensorboard_logs/train/plugins/profile/2021_02_04_19_04_09/44bf8680a255.tensorflow_stats.pb' 2021-02-04 19:04:12.748000+00:00 857b07e1cffa3dbcac8d4f07b44e3576 30632 None\n",
      "mlflowruns b'f5127409bec145d7aad8ff0fd2b51ab6/artifacts/tensorboard_logs/train/plugins/profile/2021_02_04_19_04_09/44bf8680a255.trace.json.gz' 2021-02-04 19:04:12.688000+00:00 e50b2538857a609b55b29164f9746cb2 4774 None\n",
      "mlflowruns b'f5127409bec145d7aad8ff0fd2b51ab6/artifacts/tensorboard_logs/train/plugins/profile/2021_02_04_19_04_09/44bf8680a255.xplane.pb' 2021-02-04 19:04:12.638000+00:00 b5b6cb7df7117c91c023b71eabbbca4c 17197 None\n"
     ]
    }
   ],
   "source": [
    "create_s3_bucket()"
   ]
  }
 ],
 "metadata": {
  "kernelspec": {
   "display_name": "Python 3",
   "language": "python",
   "name": "python3"
  },
  "language_info": {
   "codemirror_mode": {
    "name": "ipython",
    "version": 3
   },
   "file_extension": ".py",
   "mimetype": "text/x-python",
   "name": "python",
   "nbconvert_exporter": "python",
   "pygments_lexer": "ipython3",
   "version": "3.7.4"
  },
  "papermill": {
   "default_parameters": {},
   "duration": 7.090697,
   "end_time": "2021-02-04T19:08:06.139417",
   "environment_variables": {},
   "exception": null,
   "input_path": "/home/jovyan/work/chatbot_train/s3_setup.ipynb",
   "output_path": "/home/jovyan/work/chatbot_train/s3_setup.ipynb",
   "parameters": {},
   "start_time": "2021-02-04T19:07:59.048720",
   "version": "2.2.2"
  }
 },
 "nbformat": 4,
 "nbformat_minor": 4
}