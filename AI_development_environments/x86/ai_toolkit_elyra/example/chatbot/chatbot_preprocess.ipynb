{
 "cells": [
  {
   "cell_type": "code",
   "execution_count": 1,
   "metadata": {
    "execution": {
     "iopub.execute_input": "2021-02-04T19:07:58.576868Z",
     "iopub.status.busy": "2021-02-04T19:07:58.563676Z",
     "iopub.status.idle": "2021-02-04T19:07:58.614671Z",
     "shell.execute_reply": "2021-02-04T19:07:58.613422Z"
    },
    "papermill": {
     "duration": 0.100319,
     "end_time": "2021-02-04T19:07:58.614962",
     "exception": false,
     "start_time": "2021-02-04T19:07:58.514643",
     "status": "completed"
    },
    "tags": []
   },
   "outputs": [
    {
     "name": "stdout",
     "output_type": "stream",
     "text": [
      "Overwriting intents.json\n"
     ]
    }
   ],
   "source": [
    "%%writefile intents.json\n",
    "{\"intents\": [\n",
    "    {\"tag\": \"greeting\",\n",
    "     \"patterns\": [\"Hi\", \"Hey\", \"Is anyone there?\", \"Hello\", \"Hay\"],\n",
    "     \"responses\": [\"Hello\", \"Hi\", \"Hi there\"]\n",
    "    },\n",
    "    {\"tag\": \"goodbye\",\n",
    "     \"patterns\": [\"Bye\", \"See you later\", \"Goodbye\"],\n",
    "     \"responses\": [\"See you later\", \"Have a nice day\", \"Bye! Come back again\"]\n",
    "    },\n",
    "    {\"tag\": \"thanks\",\n",
    "     \"patterns\": [\"Thanks\", \"Thank you\", \"That's helpful\", \"Thanks for the help\"],\n",
    "     \"responses\": [\"Happy to help!\", \"Any time!\", \"My pleasure\", \"You're most welcome!\"]\n",
    "    },\n",
    "    {\"tag\": \"about\",\n",
    "     \"patterns\": [\"Who are you?\", \"What are you?\", \"Who you are?\" ],\n",
    "     \"responses\": [\"I.m Joana, your bot assistant\", \"I'm Joana, an Artificial Intelligent bot\"]\n",
    "    },\n",
    "    {\"tag\": \"name\",\n",
    "    \"patterns\": [\"what is your name\", \"what should I call you\", \"whats your name?\"],\n",
    "    \"responses\": [\"You can call me Joana.\", \"I'm Joana!\", \"Just call me as Joana\"]\n",
    "    },\n",
    "    {\"tag\": \"help\",\n",
    "    \"patterns\": [\"Could you help me?\", \"give me a hand please\", \"Can you help?\", \"What can you do for me?\", \"I need a support\", \"I need a help\", \"support me please\"],\n",
    "    \"responses\": [\"Tell me how can assist you\", \"Tell me your problem to assist you\", \"Yes Sure, How can I support you\"]\n",
    "    },\n",
    "    {\"tag\": \"createaccount\",\n",
    "    \"patterns\": [\"I need to create a new account\", \"how to open a new account\", \"I want to create an account\", \"can you create an account for me\", \"how to open a new account\"],\n",
    "    \"responses\": [\"You can just easily create a new account from our web site\", \"Just go to our web site and follow the guidelines to create a new account\"]\n",
    "    },\n",
    "    {\"tag\": \"complaint\",\n",
    "    \"patterns\": [\"have a complaint\", \"I want to raise a complaint\", \"there is a complaint about a service\"],\n",
    "    \"responses\": [\"Please provide us your complaint in order to assist you\", \"Please mention your complaint, we will reach you and sorry for any inconvenience caused\"]\n",
    "    }\n",
    "]\n",
    "}"
   ]
  }
 ],
 "metadata": {
  "kernelspec": {
   "display_name": "Python 3",
   "language": "python",
   "name": "python3"
  },
  "language_info": {
   "codemirror_mode": {
    "name": "ipython",
    "version": 3
   },
   "file_extension": ".py",
   "mimetype": "text/x-python",
   "name": "python",
   "nbconvert_exporter": "python",
   "pygments_lexer": "ipython3",
   "version": "3.7.4"
  },
  "papermill": {
   "default_parameters": {},
   "duration": 1.312215,
   "end_time": "2021-02-04T19:07:58.949680",
   "environment_variables": {},
   "exception": null,
   "input_path": "/home/jovyan/work/chatbot_train/chatbot_preprocess.ipynb",
   "output_path": "/home/jovyan/work/chatbot_train/chatbot_preprocess.ipynb",
   "parameters": {},
   "start_time": "2021-02-04T19:07:57.637465",
   "version": "2.2.2"
  }
 },
 "nbformat": 4,
 "nbformat_minor": 4
}