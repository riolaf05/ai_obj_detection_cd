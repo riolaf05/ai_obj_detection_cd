{
 "cells": [
  {
   "cell_type": "code",
   "execution_count": 1,
   "metadata": {
    "execution": {
     "iopub.execute_input": "2020-12-04T14:56:16.018514Z",
     "iopub.status.busy": "2020-12-04T14:56:16.016420Z",
     "iopub.status.idle": "2020-12-04T14:56:16.039952Z",
     "shell.execute_reply": "2020-12-04T14:56:16.041438Z"
    },
    "papermill": {
     "duration": 0.061261,
     "end_time": "2020-12-04T14:56:16.042003",
     "exception": false,
     "start_time": "2020-12-04T14:56:15.980742",
     "status": "completed"
    },
    "tags": []
   },
   "outputs": [
    {
     "name": "stdout",
     "output_type": "stream",
     "text": [
      "Overwriting requirements.txt\n"
     ]
    }
   ],
   "source": [
    "%%writefile requirements.txt\n",
    "mlflow==1.10.0\n",
    "minio\n",
    "boto3==1.9.240"
   ]
  },
  {
   "cell_type": "code",
   "execution_count": 2,
   "metadata": {
    "execution": {
     "iopub.execute_input": "2020-12-04T14:56:16.101152Z",
     "iopub.status.busy": "2020-12-04T14:56:16.098643Z",
     "iopub.status.idle": "2020-12-04T14:56:20.312788Z",
     "shell.execute_reply": "2020-12-04T14:56:20.309840Z"
    },
    "papermill": {
     "duration": 4.24505,
     "end_time": "2020-12-04T14:56:20.313894",
     "exception": false,
     "start_time": "2020-12-04T14:56:16.068844",
     "status": "completed"
    },
    "tags": []
   },
   "outputs": [
    {
     "name": "stdout",
     "output_type": "stream",
     "text": [
      "Requirement already satisfied: mlflow==1.10.0 in /opt/conda/lib/python3.7/site-packages (from -r requirements.txt (line 1)) (1.10.0)\r\n"
     ]
    },
    {
     "name": "stdout",
     "output_type": "stream",
     "text": [
      "Requirement already satisfied: minio in /opt/conda/lib/python3.7/site-packages (from -r requirements.txt (line 2)) (6.0.0)\r\n"
     ]
    },
    {
     "name": "stdout",
     "output_type": "stream",
     "text": [
      "Requirement already satisfied: boto3==1.9.240 in /opt/conda/lib/python3.7/site-packages (from -r requirements.txt (line 3)) (1.9.240)\r\n",
      "Requirement already satisfied: six>=1.10.0 in /opt/conda/lib/python3.7/site-packages (from mlflow==1.10.0->-r requirements.txt (line 1)) (1.15.0)\r\n",
      "Requirement already satisfied: alembic in /opt/conda/lib/python3.7/site-packages (from mlflow==1.10.0->-r requirements.txt (line 1)) (1.3.3)\r\n",
      "Requirement already satisfied: docker>=4.0.0 in /opt/conda/lib/python3.7/site-packages (from mlflow==1.10.0->-r requirements.txt (line 1)) (4.4.0)\r\n"
     ]
    },
    {
     "name": "stdout",
     "output_type": "stream",
     "text": [
      "Requirement already satisfied: prometheus-flask-exporter in /opt/conda/lib/python3.7/site-packages (from mlflow==1.10.0->-r requirements.txt (line 1)) (0.18.1)\r\n",
      "Requirement already satisfied: protobuf>=3.6.0 in /opt/conda/lib/python3.7/site-packages (from mlflow==1.10.0->-r requirements.txt (line 1)) (3.14.0)\r\n",
      "Requirement already satisfied: requests>=2.17.3 in /opt/conda/lib/python3.7/site-packages (from mlflow==1.10.0->-r requirements.txt (line 1)) (2.25.0)\r\n"
     ]
    },
    {
     "name": "stdout",
     "output_type": "stream",
     "text": [
      "Requirement already satisfied: azure-storage-blob>=12.0 in /opt/conda/lib/python3.7/site-packages (from mlflow==1.10.0->-r requirements.txt (line 1)) (12.6.0)\r\n",
      "Requirement already satisfied: click>=7.0 in /opt/conda/lib/python3.7/site-packages (from mlflow==1.10.0->-r requirements.txt (line 1)) (7.1.2)\r\n",
      "Requirement already satisfied: sqlalchemy<=1.3.13 in /opt/conda/lib/python3.7/site-packages (from mlflow==1.10.0->-r requirements.txt (line 1)) (1.3.13)\r\n",
      "Requirement already satisfied: gorilla in /opt/conda/lib/python3.7/site-packages (from mlflow==1.10.0->-r requirements.txt (line 1)) (0.3.0)\r\n",
      "Requirement already satisfied: cloudpickle in /opt/conda/lib/python3.7/site-packages (from mlflow==1.10.0->-r requirements.txt (line 1)) (1.6.0)\r\n",
      "Requirement already satisfied: python-dateutil in /opt/conda/lib/python3.7/site-packages (from mlflow==1.10.0->-r requirements.txt (line 1)) (2.8.1)\r\n"
     ]
    },
    {
     "name": "stdout",
     "output_type": "stream",
     "text": [
      "Requirement already satisfied: databricks-cli>=0.8.7 in /opt/conda/lib/python3.7/site-packages (from mlflow==1.10.0->-r requirements.txt (line 1)) (0.14.1)\r\n",
      "Requirement already satisfied: gunicorn; platform_system != \"Windows\" in /opt/conda/lib/python3.7/site-packages (from mlflow==1.10.0->-r requirements.txt (line 1)) (20.0.4)\r\n",
      "Requirement already satisfied: sqlparse in /opt/conda/lib/python3.7/site-packages (from mlflow==1.10.0->-r requirements.txt (line 1)) (0.4.1)\r\n",
      "Requirement already satisfied: pyyaml in /opt/conda/lib/python3.7/site-packages (from mlflow==1.10.0->-r requirements.txt (line 1)) (5.3.1)\r\n",
      "Requirement already satisfied: numpy in /opt/conda/lib/python3.7/site-packages (from mlflow==1.10.0->-r requirements.txt (line 1)) (1.19.4)\r\n",
      "Requirement already satisfied: gitpython>=2.1.0 in /opt/conda/lib/python3.7/site-packages (from mlflow==1.10.0->-r requirements.txt (line 1)) (3.1.11)\r\n",
      "Requirement already satisfied: querystring-parser in /opt/conda/lib/python3.7/site-packages (from mlflow==1.10.0->-r requirements.txt (line 1)) (1.2.4)\r\n",
      "Requirement already satisfied: entrypoints in /opt/conda/lib/python3.7/site-packages (from mlflow==1.10.0->-r requirements.txt (line 1)) (0.3)\r\n",
      "Requirement already satisfied: Flask in /opt/conda/lib/python3.7/site-packages (from mlflow==1.10.0->-r requirements.txt (line 1)) (1.1.2)\r\n"
     ]
    },
    {
     "name": "stdout",
     "output_type": "stream",
     "text": [
      "Requirement already satisfied: pandas in /opt/conda/lib/python3.7/site-packages (from mlflow==1.10.0->-r requirements.txt (line 1)) (1.1.4)\r\n",
      "Requirement already satisfied: configparser in /opt/conda/lib/python3.7/site-packages (from minio->-r requirements.txt (line 2)) (5.0.1)\r\n",
      "Requirement already satisfied: certifi in /opt/conda/lib/python3.7/site-packages (from minio->-r requirements.txt (line 2)) (2020.11.8)\r\n",
      "Requirement already satisfied: pytz in /opt/conda/lib/python3.7/site-packages (from minio->-r requirements.txt (line 2)) (2020.4)\r\n",
      "Requirement already satisfied: urllib3 in /opt/conda/lib/python3.7/site-packages (from minio->-r requirements.txt (line 2)) (1.26.2)\r\n"
     ]
    },
    {
     "name": "stdout",
     "output_type": "stream",
     "text": [
      "Requirement already satisfied: s3transfer<0.3.0,>=0.2.0 in /opt/conda/lib/python3.7/site-packages (from boto3==1.9.240->-r requirements.txt (line 3)) (0.2.1)\r\n",
      "Requirement already satisfied: jmespath<1.0.0,>=0.7.1 in /opt/conda/lib/python3.7/site-packages (from boto3==1.9.240->-r requirements.txt (line 3)) (0.10.0)\r\n",
      "Requirement already satisfied: botocore<1.13.0,>=1.12.240 in /opt/conda/lib/python3.7/site-packages (from boto3==1.9.240->-r requirements.txt (line 3)) (1.12.253)\r\n"
     ]
    },
    {
     "name": "stdout",
     "output_type": "stream",
     "text": [
      "Requirement already satisfied: Mako in /opt/conda/lib/python3.7/site-packages (from alembic->mlflow==1.10.0->-r requirements.txt (line 1)) (1.1.0)\r\n",
      "Requirement already satisfied: python-editor>=0.3 in /opt/conda/lib/python3.7/site-packages (from alembic->mlflow==1.10.0->-r requirements.txt (line 1)) (1.0.4)\r\n",
      "Requirement already satisfied: websocket-client>=0.32.0 in /opt/conda/lib/python3.7/site-packages (from docker>=4.0.0->mlflow==1.10.0->-r requirements.txt (line 1)) (0.57.0)\r\n",
      "Requirement already satisfied: prometheus-client in /opt/conda/lib/python3.7/site-packages (from prometheus-flask-exporter->mlflow==1.10.0->-r requirements.txt (line 1)) (0.9.0)\r\n",
      "Requirement already satisfied: chardet<4,>=3.0.2 in /opt/conda/lib/python3.7/site-packages (from requests>=2.17.3->mlflow==1.10.0->-r requirements.txt (line 1)) (3.0.4)\r\n",
      "Requirement already satisfied: idna<3,>=2.5 in /opt/conda/lib/python3.7/site-packages (from requests>=2.17.3->mlflow==1.10.0->-r requirements.txt (line 1)) (2.10)\r\n",
      "Requirement already satisfied: cryptography>=2.1.4 in /opt/conda/lib/python3.7/site-packages (from azure-storage-blob>=12.0->mlflow==1.10.0->-r requirements.txt (line 1)) (3.2.1)\r\n"
     ]
    },
    {
     "name": "stdout",
     "output_type": "stream",
     "text": [
      "Requirement already satisfied: azure-core<2.0.0,>=1.9.0 in /opt/conda/lib/python3.7/site-packages (from azure-storage-blob>=12.0->mlflow==1.10.0->-r requirements.txt (line 1)) (1.9.0)\r\n"
     ]
    },
    {
     "name": "stdout",
     "output_type": "stream",
     "text": [
      "Requirement already satisfied: msrest>=0.6.10 in /opt/conda/lib/python3.7/site-packages (from azure-storage-blob>=12.0->mlflow==1.10.0->-r requirements.txt (line 1)) (0.6.19)\r\n",
      "Requirement already satisfied: tabulate>=0.7.7 in /opt/conda/lib/python3.7/site-packages (from databricks-cli>=0.8.7->mlflow==1.10.0->-r requirements.txt (line 1)) (0.8.7)\r\n",
      "Requirement already satisfied: setuptools>=3.0 in /opt/conda/lib/python3.7/site-packages (from gunicorn; platform_system != \"Windows\"->mlflow==1.10.0->-r requirements.txt (line 1)) (50.3.2)\r\n"
     ]
    },
    {
     "name": "stdout",
     "output_type": "stream",
     "text": [
      "Requirement already satisfied: gitdb<5,>=4.0.1 in /opt/conda/lib/python3.7/site-packages (from gitpython>=2.1.0->mlflow==1.10.0->-r requirements.txt (line 1)) (4.0.5)\r\n",
      "Requirement already satisfied: Werkzeug>=0.15 in /opt/conda/lib/python3.7/site-packages (from Flask->mlflow==1.10.0->-r requirements.txt (line 1)) (1.0.1)\r\n",
      "Requirement already satisfied: itsdangerous>=0.24 in /opt/conda/lib/python3.7/site-packages (from Flask->mlflow==1.10.0->-r requirements.txt (line 1)) (1.1.0)\r\n",
      "Requirement already satisfied: Jinja2>=2.10.1 in /opt/conda/lib/python3.7/site-packages (from Flask->mlflow==1.10.0->-r requirements.txt (line 1)) (2.11.2)\r\n"
     ]
    },
    {
     "name": "stdout",
     "output_type": "stream",
     "text": [
      "Requirement already satisfied: docutils<0.16,>=0.10 in /opt/conda/lib/python3.7/site-packages (from botocore<1.13.0,>=1.12.240->boto3==1.9.240->-r requirements.txt (line 3)) (0.15.2)\r\n",
      "Requirement already satisfied: MarkupSafe>=0.9.2 in /opt/conda/lib/python3.7/site-packages (from Mako->alembic->mlflow==1.10.0->-r requirements.txt (line 1)) (1.1.1)\r\n",
      "Requirement already satisfied: cffi!=1.11.3,>=1.8 in /opt/conda/lib/python3.7/site-packages (from cryptography>=2.1.4->azure-storage-blob>=12.0->mlflow==1.10.0->-r requirements.txt (line 1)) (1.14.3)\r\n",
      "Requirement already satisfied: requests-oauthlib>=0.5.0 in /opt/conda/lib/python3.7/site-packages (from msrest>=0.6.10->azure-storage-blob>=12.0->mlflow==1.10.0->-r requirements.txt (line 1)) (1.3.0)\r\n",
      "Requirement already satisfied: isodate>=0.6.0 in /opt/conda/lib/python3.7/site-packages (from msrest>=0.6.10->azure-storage-blob>=12.0->mlflow==1.10.0->-r requirements.txt (line 1)) (0.6.0)\r\n",
      "Requirement already satisfied: smmap<4,>=3.0.1 in /opt/conda/lib/python3.7/site-packages (from gitdb<5,>=4.0.1->gitpython>=2.1.0->mlflow==1.10.0->-r requirements.txt (line 1)) (3.0.4)\r\n",
      "Requirement already satisfied: pycparser in /opt/conda/lib/python3.7/site-packages (from cffi!=1.11.3,>=1.8->cryptography>=2.1.4->azure-storage-blob>=12.0->mlflow==1.10.0->-r requirements.txt (line 1)) (2.20)\r\n"
     ]
    },
    {
     "name": "stdout",
     "output_type": "stream",
     "text": [
      "Requirement already satisfied: oauthlib>=3.0.0 in /opt/conda/lib/python3.7/site-packages (from requests-oauthlib>=0.5.0->msrest>=0.6.10->azure-storage-blob>=12.0->mlflow==1.10.0->-r requirements.txt (line 1)) (3.1.0)\r\n"
     ]
    },
    {
     "name": "stdout",
     "output_type": "stream",
     "text": [
      "\u001b[33mWARNING: You are using pip version 20.2.4; however, version 20.3.1 is available.\r\n",
      "You should consider upgrading via the '/opt/conda/bin/python -m pip install --upgrade pip' command.\u001b[0m\r\n"
     ]
    }
   ],
   "source": [
    "!pip3 install -r requirements.txt"
   ]
  },
  {
   "cell_type": "code",
   "execution_count": 3,
   "metadata": {
    "execution": {
     "iopub.execute_input": "2020-12-04T14:56:20.404573Z",
     "iopub.status.busy": "2020-12-04T14:56:20.396068Z",
     "iopub.status.idle": "2020-12-04T14:56:20.405769Z",
     "shell.execute_reply": "2020-12-04T14:56:20.406815Z"
    },
    "papermill": {
     "duration": 0.053816,
     "end_time": "2020-12-04T14:56:20.407124",
     "exception": false,
     "start_time": "2020-12-04T14:56:20.353308",
     "status": "completed"
    },
    "tags": []
   },
   "outputs": [],
   "source": [
    "data_dir = \"data/fire_detection/binary_dataset\""
   ]
  },
  {
   "cell_type": "code",
   "execution_count": 4,
   "metadata": {
    "execution": {
     "iopub.execute_input": "2020-12-04T14:56:20.493708Z",
     "iopub.status.busy": "2020-12-04T14:56:20.491575Z",
     "iopub.status.idle": "2020-12-04T14:56:22.803930Z",
     "shell.execute_reply": "2020-12-04T14:56:22.797952Z"
    },
    "papermill": {
     "duration": 2.366628,
     "end_time": "2020-12-04T14:56:22.804654",
     "exception": false,
     "start_time": "2020-12-04T14:56:20.438026",
     "status": "completed"
    },
    "tags": []
   },
   "outputs": [],
   "source": [
    "%mkdir -p fire_detection/positive/train\n",
    "%mkdir -p fire_detection/positive/validation\n",
    "%mkdir -p fire_detection/negative/train\n",
    "%mkdir -p fire_detection/negative/validation"
   ]
  },
  {
   "cell_type": "code",
   "execution_count": 5,
   "metadata": {
    "execution": {
     "iopub.execute_input": "2020-12-04T14:56:22.865535Z",
     "iopub.status.busy": "2020-12-04T14:56:22.864684Z",
     "iopub.status.idle": "2020-12-04T14:56:23.349039Z",
     "shell.execute_reply": "2020-12-04T14:56:23.346957Z"
    },
    "papermill": {
     "duration": 0.515023,
     "end_time": "2020-12-04T14:56:23.349468",
     "exception": false,
     "start_time": "2020-12-04T14:56:22.834445",
     "status": "completed"
    },
    "tags": []
   },
   "outputs": [],
   "source": [
    "![[ ! -d 'fire_detection' ]] && cp -r '{data_dir}'/train/positives/* fire_detection/positive/train/ \\\n",
    "  && cp -r '{data_dir}'/validation/positives/* fire_detection/positive/validation/ \\\n",
    "  && cp -r '{data_dir}'/train/negatives/* fire_detection/negative/train/ \\\n",
    "  && cp -r '{data_dir}'/validation/negatives/* fire_detection/negative/validation/"
   ]
  },
  {
   "cell_type": "code",
   "execution_count": null,
   "metadata": {
    "papermill": {
     "duration": 0.017377,
     "end_time": "2020-12-04T14:56:23.391586",
     "exception": false,
     "start_time": "2020-12-04T14:56:23.374209",
     "status": "completed"
    },
    "tags": []
   },
   "outputs": [],
   "source": []
  }
 ],
 "metadata": {
  "kernelspec": {
   "display_name": "Python 3",
   "language": "python",
   "name": "python3"
  },
  "language_info": {
   "codemirror_mode": {
    "name": "ipython",
    "version": 3
   },
   "file_extension": ".py",
   "mimetype": "text/x-python",
   "name": "python",
   "nbconvert_exporter": "python",
   "pygments_lexer": "ipython3",
   "version": "3.7.4"
  },
  "papermill": {
   "default_parameters": {},
   "duration": 10.091763,
   "end_time": "2020-12-04T14:56:24.667262",
   "environment_variables": {},
   "exception": null,
   "input_path": "/home/jovyan/work/preprocess.ipynb",
   "output_path": "/home/jovyan/work/preprocess.ipynb",
   "parameters": {},
   "start_time": "2020-12-04T14:56:14.575499",
   "version": "2.2.2"
  }
 },
 "nbformat": 4,
 "nbformat_minor": 4
}