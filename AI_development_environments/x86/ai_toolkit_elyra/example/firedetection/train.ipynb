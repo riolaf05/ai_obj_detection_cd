{
 "cells": [
  {
   "cell_type": "code",
   "execution_count": 1,
   "metadata": {
    "execution": {
     "iopub.execute_input": "2020-12-04T14:56:25.857461Z",
     "iopub.status.busy": "2020-12-04T14:56:25.853136Z",
     "iopub.status.idle": "2020-12-04T14:56:28.729330Z",
     "shell.execute_reply": "2020-12-04T14:56:28.733671Z"
    },
    "papermill": {
     "duration": 2.936764,
     "end_time": "2020-12-04T14:56:28.735849",
     "exception": false,
     "start_time": "2020-12-04T14:56:25.799085",
     "status": "completed"
    },
    "tags": []
   },
   "outputs": [
    {
     "name": "stdout",
     "output_type": "stream",
     "text": [
      "Requirement already satisfied: tensorflow==2.3.0 in /opt/conda/lib/python3.7/site-packages (2.3.0)\r\n"
     ]
    },
    {
     "name": "stdout",
     "output_type": "stream",
     "text": [
      "Requirement already satisfied: tensorflow_hub==0.10.0 in /opt/conda/lib/python3.7/site-packages (0.10.0)\r\n",
      "Requirement already satisfied: matplotlib in /opt/conda/lib/python3.7/site-packages (3.3.3)\r\n"
     ]
    },
    {
     "name": "stdout",
     "output_type": "stream",
     "text": [
      "Requirement already satisfied: numpy in /opt/conda/lib/python3.7/site-packages (1.19.4)\r\n",
      "Requirement already satisfied: mlflow==1.10.0 in /opt/conda/lib/python3.7/site-packages (1.10.0)\r\n",
      "Requirement already satisfied: minio in /opt/conda/lib/python3.7/site-packages (6.0.0)\r\n",
      "Requirement already satisfied: boto3==1.9.240 in /opt/conda/lib/python3.7/site-packages (1.9.240)\r\n"
     ]
    },
    {
     "name": "stdout",
     "output_type": "stream",
     "text": [
      "Requirement already satisfied: tensorboard<3,>=2.3.0 in /opt/conda/lib/python3.7/site-packages (from tensorflow==2.3.0) (2.4.0)\r\n",
      "Requirement already satisfied: google-pasta>=0.1.8 in /opt/conda/lib/python3.7/site-packages (from tensorflow==2.3.0) (0.2.0)\r\n",
      "Requirement already satisfied: absl-py>=0.7.0 in /opt/conda/lib/python3.7/site-packages (from tensorflow==2.3.0) (0.11.0)\r\n",
      "Requirement already satisfied: astunparse==1.6.3 in /opt/conda/lib/python3.7/site-packages (from tensorflow==2.3.0) (1.6.3)\r\n",
      "Requirement already satisfied: protobuf>=3.9.2 in /opt/conda/lib/python3.7/site-packages (from tensorflow==2.3.0) (3.14.0)\r\n",
      "Requirement already satisfied: tensorflow-estimator<2.4.0,>=2.3.0 in /opt/conda/lib/python3.7/site-packages (from tensorflow==2.3.0) (2.3.0)\r\n",
      "Requirement already satisfied: grpcio>=1.8.6 in /opt/conda/lib/python3.7/site-packages (from tensorflow==2.3.0) (1.34.0)\r\n"
     ]
    },
    {
     "name": "stdout",
     "output_type": "stream",
     "text": [
      "Requirement already satisfied: keras-preprocessing<1.2,>=1.1.1 in /opt/conda/lib/python3.7/site-packages (from tensorflow==2.3.0) (1.1.2)\r\n",
      "Requirement already satisfied: scipy==1.4.1 in /opt/conda/lib/python3.7/site-packages (from tensorflow==2.3.0) (1.4.1)\r\n",
      "Requirement already satisfied: wrapt>=1.11.1 in /opt/conda/lib/python3.7/site-packages (from tensorflow==2.3.0) (1.12.1)\r\n",
      "Requirement already satisfied: wheel>=0.26 in /opt/conda/lib/python3.7/site-packages (from tensorflow==2.3.0) (0.35.1)\r\n",
      "Requirement already satisfied: six>=1.12.0 in /opt/conda/lib/python3.7/site-packages (from tensorflow==2.3.0) (1.15.0)\r\n",
      "Requirement already satisfied: h5py<2.11.0,>=2.10.0 in /opt/conda/lib/python3.7/site-packages (from tensorflow==2.3.0) (2.10.0)\r\n",
      "Requirement already satisfied: termcolor>=1.1.0 in /opt/conda/lib/python3.7/site-packages (from tensorflow==2.3.0) (1.1.0)\r\n",
      "Requirement already satisfied: gast==0.3.3 in /opt/conda/lib/python3.7/site-packages (from tensorflow==2.3.0) (0.3.3)\r\n",
      "Requirement already satisfied: opt-einsum>=2.3.2 in /opt/conda/lib/python3.7/site-packages (from tensorflow==2.3.0) (3.3.0)\r\n"
     ]
    },
    {
     "name": "stdout",
     "output_type": "stream",
     "text": [
      "Requirement already satisfied: cycler>=0.10 in /opt/conda/lib/python3.7/site-packages (from matplotlib) (0.10.0)\r\n",
      "Requirement already satisfied: kiwisolver>=1.0.1 in /opt/conda/lib/python3.7/site-packages (from matplotlib) (1.3.1)\r\n",
      "Requirement already satisfied: pyparsing!=2.0.4,!=2.1.2,!=2.1.6,>=2.0.3 in /opt/conda/lib/python3.7/site-packages (from matplotlib) (2.4.7)\r\n",
      "Requirement already satisfied: python-dateutil>=2.1 in /opt/conda/lib/python3.7/site-packages (from matplotlib) (2.8.1)\r\n",
      "Requirement already satisfied: pillow>=6.2.0 in /opt/conda/lib/python3.7/site-packages (from matplotlib) (8.0.1)\r\n",
      "Requirement already satisfied: click>=7.0 in /opt/conda/lib/python3.7/site-packages (from mlflow==1.10.0) (7.1.2)\r\n",
      "Requirement already satisfied: Flask in /opt/conda/lib/python3.7/site-packages (from mlflow==1.10.0) (1.1.2)\r\n",
      "Requirement already satisfied: requests>=2.17.3 in /opt/conda/lib/python3.7/site-packages (from mlflow==1.10.0) (2.25.0)\r\n"
     ]
    },
    {
     "name": "stdout",
     "output_type": "stream",
     "text": [
      "Requirement already satisfied: sqlparse in /opt/conda/lib/python3.7/site-packages (from mlflow==1.10.0) (0.4.1)\r\n",
      "Requirement already satisfied: prometheus-flask-exporter in /opt/conda/lib/python3.7/site-packages (from mlflow==1.10.0) (0.18.1)\r\n",
      "Requirement already satisfied: docker>=4.0.0 in /opt/conda/lib/python3.7/site-packages (from mlflow==1.10.0) (4.4.0)\r\n",
      "Requirement already satisfied: gitpython>=2.1.0 in /opt/conda/lib/python3.7/site-packages (from mlflow==1.10.0) (3.1.11)\r\n",
      "Requirement already satisfied: databricks-cli>=0.8.7 in /opt/conda/lib/python3.7/site-packages (from mlflow==1.10.0) (0.14.1)\r\n",
      "Requirement already satisfied: entrypoints in /opt/conda/lib/python3.7/site-packages (from mlflow==1.10.0) (0.3)\r\n",
      "Requirement already satisfied: azure-storage-blob>=12.0 in /opt/conda/lib/python3.7/site-packages (from mlflow==1.10.0) (12.6.0)\r\n"
     ]
    },
    {
     "name": "stdout",
     "output_type": "stream",
     "text": [
      "Requirement already satisfied: gorilla in /opt/conda/lib/python3.7/site-packages (from mlflow==1.10.0) (0.3.0)\r\n",
      "Requirement already satisfied: pandas in /opt/conda/lib/python3.7/site-packages (from mlflow==1.10.0) (1.1.4)\r\n",
      "Requirement already satisfied: alembic in /opt/conda/lib/python3.7/site-packages (from mlflow==1.10.0) (1.3.3)\r\n",
      "Requirement already satisfied: querystring-parser in /opt/conda/lib/python3.7/site-packages (from mlflow==1.10.0) (1.2.4)\r\n",
      "Requirement already satisfied: sqlalchemy<=1.3.13 in /opt/conda/lib/python3.7/site-packages (from mlflow==1.10.0) (1.3.13)\r\n"
     ]
    },
    {
     "name": "stdout",
     "output_type": "stream",
     "text": [
      "Requirement already satisfied: pyyaml in /opt/conda/lib/python3.7/site-packages (from mlflow==1.10.0) (5.3.1)\r\n",
      "Requirement already satisfied: gunicorn; platform_system != \"Windows\" in /opt/conda/lib/python3.7/site-packages (from mlflow==1.10.0) (20.0.4)\r\n",
      "Requirement already satisfied: cloudpickle in /opt/conda/lib/python3.7/site-packages (from mlflow==1.10.0) (1.6.0)\r\n",
      "Requirement already satisfied: configparser in /opt/conda/lib/python3.7/site-packages (from minio) (5.0.1)\r\n",
      "Requirement already satisfied: pytz in /opt/conda/lib/python3.7/site-packages (from minio) (2020.4)\r\n",
      "Requirement already satisfied: urllib3 in /opt/conda/lib/python3.7/site-packages (from minio) (1.26.2)\r\n"
     ]
    },
    {
     "name": "stdout",
     "output_type": "stream",
     "text": [
      "Requirement already satisfied: certifi in /opt/conda/lib/python3.7/site-packages (from minio) (2020.11.8)\r\n",
      "Requirement already satisfied: botocore<1.13.0,>=1.12.240 in /opt/conda/lib/python3.7/site-packages (from boto3==1.9.240) (1.12.253)\r\n",
      "Requirement already satisfied: jmespath<1.0.0,>=0.7.1 in /opt/conda/lib/python3.7/site-packages (from boto3==1.9.240) (0.10.0)\r\n",
      "Requirement already satisfied: s3transfer<0.3.0,>=0.2.0 in /opt/conda/lib/python3.7/site-packages (from boto3==1.9.240) (0.2.1)\r\n",
      "Requirement already satisfied: google-auth-oauthlib<0.5,>=0.4.1 in /opt/conda/lib/python3.7/site-packages (from tensorboard<3,>=2.3.0->tensorflow==2.3.0) (0.4.2)\r\n",
      "Requirement already satisfied: tensorboard-plugin-wit>=1.6.0 in /opt/conda/lib/python3.7/site-packages (from tensorboard<3,>=2.3.0->tensorflow==2.3.0) (1.7.0)\r\n",
      "Requirement already satisfied: setuptools>=41.0.0 in /opt/conda/lib/python3.7/site-packages (from tensorboard<3,>=2.3.0->tensorflow==2.3.0) (50.3.2)\r\n"
     ]
    },
    {
     "name": "stdout",
     "output_type": "stream",
     "text": [
      "Requirement already satisfied: werkzeug>=0.11.15 in /opt/conda/lib/python3.7/site-packages (from tensorboard<3,>=2.3.0->tensorflow==2.3.0) (1.0.1)\r\n",
      "Requirement already satisfied: markdown>=2.6.8 in /opt/conda/lib/python3.7/site-packages (from tensorboard<3,>=2.3.0->tensorflow==2.3.0) (3.3.3)\r\n",
      "Requirement already satisfied: google-auth<2,>=1.6.3 in /opt/conda/lib/python3.7/site-packages (from tensorboard<3,>=2.3.0->tensorflow==2.3.0) (1.23.0)\r\n"
     ]
    },
    {
     "name": "stdout",
     "output_type": "stream",
     "text": [
      "Requirement already satisfied: Jinja2>=2.10.1 in /opt/conda/lib/python3.7/site-packages (from Flask->mlflow==1.10.0) (2.11.2)\r\n",
      "Requirement already satisfied: itsdangerous>=0.24 in /opt/conda/lib/python3.7/site-packages (from Flask->mlflow==1.10.0) (1.1.0)\r\n",
      "Requirement already satisfied: idna<3,>=2.5 in /opt/conda/lib/python3.7/site-packages (from requests>=2.17.3->mlflow==1.10.0) (2.10)\r\n",
      "Requirement already satisfied: chardet<4,>=3.0.2 in /opt/conda/lib/python3.7/site-packages (from requests>=2.17.3->mlflow==1.10.0) (3.0.4)\r\n",
      "Requirement already satisfied: prometheus-client in /opt/conda/lib/python3.7/site-packages (from prometheus-flask-exporter->mlflow==1.10.0) (0.9.0)\r\n",
      "Requirement already satisfied: websocket-client>=0.32.0 in /opt/conda/lib/python3.7/site-packages (from docker>=4.0.0->mlflow==1.10.0) (0.57.0)\r\n",
      "Requirement already satisfied: gitdb<5,>=4.0.1 in /opt/conda/lib/python3.7/site-packages (from gitpython>=2.1.0->mlflow==1.10.0) (4.0.5)\r\n",
      "Requirement already satisfied: tabulate>=0.7.7 in /opt/conda/lib/python3.7/site-packages (from databricks-cli>=0.8.7->mlflow==1.10.0) (0.8.7)\r\n",
      "Requirement already satisfied: azure-core<2.0.0,>=1.9.0 in /opt/conda/lib/python3.7/site-packages (from azure-storage-blob>=12.0->mlflow==1.10.0) (1.9.0)\r\n",
      "Requirement already satisfied: msrest>=0.6.10 in /opt/conda/lib/python3.7/site-packages (from azure-storage-blob>=12.0->mlflow==1.10.0) (0.6.19)\r\n"
     ]
    },
    {
     "name": "stdout",
     "output_type": "stream",
     "text": [
      "Requirement already satisfied: cryptography>=2.1.4 in /opt/conda/lib/python3.7/site-packages (from azure-storage-blob>=12.0->mlflow==1.10.0) (3.2.1)\r\n",
      "Requirement already satisfied: Mako in /opt/conda/lib/python3.7/site-packages (from alembic->mlflow==1.10.0) (1.1.0)\r\n",
      "Requirement already satisfied: python-editor>=0.3 in /opt/conda/lib/python3.7/site-packages (from alembic->mlflow==1.10.0) (1.0.4)\r\n"
     ]
    },
    {
     "name": "stdout",
     "output_type": "stream",
     "text": [
      "Requirement already satisfied: docutils<0.16,>=0.10 in /opt/conda/lib/python3.7/site-packages (from botocore<1.13.0,>=1.12.240->boto3==1.9.240) (0.15.2)\r\n",
      "Requirement already satisfied: requests-oauthlib>=0.7.0 in /opt/conda/lib/python3.7/site-packages (from google-auth-oauthlib<0.5,>=0.4.1->tensorboard<3,>=2.3.0->tensorflow==2.3.0) (1.3.0)\r\n",
      "Requirement already satisfied: importlib-metadata; python_version < \"3.8\" in /opt/conda/lib/python3.7/site-packages (from markdown>=2.6.8->tensorboard<3,>=2.3.0->tensorflow==2.3.0) (2.0.0)\r\n",
      "Requirement already satisfied: pyasn1-modules>=0.2.1 in /opt/conda/lib/python3.7/site-packages (from google-auth<2,>=1.6.3->tensorboard<3,>=2.3.0->tensorflow==2.3.0) (0.2.8)\r\n",
      "Requirement already satisfied: cachetools<5.0,>=2.0.0 in /opt/conda/lib/python3.7/site-packages (from google-auth<2,>=1.6.3->tensorboard<3,>=2.3.0->tensorflow==2.3.0) (4.1.1)\r\n",
      "Requirement already satisfied: rsa<5,>=3.1.4; python_version >= \"3.5\" in /opt/conda/lib/python3.7/site-packages (from google-auth<2,>=1.6.3->tensorboard<3,>=2.3.0->tensorflow==2.3.0) (4.6)\r\n",
      "Requirement already satisfied: MarkupSafe>=0.23 in /opt/conda/lib/python3.7/site-packages (from Jinja2>=2.10.1->Flask->mlflow==1.10.0) (1.1.1)\r\n",
      "Requirement already satisfied: smmap<4,>=3.0.1 in /opt/conda/lib/python3.7/site-packages (from gitdb<5,>=4.0.1->gitpython>=2.1.0->mlflow==1.10.0) (3.0.4)\r\n",
      "Requirement already satisfied: isodate>=0.6.0 in /opt/conda/lib/python3.7/site-packages (from msrest>=0.6.10->azure-storage-blob>=12.0->mlflow==1.10.0) (0.6.0)\r\n",
      "Requirement already satisfied: cffi!=1.11.3,>=1.8 in /opt/conda/lib/python3.7/site-packages (from cryptography>=2.1.4->azure-storage-blob>=12.0->mlflow==1.10.0) (1.14.3)\r\n",
      "Requirement already satisfied: oauthlib>=3.0.0 in /opt/conda/lib/python3.7/site-packages (from requests-oauthlib>=0.7.0->google-auth-oauthlib<0.5,>=0.4.1->tensorboard<3,>=2.3.0->tensorflow==2.3.0) (3.1.0)\r\n"
     ]
    },
    {
     "name": "stdout",
     "output_type": "stream",
     "text": [
      "Requirement already satisfied: zipp>=0.5 in /opt/conda/lib/python3.7/site-packages (from importlib-metadata; python_version < \"3.8\"->markdown>=2.6.8->tensorboard<3,>=2.3.0->tensorflow==2.3.0) (3.4.0)\r\n",
      "Requirement already satisfied: pyasn1<0.5.0,>=0.4.6 in /opt/conda/lib/python3.7/site-packages (from pyasn1-modules>=0.2.1->google-auth<2,>=1.6.3->tensorboard<3,>=2.3.0->tensorflow==2.3.0) (0.4.8)\r\n",
      "Requirement already satisfied: pycparser in /opt/conda/lib/python3.7/site-packages (from cffi!=1.11.3,>=1.8->cryptography>=2.1.4->azure-storage-blob>=12.0->mlflow==1.10.0) (2.20)\r\n"
     ]
    },
    {
     "name": "stdout",
     "output_type": "stream",
     "text": [
      "\u001b[33mWARNING: You are using pip version 20.2.4; however, version 20.3.1 is available.\r\n",
      "You should consider upgrading via the '/opt/conda/bin/python -m pip install --upgrade pip' command.\u001b[0m\r\n"
     ]
    }
   ],
   "source": [
    "!pip3 install tensorflow==2.3.0 tensorflow_hub==0.10.0 matplotlib numpy mlflow==1.10.0 minio boto3==1.9.240"
   ]
  },
  {
   "cell_type": "code",
   "execution_count": 2,
   "metadata": {
    "execution": {
     "iopub.execute_input": "2020-12-04T14:56:28.820825Z",
     "iopub.status.busy": "2020-12-04T14:56:28.819968Z",
     "iopub.status.idle": "2020-12-04T14:56:37.014638Z",
     "shell.execute_reply": "2020-12-04T14:56:37.013449Z"
    },
    "papermill": {
     "duration": 8.228601,
     "end_time": "2020-12-04T14:56:37.014876",
     "exception": false,
     "start_time": "2020-12-04T14:56:28.786275",
     "status": "completed"
    },
    "tags": []
   },
   "outputs": [
    {
     "name": "stdout",
     "output_type": "stream",
     "text": [
      "TF version: 2.3.0\n",
      "Hub version: 0.10.0\n",
      "WARNING:tensorflow:From <ipython-input-2-1eeee058271a>:18: is_gpu_available (from tensorflow.python.framework.test_util) is deprecated and will be removed in a future version.\n",
      "Instructions for updating:\n",
      "Use `tf.config.list_physical_devices('GPU')` instead.\n"
     ]
    },
    {
     "name": "stdout",
     "output_type": "stream",
     "text": [
      "GPU is NOT AVAILABLE\n"
     ]
    }
   ],
   "source": [
    "import itertools\n",
    "import os\n",
    "\n",
    "import matplotlib.pylab as plt\n",
    "import numpy as np\n",
    "\n",
    "import tensorflow as tf\n",
    "import tensorflow_hub as hub\n",
    "\n",
    "import boto3\n",
    "import mlflow\n",
    "from minio import Minio\n",
    "from minio.error import ResponseError\n",
    "import json\n",
    "\n",
    "print(\"TF version:\", tf.__version__)\n",
    "print(\"Hub version:\", hub.__version__)\n",
    "print(\"GPU is\", \"available\" if tf.test.is_gpu_available() else \"NOT AVAILABLE\")"
   ]
  },
  {
   "cell_type": "code",
   "execution_count": 3,
   "metadata": {
    "execution": {
     "iopub.execute_input": "2020-12-04T14:56:37.096634Z",
     "iopub.status.busy": "2020-12-04T14:56:37.091298Z",
     "iopub.status.idle": "2020-12-04T14:56:37.643252Z",
     "shell.execute_reply": "2020-12-04T14:56:37.638708Z"
    },
    "papermill": {
     "duration": 0.590736,
     "end_time": "2020-12-04T14:56:37.644023",
     "exception": false,
     "start_time": "2020-12-04T14:56:37.053287",
     "status": "completed"
    },
    "tags": []
   },
   "outputs": [
    {
     "name": "stdout",
     "output_type": "stream",
     "text": [
      "Using https://tfhub.dev/google/imagenet/mobilenet_v2_100_224/feature_vector/4 with input size (224, 224)\n"
     ]
    },
    {
     "name": "stderr",
     "output_type": "stream",
     "text": [
      "/opt/conda/lib/python3.7/site-packages/ipykernel/ipkernel.py:287: DeprecationWarning: `should_run_async` will not call `transform_cell` automatically in the future. Please pass the result to `transformed_cell` argument and any exception that happen during thetransform in `preprocessing_exc_tuple` in IPython 7.17 and above.\n",
      "  and should_run_async(code)\n"
     ]
    }
   ],
   "source": [
    "#config\n",
    "import time\n",
    "timestr = time.strftime(\"%Y%m%d%H%M%S\")\n",
    "\n",
    "NGROK_URL='http://mlflowui:5000'\n",
    "EXPERIMENT='firedetection'\n",
    "EPOCHS=1\n",
    "VERSION=1\n",
    "SAVE_PATH='saved_model'\n",
    "LOSS=tf.keras.losses.CategoricalCrossentropy(from_logits=True, label_smoothing=0.1)\n",
    "os.environ['MLFLOW_S3_ENDPOINT_URL'] = 'http://minio1:9000'\n",
    "os.environ['AWS_ACCESS_KEY_ID'] = 'minio'\n",
    "os.environ['AWS_SECRET_ACCESS_KEY'] = 'minio123'\n",
    "\n",
    "module_selection = (\"mobilenet_v2_100_224\", 224) \n",
    "handle_base, pixels = module_selection\n",
    "MODULE_HANDLE =\"https://tfhub.dev/google/imagenet/{}/feature_vector/4\".format(handle_base)\n",
    "IMAGE_SIZE = (pixels, pixels)\n",
    "print(\"Using {} with input size {}\".format(MODULE_HANDLE, IMAGE_SIZE))\n",
    "\n",
    "BATCH_SIZE = 32 \n",
    "\n",
    "SAVE_PATH='saved_model'\n",
    "%mkdir -p saved_model"
   ]
  },
  {
   "cell_type": "code",
   "execution_count": 4,
   "metadata": {
    "execution": {
     "iopub.execute_input": "2020-12-04T14:56:37.724206Z",
     "iopub.status.busy": "2020-12-04T14:56:37.723459Z",
     "iopub.status.idle": "2020-12-04T14:56:37.726640Z",
     "shell.execute_reply": "2020-12-04T14:56:37.727265Z"
    },
    "papermill": {
     "duration": 0.042388,
     "end_time": "2020-12-04T14:56:37.727436",
     "exception": false,
     "start_time": "2020-12-04T14:56:37.685048",
     "status": "completed"
    },
    "tags": []
   },
   "outputs": [],
   "source": [
    "policy = {\"Version\":\"2012-10-17\",\n",
    "        \"Statement\":[\n",
    "            {\n",
    "            \"Sid\":\"\",\n",
    "            \"Effect\":\"Allow\",\n",
    "            \"Principal\":{\"AWS\":\"*\"},\n",
    "            \"Action\":\"s3:GetBucketLocation\",\n",
    "            \"Resource\":\"arn:aws:s3:::mlflowruns\"\n",
    "            },\n",
    "            {\n",
    "            \"Sid\":\"\",\n",
    "            \"Effect\":\"Allow\",\n",
    "            \"Principal\":{\"AWS\":\"*\"},\n",
    "            \"Action\":\"s3:ListBucket\",\n",
    "            \"Resource\":\"arn:aws:s3:::{}\".format(EXPERIMENT)\n",
    "            },\n",
    "            {\n",
    "            \"Sid\":\"\",\n",
    "            \"Effect\":\"Allow\",\n",
    "            \"Principal\":{\"AWS\":\"*\"},\n",
    "            \"Action\":\"s3:GetObject\",\n",
    "            \"Resource\":\"arn:aws:s3:::mlflowruns/*\"\n",
    "            },\n",
    "            {\n",
    "            \"Sid\":\"\",\n",
    "            \"Effect\":\"Allow\",\n",
    "            \"Principal\":{\"AWS\":\"*\"},\n",
    "            \"Action\":\"s3:PutObject\",\n",
    "            \"Resource\":\"arn:aws:s3:::mlflowruns/*\"\n",
    "            }\n",
    "\n",
    "        ]}\n"
   ]
  },
  {
   "cell_type": "code",
   "execution_count": 5,
   "metadata": {
    "execution": {
     "iopub.execute_input": "2020-12-04T14:56:37.795440Z",
     "iopub.status.busy": "2020-12-04T14:56:37.790366Z",
     "iopub.status.idle": "2020-12-04T14:56:37.798622Z",
     "shell.execute_reply": "2020-12-04T14:56:37.798049Z"
    },
    "papermill": {
     "duration": 0.045564,
     "end_time": "2020-12-04T14:56:37.798778",
     "exception": false,
     "start_time": "2020-12-04T14:56:37.753214",
     "status": "completed"
    },
    "tags": []
   },
   "outputs": [],
   "source": [
    "def create_s3_bucket():\n",
    "    minioClient = Minio('minio1:9000',\n",
    "                  access_key=\"minio\",\n",
    "                  secret_key=\"minio123\",\n",
    "                  secure=False)\n",
    "\n",
    "    print(minioClient.list_buckets())\n",
    "\n",
    "    try:\n",
    "        if not minioClient.bucket_exists(\"mlflowruns\"):\n",
    "            minioClient.make_bucket('mlflowruns')\n",
    "    except ResponseError as err:\n",
    "        print(err)\n",
    "\n",
    "    buckets = minioClient.list_buckets()\n",
    "    for bucket in buckets:\n",
    "        print(bucket.name, bucket.creation_date)\n",
    "\n",
    "    policy = {\"Version\":\"2012-10-17\",\n",
    "        \"Statement\":[\n",
    "            {\n",
    "            \"Sid\":\"\",\n",
    "            \"Effect\":\"Allow\",\n",
    "            \"Principal\":{\"AWS\":\"*\"},\n",
    "            \"Action\":\"s3:GetBucketLocation\",\n",
    "            \"Resource\":\"arn:aws:s3:::mlflowruns\"\n",
    "            },\n",
    "            {\n",
    "            \"Sid\":\"\",\n",
    "            \"Effect\":\"Allow\",\n",
    "            \"Principal\":{\"AWS\":\"*\"},\n",
    "            \"Action\":\"s3:ListBucket\",\n",
    "            \"Resource\":\"arn:aws:s3:::mlflowruns\"\n",
    "            },\n",
    "            {\n",
    "            \"Sid\":\"\",\n",
    "            \"Effect\":\"Allow\",\n",
    "            \"Principal\":{\"AWS\":\"*\"},\n",
    "            \"Action\":\"s3:GetObject\",\n",
    "            \"Resource\":\"arn:aws:s3:::mlflowruns/*\"\n",
    "            },\n",
    "            {\n",
    "            \"Sid\":\"\",\n",
    "            \"Effect\":\"Allow\",\n",
    "            \"Principal\":{\"AWS\":\"*\"},\n",
    "            \"Action\":\"s3:PutObject\",\n",
    "            \"Resource\":\"arn:aws:s3:::mlflowruns/*\"\n",
    "            }\n",
    "\n",
    "        ]}\n",
    "\n",
    "    minioClient.set_bucket_policy('mlflowruns', json.dumps(policy))\n",
    "\n",
    "    # List all object paths in bucket that begin with my-prefixname.\n",
    "    objects = minioClient.list_objects('mlflowruns', prefix='',\n",
    "                              recursive=True)\n",
    "    for obj in objects:\n",
    "        print(obj.bucket_name, obj.object_name.encode('utf-8'), obj.last_modified,\n",
    "            obj.etag, obj.size, obj.content_type)"
   ]
  },
  {
   "cell_type": "code",
   "execution_count": 6,
   "metadata": {
    "execution": {
     "iopub.execute_input": "2020-12-04T14:56:37.861380Z",
     "iopub.status.busy": "2020-12-04T14:56:37.860660Z",
     "iopub.status.idle": "2020-12-04T14:56:38.541869Z",
     "shell.execute_reply": "2020-12-04T14:56:38.541049Z"
    },
    "papermill": {
     "duration": 0.716525,
     "end_time": "2020-12-04T14:56:38.542149",
     "exception": false,
     "start_time": "2020-12-04T14:56:37.825624",
     "status": "completed"
    },
    "tags": []
   },
   "outputs": [
    {
     "name": "stdout",
     "output_type": "stream",
     "text": [
      "[<minio.definitions.Bucket object at 0x7f5244de71d0>, <minio.definitions.Bucket object at 0x7f5244dd2a10>]\n",
      "data 2020-12-04 10:06:15.084000+00:00\n",
      "mlflowruns 2020-12-04 09:42:35.418000+00:00\n"
     ]
    },
    {
     "name": "stdout",
     "output_type": "stream",
     "text": [
      "mlflowruns b'10/54bff8af1b4b4373ab558ab86eb4d3a8/artifacts/mlflowruns/features.txt' 2020-12-04 09:50:30.852000+00:00 b43d25ef83e4d05211495d640dfa8869 54 None\n",
      "mlflowruns b'12/040e1f057efe456090eac09322b64afe/artifacts/model/MLmodel' 2020-12-04 13:04:04.086000+00:00 0467ffbd468769b7407b077e6f8085bb 314 None\n",
      "mlflowruns b'12/040e1f057efe456090eac09322b64afe/artifacts/model/conda.yaml' 2020-12-04 13:04:04.185000+00:00 5205ebd78b11e44f4c9308e7ec42c1a3 127 None\n",
      "mlflowruns b'12/040e1f057efe456090eac09322b64afe/artifacts/model/data/keras_module.txt' 2020-12-04 13:04:05.328000+00:00 65daa80bd048be9a6b0b2f1ba806122a 16 None\n",
      "mlflowruns b'12/040e1f057efe456090eac09322b64afe/artifacts/model/data/model.h5' 2020-12-04 13:04:05.253000+00:00 03ec2e61a132c07fd082bf3f1b6e2127-2 9288352 None\n",
      "mlflowruns b'12/040e1f057efe456090eac09322b64afe/artifacts/model_summary.txt' 2020-12-04 13:02:10.671000+00:00 ab14a9972148d128ffcbd9926772e234 759 None\n",
      "mlflowruns b'12/040e1f057efe456090eac09322b64afe/artifacts/tensorboard_logs/train/events.out.tfevents.1607086929.b77acc26b641.3645.33398.v2' 2020-12-04 13:04:05.520000+00:00 54964e5a56d6bd684b110e8b349b0faf 315609 None\n",
      "mlflowruns b'12/040e1f057efe456090eac09322b64afe/artifacts/tensorboard_logs/train/events.out.tfevents.1607086935.b77acc26b641.profile-empty' 2020-12-04 13:04:05.456000+00:00 8920f9202d95a1157913de622f4def59 40 None\n",
      "mlflowruns b'12/040e1f057efe456090eac09322b64afe/artifacts/tensorboard_logs/train/plugins/profile/2020_12_04_13_02_15/b77acc26b641.input_pipeline.pb' 2020-12-04 13:05:06.208000+00:00 87604504225c943108a84215ee27e432 2386 None\n",
      "mlflowruns b'12/040e1f057efe456090eac09322b64afe/artifacts/tensorboard_logs/train/plugins/profile/2020_12_04_13_02_15/b77acc26b641.kernel_stats.pb' 2020-12-04 13:04:05.752000+00:00 d41d8cd98f00b204e9800998ecf8427e 0 None\n",
      "mlflowruns b'12/040e1f057efe456090eac09322b64afe/artifacts/tensorboard_logs/train/plugins/profile/2020_12_04_13_02_15/b77acc26b641.memory_profile.json.gz' 2020-12-04 13:05:06.125000+00:00 f8bb2fca0ae6fc5aefe19b2573db809f 73 None\n",
      "mlflowruns b'12/040e1f057efe456090eac09322b64afe/artifacts/tensorboard_logs/train/plugins/profile/2020_12_04_13_02_15/b77acc26b641.overview_page.pb' 2020-12-04 13:04:05.665000+00:00 dc0ada8c28247a443b9d6a0c1a193534 3362 None\n",
      "mlflowruns b'12/040e1f057efe456090eac09322b64afe/artifacts/tensorboard_logs/train/plugins/profile/2020_12_04_13_02_15/b77acc26b641.tensorflow_stats.pb' 2020-12-04 13:04:05.606000+00:00 e1b90ae4ae7239749ce3ee98645d69fe 202665 None\n",
      "mlflowruns b'12/040e1f057efe456090eac09322b64afe/artifacts/tensorboard_logs/train/plugins/profile/2020_12_04_13_02_15/b77acc26b641.trace.json.gz' 2020-12-04 13:04:05.709000+00:00 8146a2be7c78a8a87c628202acc207ff 11606 None\n",
      "mlflowruns b'12/040e1f057efe456090eac09322b64afe/artifacts/tensorboard_logs/train/plugins/profile/2020_12_04_13_02_15/b77acc26b641.xplane.pb' 2020-12-04 13:05:06.350000+00:00 6a7df6ec7fca0325ba37da7169cd4e21 114439 None\n",
      "mlflowruns b'12/040e1f057efe456090eac09322b64afe/artifacts/tensorboard_logs/validation/events.out.tfevents.1607087020.b77acc26b641.3645.33579.v2' 2020-12-04 13:05:06.406000+00:00 4e8ef1a36ad8dbd605bae63f5987c03e 136 None\n",
      "mlflowruns b'13/3d6e0bfec10948a7ba1ab88775996019/artifacts/model/MLmodel' 2020-12-04 14:27:58.513000+00:00 6ba2cf96ca8bd8017527acd5ff3306cb 314 None\n",
      "mlflowruns b'13/3d6e0bfec10948a7ba1ab88775996019/artifacts/model/conda.yaml' 2020-12-04 14:27:58.568000+00:00 5205ebd78b11e44f4c9308e7ec42c1a3 127 None\n",
      "mlflowruns b'13/3d6e0bfec10948a7ba1ab88775996019/artifacts/model/data/keras_module.txt' 2020-12-04 14:27:59.798000+00:00 65daa80bd048be9a6b0b2f1ba806122a 16 None\n",
      "mlflowruns b'13/3d6e0bfec10948a7ba1ab88775996019/artifacts/model/data/model.h5' 2020-12-04 14:27:59.693000+00:00 a8dc11f5b16cf722ef3b079d4ae10c87-2 9288352 None\n",
      "mlflowruns b'13/3d6e0bfec10948a7ba1ab88775996019/artifacts/model_summary.txt' 2020-12-04 14:26:09.792000+00:00 ab14a9972148d128ffcbd9926772e234 759 None\n",
      "mlflowruns b'13/3d6e0bfec10948a7ba1ab88775996019/artifacts/tensorboard_logs/train/events.out.tfevents.1607091969.0d310ec91a74.2535.33398.v2' 2020-12-04 14:28:00.102000+00:00 b9c1330698433a4022351d5e076f1585 315609 None\n",
      "mlflowruns b'13/3d6e0bfec10948a7ba1ab88775996019/artifacts/tensorboard_logs/train/events.out.tfevents.1607091974.0d310ec91a74.profile-empty' 2020-12-04 14:27:59.984000+00:00 9a1e228d48b6c118f36dc355752ad855 40 None\n",
      "mlflowruns b'13/3d6e0bfec10948a7ba1ab88775996019/artifacts/tensorboard_logs/train/plugins/profile/2020_12_04_14_26_14/0d310ec91a74.input_pipeline.pb' 2020-12-04 14:29:01.605000+00:00 781938464844390aecf65b4b3a23f40f 2400 None\n",
      "mlflowruns b'13/3d6e0bfec10948a7ba1ab88775996019/artifacts/tensorboard_logs/train/plugins/profile/2020_12_04_14_26_14/0d310ec91a74.kernel_stats.pb' 2020-12-04 14:28:00.604000+00:00 d41d8cd98f00b204e9800998ecf8427e 0 None\n",
      "mlflowruns b'13/3d6e0bfec10948a7ba1ab88775996019/artifacts/tensorboard_logs/train/plugins/profile/2020_12_04_14_26_14/0d310ec91a74.memory_profile.json.gz' 2020-12-04 14:28:00.455000+00:00 f8bb2fca0ae6fc5aefe19b2573db809f 73 None\n",
      "mlflowruns b'13/3d6e0bfec10948a7ba1ab88775996019/artifacts/tensorboard_logs/train/plugins/profile/2020_12_04_14_26_14/0d310ec91a74.overview_page.pb' 2020-12-04 14:28:00.192000+00:00 6c310deaf67f6fc1758958c3866b333b 3390 None\n",
      "mlflowruns b'13/3d6e0bfec10948a7ba1ab88775996019/artifacts/tensorboard_logs/train/plugins/profile/2020_12_04_14_26_14/0d310ec91a74.tensorflow_stats.pb' 2020-12-04 14:28:00.371000+00:00 21debbc4f1878cf91563b4f04055a94e 202665 None\n",
      "mlflowruns b'13/3d6e0bfec10948a7ba1ab88775996019/artifacts/tensorboard_logs/train/plugins/profile/2020_12_04_14_26_14/0d310ec91a74.trace.json.gz' 2020-12-04 14:28:00.547000+00:00 b6e7e10cbffbcf20eb440be4b0405e8a 11334 None\n",
      "mlflowruns b'13/3d6e0bfec10948a7ba1ab88775996019/artifacts/tensorboard_logs/train/plugins/profile/2020_12_04_14_26_14/0d310ec91a74.xplane.pb' 2020-12-04 14:28:00.275000+00:00 2ea3457d6fd4b8a213bc924827a31d8a 114759 None\n",
      "mlflowruns b'13/3d6e0bfec10948a7ba1ab88775996019/artifacts/tensorboard_logs/validation/events.out.tfevents.1607092058.0d310ec91a74.2535.33579.v2' 2020-12-04 14:29:01.692000+00:00 bc7ea71eef8f9e82b0a6a4efbb20cdb3 136 None\n",
      "mlflowruns b'13/60582c088b494b0f80410ba5ab7b1b2a/artifacts/model/MLmodel' 2020-12-04 14:49:16.078000+00:00 8015c99a53c79217cc3aa10457a13447 314 None\n",
      "mlflowruns b'13/60582c088b494b0f80410ba5ab7b1b2a/artifacts/model/conda.yaml' 2020-12-04 14:49:16.122000+00:00 5205ebd78b11e44f4c9308e7ec42c1a3 127 None\n",
      "mlflowruns b'13/60582c088b494b0f80410ba5ab7b1b2a/artifacts/model/data/keras_module.txt' 2020-12-04 14:49:16.921000+00:00 65daa80bd048be9a6b0b2f1ba806122a 16 None\n",
      "mlflowruns b'13/60582c088b494b0f80410ba5ab7b1b2a/artifacts/model/data/model.h5' 2020-12-04 14:49:16.841000+00:00 6b8456f9853a22d5b00534804f21e8bd-2 9288352 None\n",
      "mlflowruns b'13/60582c088b494b0f80410ba5ab7b1b2a/artifacts/model_summary.txt' 2020-12-04 14:47:27.257000+00:00 ab14a9972148d128ffcbd9926772e234 759 None\n",
      "mlflowruns b'13/60582c088b494b0f80410ba5ab7b1b2a/artifacts/tensorboard_logs/train/events.out.tfevents.1607093246.0d310ec91a74.2535.48326.v2' 2020-12-04 14:49:17.044000+00:00 3491490c08a186fafaa415efb1c571eb 315609 None\n",
      "mlflowruns b'13/60582c088b494b0f80410ba5ab7b1b2a/artifacts/tensorboard_logs/train/events.out.tfevents.1607093251.0d310ec91a74.profile-empty' 2020-12-04 14:49:17.092000+00:00 58e92afff4d3fddbc0b3a2dec12ff39d 40 None\n",
      "mlflowruns b'13/60582c088b494b0f80410ba5ab7b1b2a/artifacts/tensorboard_logs/train/plugins/profile/2020_12_04_14_47_31/0d310ec91a74.input_pipeline.pb' 2020-12-04 14:50:18.195000+00:00 999459bbe3a094e16394699cfb15e456 2386 None\n",
      "mlflowruns b'13/60582c088b494b0f80410ba5ab7b1b2a/artifacts/tensorboard_logs/train/plugins/profile/2020_12_04_14_47_31/0d310ec91a74.kernel_stats.pb' 2020-12-04 14:49:17.351000+00:00 d41d8cd98f00b204e9800998ecf8427e 0 None\n",
      "mlflowruns b'13/60582c088b494b0f80410ba5ab7b1b2a/artifacts/tensorboard_logs/train/plugins/profile/2020_12_04_14_47_31/0d310ec91a74.memory_profile.json.gz' 2020-12-04 14:49:17.282000+00:00 f8bb2fca0ae6fc5aefe19b2573db809f 73 None\n",
      "mlflowruns b'13/60582c088b494b0f80410ba5ab7b1b2a/artifacts/tensorboard_logs/train/plugins/profile/2020_12_04_14_47_31/0d310ec91a74.overview_page.pb' 2020-12-04 14:49:17.147000+00:00 ec551496a20334d92005ff17d4eec139 3362 None\n",
      "mlflowruns b'13/60582c088b494b0f80410ba5ab7b1b2a/artifacts/tensorboard_logs/train/plugins/profile/2020_12_04_14_47_31/0d310ec91a74.tensorflow_stats.pb' 2020-12-04 14:49:17.245000+00:00 3229aa1ce4bea0ce5fc06b8c87daf7fd 58277 None\n",
      "mlflowruns b'13/60582c088b494b0f80410ba5ab7b1b2a/artifacts/tensorboard_logs/train/plugins/profile/2020_12_04_14_47_31/0d310ec91a74.trace.json.gz' 2020-12-04 14:49:17.315000+00:00 206c829ab7c9611f7900dd24ccb14746 6156 None\n",
      "mlflowruns b'13/60582c088b494b0f80410ba5ab7b1b2a/artifacts/tensorboard_logs/train/plugins/profile/2020_12_04_14_47_31/0d310ec91a74.xplane.pb' 2020-12-04 14:49:17.198000+00:00 aec4346766f2ee13b2bad85f74a5724f 32573 None\n",
      "mlflowruns b'13/60582c088b494b0f80410ba5ab7b1b2a/artifacts/tensorboard_logs/validation/events.out.tfevents.1607093334.0d310ec91a74.2535.48507.v2' 2020-12-04 14:50:18.262000+00:00 c537b9220a5e5bf2b4cbea6d0d4a0c24 136 None\n",
      "mlflowruns b'13/86f79953e3304b32918ee9d615e31a17/artifacts/model/MLmodel' 2020-12-04 14:36:00.454000+00:00 3bd601e2898923502e659ca483170d51 314 None\n",
      "mlflowruns b'13/86f79953e3304b32918ee9d615e31a17/artifacts/model/conda.yaml' 2020-12-04 14:36:00.516000+00:00 5205ebd78b11e44f4c9308e7ec42c1a3 127 None\n",
      "mlflowruns b'13/86f79953e3304b32918ee9d615e31a17/artifacts/model/data/keras_module.txt' 2020-12-04 14:36:01.391000+00:00 65daa80bd048be9a6b0b2f1ba806122a 16 None\n",
      "mlflowruns b'13/86f79953e3304b32918ee9d615e31a17/artifacts/model/data/model.h5' 2020-12-04 14:36:01.302000+00:00 89fd2c6448ac3fc437a5cf18d14eee11-2 9288352 None\n",
      "mlflowruns b'13/86f79953e3304b32918ee9d615e31a17/artifacts/model_summary.txt' 2020-12-04 14:33:57.786000+00:00 ab14a9972148d128ffcbd9926772e234 759 None\n",
      "mlflowruns b'13/86f79953e3304b32918ee9d615e31a17/artifacts/tensorboard_logs/train/events.out.tfevents.1607092437.0d310ec91a74.2535.34222.v2' 2020-12-04 14:36:01.662000+00:00 5c182a2251ca7bd890ad8d1c6940a1cf 315609 None\n",
      "mlflowruns b'13/86f79953e3304b32918ee9d615e31a17/artifacts/tensorboard_logs/train/events.out.tfevents.1607092442.0d310ec91a74.profile-empty' 2020-12-04 14:36:01.572000+00:00 113f45f7f5d2eb5b059528e50f7eed36 40 None\n",
      "mlflowruns b'13/86f79953e3304b32918ee9d615e31a17/artifacts/tensorboard_logs/train/plugins/profile/2020_12_04_14_34_02/0d310ec91a74.input_pipeline.pb' 2020-12-04 14:37:02.573000+00:00 0df8063843f6f1cc3e52fd6fc2af7883 2386 None\n",
      "mlflowruns b'13/86f79953e3304b32918ee9d615e31a17/artifacts/tensorboard_logs/train/plugins/profile/2020_12_04_14_34_02/0d310ec91a74.kernel_stats.pb' 2020-12-04 14:36:01.966000+00:00 d41d8cd98f00b204e9800998ecf8427e 0 None\n",
      "mlflowruns b'13/86f79953e3304b32918ee9d615e31a17/artifacts/tensorboard_logs/train/plugins/profile/2020_12_04_14_34_02/0d310ec91a74.memory_profile.json.gz' 2020-12-04 14:36:01.889000+00:00 f8bb2fca0ae6fc5aefe19b2573db809f 73 None\n",
      "mlflowruns b'13/86f79953e3304b32918ee9d615e31a17/artifacts/tensorboard_logs/train/plugins/profile/2020_12_04_14_34_02/0d310ec91a74.overview_page.pb' 2020-12-04 14:36:01.744000+00:00 80f5bfb97c8835100b3e795120dff1bd 3362 None\n",
      "mlflowruns b'13/86f79953e3304b32918ee9d615e31a17/artifacts/tensorboard_logs/train/plugins/profile/2020_12_04_14_34_02/0d310ec91a74.tensorflow_stats.pb' 2020-12-04 14:36:01.850000+00:00 f8faba6dfea1dd78dcc857fef72bdfee 125169 None\n",
      "mlflowruns b'13/86f79953e3304b32918ee9d615e31a17/artifacts/tensorboard_logs/train/plugins/profile/2020_12_04_14_34_02/0d310ec91a74.trace.json.gz' 2020-12-04 14:36:01.932000+00:00 399b1cf3c82e8a75946548a7aed464fa 8653 None\n",
      "mlflowruns b'13/86f79953e3304b32918ee9d615e31a17/artifacts/tensorboard_logs/train/plugins/profile/2020_12_04_14_34_02/0d310ec91a74.xplane.pb' 2020-12-04 14:36:01.806000+00:00 d569947de20142ca178bc17cedd4a270 70505 None\n",
      "mlflowruns b'13/86f79953e3304b32918ee9d615e31a17/artifacts/tensorboard_logs/validation/events.out.tfevents.1607092536.0d310ec91a74.2535.34403.v2' 2020-12-04 14:37:02.653000+00:00 505deed5a7e1b8c37620fa9fbc58cc52 136 None\n"
     ]
    }
   ],
   "source": [
    "create_s3_bucket()"
   ]
  },
  {
   "cell_type": "code",
   "execution_count": 7,
   "metadata": {
    "execution": {
     "iopub.execute_input": "2020-12-04T14:56:38.605618Z",
     "iopub.status.busy": "2020-12-04T14:56:38.604417Z",
     "iopub.status.idle": "2020-12-04T14:56:38.606771Z",
     "shell.execute_reply": "2020-12-04T14:56:38.607785Z"
    },
    "papermill": {
     "duration": 0.038182,
     "end_time": "2020-12-04T14:56:38.608063",
     "exception": false,
     "start_time": "2020-12-04T14:56:38.569881",
     "status": "completed"
    },
    "tags": []
   },
   "outputs": [],
   "source": [
    "tags={}\n",
    "tags['TYPE']='CUSTOM'\n",
    "tags['TRANSFER_LEARNING']='YES'\n",
    "tags['TFHUB']='NO'"
   ]
  },
  {
   "cell_type": "code",
   "execution_count": 8,
   "metadata": {
    "execution": {
     "iopub.execute_input": "2020-12-04T14:56:38.679355Z",
     "iopub.status.busy": "2020-12-04T14:56:38.678582Z",
     "iopub.status.idle": "2020-12-04T14:56:43.273373Z",
     "shell.execute_reply": "2020-12-04T14:56:43.272457Z"
    },
    "papermill": {
     "duration": 4.633348,
     "end_time": "2020-12-04T14:56:43.273650",
     "exception": false,
     "start_time": "2020-12-04T14:56:38.640302",
     "status": "completed"
    },
    "tags": []
   },
   "outputs": [
    {
     "name": "stdout",
     "output_type": "stream",
     "text": [
      "Traceback (most recent call last):\r\n",
      "  File \"/opt/conda/bin/mlflow\", line 8, in <module>\r\n",
      "    sys.exit(cli())\r\n",
      "  File \"/opt/conda/lib/python3.7/site-packages/click/core.py\", line 829, in __call__\r\n",
      "    return self.main(*args, **kwargs)\r\n",
      "  File \"/opt/conda/lib/python3.7/site-packages/click/core.py\", line 782, in main\r\n",
      "    rv = self.invoke(ctx)\r\n",
      "  File \"/opt/conda/lib/python3.7/site-packages/click/core.py\", line 1259, in invoke\r\n",
      "    return _process_result(sub_ctx.command.invoke(sub_ctx))\r\n",
      "  File \"/opt/conda/lib/python3.7/site-packages/click/core.py\", line 1259, in invoke\r\n",
      "    return _process_result(sub_ctx.command.invoke(sub_ctx))\r\n",
      "  File \"/opt/conda/lib/python3.7/site-packages/click/core.py\", line 1066, in invoke\r\n",
      "    return ctx.invoke(self.callback, **ctx.params)\r\n",
      "  File \"/opt/conda/lib/python3.7/site-packages/click/core.py\", line 610, in invoke\r\n",
      "    return callback(*args, **kwargs)\r\n",
      "  File \"/opt/conda/lib/python3.7/site-packages/mlflow/experiments.py\", line 42, in create\r\n",
      "    exp_id = store.create_experiment(experiment_name, artifact_location)\r\n",
      "  File \"/opt/conda/lib/python3.7/site-packages/mlflow/store/tracking/file_store.py\", line 239, in create_experiment\r\n",
      "    self._validate_experiment_name(name)\r\n",
      "  File \"/opt/conda/lib/python3.7/site-packages/mlflow/store/tracking/file_store.py\", line 235, in _validate_experiment_name\r\n",
      "    databricks_pb2.RESOURCE_ALREADY_EXISTS)\r\n",
      "mlflow.exceptions.MlflowException: Experiment 'firedetection' already exists.\r\n"
     ]
    }
   ],
   "source": [
    "#Mlflow settings\n",
    "\n",
    "#set MLflow server \n",
    "mlflow.set_tracking_uri(NGROK_URL)\n",
    "\n",
    "#Set experiment\n",
    "'''\n",
    "if mlflow.get_experiment_by_name(EXPERIMENT) != None:\n",
    "    exp_id = mlflow.set_experiment(EXPERIMENT)\n",
    "else: \n",
    "    exp_id = mlflow.create_experiment(EXPERIMENT)\n",
    "'''\n",
    "\n",
    "!mlflow experiments create --experiment-name $EXPERIMENT --artifact-location s3://mlflowruns/"
   ]
  },
  {
   "cell_type": "code",
   "execution_count": 9,
   "metadata": {
    "execution": {
     "iopub.execute_input": "2020-12-04T14:56:43.365178Z",
     "iopub.status.busy": "2020-12-04T14:56:43.364135Z",
     "iopub.status.idle": "2020-12-04T14:56:43.393587Z",
     "shell.execute_reply": "2020-12-04T14:56:43.392388Z"
    },
    "papermill": {
     "duration": 0.080791,
     "end_time": "2020-12-04T14:56:43.393891",
     "exception": false,
     "start_time": "2020-12-04T14:56:43.313100",
     "status": "completed"
    },
    "tags": []
   },
   "outputs": [],
   "source": [
    "from mlflow import tensorflow\n",
    "mlflow.tensorflow.autolog()"
   ]
  },
  {
   "cell_type": "code",
   "execution_count": 10,
   "metadata": {
    "execution": {
     "iopub.execute_input": "2020-12-04T14:56:43.482861Z",
     "iopub.status.busy": "2020-12-04T14:56:43.481332Z",
     "iopub.status.idle": "2020-12-04T14:56:43.736609Z",
     "shell.execute_reply": "2020-12-04T14:56:43.737948Z"
    },
    "papermill": {
     "duration": 0.308067,
     "end_time": "2020-12-04T14:56:43.738190",
     "exception": false,
     "start_time": "2020-12-04T14:56:43.430123",
     "status": "completed"
    },
    "tags": []
   },
   "outputs": [],
   "source": [
    "exp_id = mlflow.set_experiment(EXPERIMENT)\n",
    "\n",
    "#Close active runs\n",
    "if mlflow.active_run():\n",
    "    mlflow.end_run()"
   ]
  },
  {
   "cell_type": "code",
   "execution_count": 11,
   "metadata": {
    "execution": {
     "iopub.execute_input": "2020-12-04T14:56:43.858326Z",
     "iopub.status.busy": "2020-12-04T14:56:43.856659Z",
     "iopub.status.idle": "2020-12-04T14:56:43.870854Z",
     "shell.execute_reply": "2020-12-04T14:56:43.872876Z"
    },
    "papermill": {
     "duration": 0.083006,
     "end_time": "2020-12-04T14:56:43.873232",
     "exception": false,
     "start_time": "2020-12-04T14:56:43.790226",
     "status": "completed"
    },
    "tags": []
   },
   "outputs": [],
   "source": [
    "data_dir = 'fire_detection/'"
   ]
  },
  {
   "cell_type": "code",
   "execution_count": 12,
   "metadata": {
    "execution": {
     "iopub.execute_input": "2020-12-04T14:56:43.980049Z",
     "iopub.status.busy": "2020-12-04T14:56:43.976742Z",
     "iopub.status.idle": "2020-12-04T14:56:44.718138Z",
     "shell.execute_reply": "2020-12-04T14:56:44.720019Z"
    },
    "papermill": {
     "duration": 0.793272,
     "end_time": "2020-12-04T14:56:44.720324",
     "exception": false,
     "start_time": "2020-12-04T14:56:43.927052",
     "status": "completed"
    },
    "tags": []
   },
   "outputs": [
    {
     "name": "stdout",
     "output_type": "stream",
     "text": [
      "Found 403 images belonging to 2 classes.\n"
     ]
    },
    {
     "name": "stdout",
     "output_type": "stream",
     "text": [
      "Found 1614 images belonging to 2 classes.\n"
     ]
    }
   ],
   "source": [
    "datagen_kwargs = dict(rescale=1./255, validation_split=.20)\n",
    "dataflow_kwargs = dict(target_size=IMAGE_SIZE, batch_size=BATCH_SIZE,\n",
    "                   interpolation=\"bilinear\")\n",
    "\n",
    "valid_datagen = tf.keras.preprocessing.image.ImageDataGenerator(\n",
    "    **datagen_kwargs)\n",
    "valid_generator = valid_datagen.flow_from_directory(\n",
    "    data_dir, subset=\"validation\", shuffle=False, **dataflow_kwargs)\n",
    "\n",
    "do_data_augmentation = False \n",
    "if do_data_augmentation:\n",
    "  train_datagen = tf.keras.preprocessing.image.ImageDataGenerator(\n",
    "      rotation_range=40,\n",
    "      horizontal_flip=True,\n",
    "      width_shift_range=0.2, height_shift_range=0.2,\n",
    "      shear_range=0.2, zoom_range=0.2,\n",
    "      **datagen_kwargs)\n",
    "else:\n",
    "  train_datagen = valid_datagen\n",
    "train_generator = train_datagen.flow_from_directory(\n",
    "    data_dir, subset=\"training\", shuffle=True, **dataflow_kwargs)"
   ]
  },
  {
   "cell_type": "code",
   "execution_count": 13,
   "metadata": {
    "execution": {
     "iopub.execute_input": "2020-12-04T14:56:44.861346Z",
     "iopub.status.busy": "2020-12-04T14:56:44.853851Z",
     "iopub.status.idle": "2020-12-04T14:56:44.867390Z",
     "shell.execute_reply": "2020-12-04T14:56:44.869233Z"
    },
    "papermill": {
     "duration": 0.086236,
     "end_time": "2020-12-04T14:56:44.869875",
     "exception": false,
     "start_time": "2020-12-04T14:56:44.783639",
     "status": "completed"
    },
    "tags": []
   },
   "outputs": [],
   "source": [
    "do_fine_tuning = False "
   ]
  },
  {
   "cell_type": "code",
   "execution_count": 14,
   "metadata": {
    "execution": {
     "iopub.execute_input": "2020-12-04T14:56:44.996551Z",
     "iopub.status.busy": "2020-12-04T14:56:44.995191Z",
     "iopub.status.idle": "2020-12-04T14:56:48.690293Z",
     "shell.execute_reply": "2020-12-04T14:56:48.691666Z"
    },
    "papermill": {
     "duration": 3.754411,
     "end_time": "2020-12-04T14:56:48.692250",
     "exception": false,
     "start_time": "2020-12-04T14:56:44.937839",
     "status": "completed"
    },
    "tags": []
   },
   "outputs": [
    {
     "name": "stdout",
     "output_type": "stream",
     "text": [
      "Building model with https://tfhub.dev/google/imagenet/mobilenet_v2_100_224/feature_vector/4\n"
     ]
    }
   ],
   "source": [
    "print(\"Building model with\", MODULE_HANDLE)\n",
    "model = tf.keras.Sequential([\n",
    "    # Explicitly define the input shape so the model can be properly\n",
    "    # loaded by the TFLiteConverter\n",
    "    tf.keras.layers.InputLayer(input_shape=IMAGE_SIZE + (3,)),\n",
    "    hub.KerasLayer(MODULE_HANDLE, trainable=do_fine_tuning),\n",
    "    tf.keras.layers.Dropout(rate=0.2),\n",
    "    tf.keras.layers.Dense(train_generator.num_classes,\n",
    "                          kernel_regularizer=tf.keras.regularizers.l2(0.0001))\n",
    "])\n",
    "model.build((None,)+IMAGE_SIZE+(3,))"
   ]
  },
  {
   "cell_type": "code",
   "execution_count": 15,
   "metadata": {
    "execution": {
     "iopub.execute_input": "2020-12-04T14:56:48.803024Z",
     "iopub.status.busy": "2020-12-04T14:56:48.786919Z",
     "iopub.status.idle": "2020-12-04T14:56:48.814487Z",
     "shell.execute_reply": "2020-12-04T14:56:48.814969Z"
    },
    "papermill": {
     "duration": 0.078148,
     "end_time": "2020-12-04T14:56:48.815149",
     "exception": false,
     "start_time": "2020-12-04T14:56:48.737001",
     "status": "completed"
    },
    "tags": []
   },
   "outputs": [
    {
     "name": "stdout",
     "output_type": "stream",
     "text": [
      "Model: \"sequential\"\n",
      "_________________________________________________________________\n",
      "Layer (type)                 Output Shape              Param #   \n",
      "=================================================================\n",
      "keras_layer (KerasLayer)     (None, 1280)              2257984   \n",
      "_________________________________________________________________\n",
      "dropout (Dropout)            (None, 1280)              0         \n",
      "_________________________________________________________________\n",
      "dense (Dense)                (None, 2)                 2562      \n",
      "=================================================================\n",
      "Total params: 2,260,546\n",
      "Trainable params: 2,562\n",
      "Non-trainable params: 2,257,984\n",
      "_________________________________________________________________\n"
     ]
    },
    {
     "data": {
      "text/plain": [
       "<function TextIOWrapper.close()>"
      ]
     },
     "execution_count": 15,
     "metadata": {},
     "output_type": "execute_result"
    }
   ],
   "source": [
    "summary=str(model.summary())\n",
    "out = open('report.txt','w')\n",
    "out.write(summary)\n",
    "out.close"
   ]
  },
  {
   "cell_type": "code",
   "execution_count": 16,
   "metadata": {
    "execution": {
     "iopub.execute_input": "2020-12-04T14:56:48.953670Z",
     "iopub.status.busy": "2020-12-04T14:56:48.951732Z",
     "iopub.status.idle": "2020-12-04T14:56:48.977794Z",
     "shell.execute_reply": "2020-12-04T14:56:48.978471Z"
    },
    "papermill": {
     "duration": 0.127002,
     "end_time": "2020-12-04T14:56:48.978822",
     "exception": false,
     "start_time": "2020-12-04T14:56:48.851820",
     "status": "completed"
    },
    "tags": []
   },
   "outputs": [],
   "source": [
    "model.compile(\n",
    "  optimizer=tf.keras.optimizers.SGD(lr=0.005, momentum=0.9), \n",
    "  loss=LOSS,\n",
    "  metrics=['accuracy'])"
   ]
  },
  {
   "cell_type": "code",
   "execution_count": 17,
   "metadata": {
    "execution": {
     "iopub.execute_input": "2020-12-04T14:56:49.114848Z",
     "iopub.status.busy": "2020-12-04T14:56:49.111297Z",
     "iopub.status.idle": "2020-12-04T15:00:28.783440Z",
     "shell.execute_reply": "2020-12-04T15:00:28.784340Z"
    },
    "papermill": {
     "duration": 219.762602,
     "end_time": "2020-12-04T15:00:28.785462",
     "exception": false,
     "start_time": "2020-12-04T14:56:49.022860",
     "status": "completed"
    },
    "tags": []
   },
   "outputs": [
    {
     "name": "stdout",
     "output_type": "stream",
     "text": [
      "\r",
      " 1/50 [..............................] - ETA: 0s - loss: 0.6862 - accuracy: 0.6250"
     ]
    },
    {
     "name": "stdout",
     "output_type": "stream",
     "text": [
      "WARNING:tensorflow:From /opt/conda/lib/python3.7/site-packages/tensorflow/python/ops/summary_ops_v2.py:1277: stop (from tensorflow.python.eager.profiler) is deprecated and will be removed after 2020-07-01.\n",
      "Instructions for updating:\n",
      "use `tf.profiler.experimental.stop` instead.\n"
     ]
    },
    {
     "name": "stderr",
     "output_type": "stream",
     "text": [
      "WARNING:tensorflow:From /opt/conda/lib/python3.7/site-packages/tensorflow/python/ops/summary_ops_v2.py:1277: stop (from tensorflow.python.eager.profiler) is deprecated and will be removed after 2020-07-01.\n",
      "Instructions for updating:\n",
      "use `tf.profiler.experimental.stop` instead.\n"
     ]
    },
    {
     "name": "stdout",
     "output_type": "stream",
     "text": [
      "\b\b\b\b\b\b\b\b\b\b\b\b\b\b\b\b\b\b\b\b\b\b\b\b\b\b\b\b\b\b\b\b\b\b\b\b\b\b\b\b\b\b\b\b\b\b\b\b\b\b\b\b\b\b\b\b\b\b\b\b\b\b\b\b\b\b\b\b\b\b\b\b\b\b\b\b\b\b\b\b\b\b\r",
      " 2/50 [>.............................]"
     ]
    },
    {
     "name": "stdout",
     "output_type": "stream",
     "text": [
      " - ETA: 57s - loss: 0.7762 - accuracy: 0.5938"
     ]
    },
    {
     "name": "stdout",
     "output_type": "stream",
     "text": [
      "\b\b\b\b\b\b\b\b\b\b\b\b\b\b\b\b\b\b\b\b\b\b\b\b\b\b\b\b\b\b\b\b\b\b\b\b\b\b\b\b\b\b\b\b\b\b\b\b\b\b\b\b\b\b\b\b\b\b\b\b\b\b\b\b\b\b\b\b\b\b\b\b\b\b\b\b\b\b\b\b\b\b\b\r",
      " 3/50 [>.............................] - ETA: 1:06 - loss: 0.7578 - accuracy: 0.5938"
     ]
    },
    {
     "name": "stdout",
     "output_type": "stream",
     "text": [
      "\b\b\b\b\b\b\b\b\b\b\b\b\b\b\b\b\b\b\b\b\b\b\b\b\b\b\b\b\b\b\b\b\b\b\b\b\b\b\b\b\b\b\b\b\b\b\b\b\b\b\b\b\b\b\b\b\b\b\b\b\b\b\b\b\b\b\b\b\b\b\b\b\b\b\b\b\b\b\b\b\b\b\b\b\r",
      " 4/50 [=>............................] - ETA: 1:12 - loss: 0.7058 - accuracy: 0.6172"
     ]
    },
    {
     "name": "stdout",
     "output_type": "stream",
     "text": [
      "\b\b\b\b\b\b\b\b\b\b\b\b\b\b\b\b\b\b\b\b\b\b\b\b\b\b\b\b\b\b\b\b\b\b\b\b\b\b\b\b\b\b\b\b\b\b\b\b\b\b\b\b\b\b\b\b\b\b\b\b\b\b\b\b\b\b\b\b\b\b\b\b\b\b\b\b\b\b\b\b\b\b\b\b\r",
      " 5/50 [==>...........................] - ETA: 1:02 - loss: 0.7296 - accuracy: 0.6197"
     ]
    },
    {
     "name": "stdout",
     "output_type": "stream",
     "text": [
      "\b\b\b\b\b\b\b\b\b\b\b\b\b\b\b\b\b\b\b\b\b\b\b\b\b\b\b\b\b\b\b\b\b\b\b\b\b\b\b\b\b\b\b\b\b\b\b\b\b\b\b\b\b\b\b\b\b\b\b\b\b\b\b\b\b\b\b\b\b\b\b\b\b\b\b\b\b\b\b\b\b\b\b\b\r",
      " 6/50 [==>...........................] - ETA: 1:06 - loss: 0.6855 - accuracy: 0.6609"
     ]
    },
    {
     "name": "stdout",
     "output_type": "stream",
     "text": [
      "\b\b\b\b\b\b\b\b\b\b\b\b\b\b\b\b\b\b\b\b\b\b\b\b\b\b\b\b\b\b\b\b\b\b\b\b\b\b\b\b\b\b\b\b\b\b\b\b\b\b\b\b\b\b\b\b\b\b\b\b\b\b\b\b\b\b\b\b\b\b\b\b\b\b\b\b\b\b\b\b\b\b\b\b\r",
      " 7/50 [===>..........................] - ETA: 1:06 - loss: 0.6547 - accuracy: 0.6845"
     ]
    },
    {
     "name": "stdout",
     "output_type": "stream",
     "text": [
      "\b\b\b\b\b\b\b\b\b\b\b\b\b\b\b\b\b\b\b\b\b\b\b\b\b\b\b\b\b\b\b\b\b\b\b\b\b\b\b\b\b\b\b\b\b\b\b\b\b\b\b\b\b\b\b\b\b\b\b\b\b\b\b\b\b\b\b\b\b\b\b\b\b\b\b\b\b\b\b\b\b\b\b\b\r",
      " 8/50 [===>..........................] - ETA: 1:09 - loss: 0.6084 - accuracy: 0.7143"
     ]
    },
    {
     "name": "stdout",
     "output_type": "stream",
     "text": [
      "\b\b\b\b\b\b\b\b\b\b\b\b\b\b\b\b\b\b\b\b\b\b\b\b\b\b\b\b\b\b\b\b\b\b\b\b\b\b\b\b\b\b\b\b\b\b\b\b\b\b\b\b\b\b\b\b\b\b\b\b\b\b\b\b\b\b\b\b\b\b\b\b\b\b\b\b\b\b\b\b\b\b\b\b\r",
      " 9/50 [====>.........................] - ETA: 1:09 - loss: 0.5797 - accuracy: 0.7407"
     ]
    },
    {
     "name": "stdout",
     "output_type": "stream",
     "text": [
      "\b\b\b\b\b\b\b\b\b\b\b\b\b\b\b\b\b\b\b\b\b\b\b\b\b\b\b\b\b\b\b\b\b\b\b\b\b\b\b\b\b\b\b\b\b\b\b\b\b\b\b\b\b\b\b\b\b\b\b\b\b\b\b\b\b\b\b\b\b\b\b\b\b\b\b\b\b\b\b\b\b\b\b\b\r",
      "10/50 [=====>........................] - ETA: 1:12 - loss: 0.5692 - accuracy: 0.7417"
     ]
    },
    {
     "name": "stdout",
     "output_type": "stream",
     "text": [
      "\b\b\b\b\b\b\b\b\b\b\b\b\b\b\b\b\b\b\b\b\b\b\b\b\b\b\b\b\b\b\b\b\b\b\b\b\b\b\b\b\b\b\b\b\b\b\b\b\b\b\b\b\b\b\b\b\b\b\b\b\b\b\b\b\b\b\b\b\b\b\b\b\b\b\b\b\b\b\b\b\b\b\b\b\r",
      "11/50 [=====>........................] - ETA: 1:10 - loss: 0.5505 - accuracy: 0.7575"
     ]
    },
    {
     "name": "stdout",
     "output_type": "stream",
     "text": [
      "\b\b\b\b\b\b\b\b\b\b\b\b\b\b\b\b\b\b\b\b\b\b\b\b\b\b\b\b\b\b\b\b\b\b\b\b\b\b\b\b\b\b\b\b\b\b\b\b\b\b\b\b\b\b\b\b\b\b\b\b\b\b\b\b\b\b\b\b\b\b\b\b\b\b\b\b\b\b\b\b\b\b\b\b\r",
      "12/50 [======>.......................] - ETA: 1:09 - loss: 0.5355 - accuracy: 0.7732"
     ]
    },
    {
     "name": "stdout",
     "output_type": "stream",
     "text": [
      "\b\b\b\b\b\b\b\b\b\b\b\b\b\b\b\b\b\b\b\b\b\b\b\b\b\b\b\b\b\b\b\b\b\b\b\b\b\b\b\b\b\b\b\b\b\b\b\b\b\b\b\b\b\b\b\b\b\b\b\b\b\b\b\b\b\b\b\b\b\b\b\b\b\b\b\b\b\b\b\b\b\b\b\b\r",
      "13/50 [======>.......................] - ETA: 1:06 - loss: 0.5422 - accuracy: 0.7739"
     ]
    },
    {
     "name": "stdout",
     "output_type": "stream",
     "text": [
      "\b\b\b\b\b\b\b\b\b\b\b\b\b\b\b\b\b\b\b\b\b\b\b\b\b\b\b\b\b\b\b\b\b\b\b\b\b\b\b\b\b\b\b\b\b\b\b\b\b\b\b\b\b\b\b\b\b\b\b\b\b\b\b\b\b\b\b\b\b\b\b\b\b\b\b\b\b\b\b\b\b\b\b\b\r",
      "14/50 [=======>......................] - ETA: 1:05 - loss: 0.5282 - accuracy: 0.7860"
     ]
    },
    {
     "name": "stdout",
     "output_type": "stream",
     "text": [
      "\b\b\b\b\b\b\b\b\b\b\b\b\b\b\b\b\b\b\b\b\b\b\b\b\b\b\b\b\b\b\b\b\b\b\b\b\b\b\b\b\b\b\b\b\b\b\b\b\b\b\b\b\b\b\b\b\b\b\b\b\b\b\b\b\b\b\b\b\b\b\b\b\b\b\b\b\b\b\b\b\b\b\b\b\r",
      "15/50 [========>.....................] - ETA: 1:03 - loss: 0.5160 - accuracy: 0.7965"
     ]
    },
    {
     "name": "stdout",
     "output_type": "stream",
     "text": [
      "\b\b\b\b\b\b\b\b\b\b\b\b\b\b\b\b\b\b\b\b\b\b\b\b\b\b\b\b\b\b\b\b\b\b\b\b\b\b\b\b\b\b\b\b\b\b\b\b\b\b\b\b\b\b\b\b\b\b\b\b\b\b\b\b\b\b\b\b\b\b\b\b\b\b\b\b\b\b\b\b\b\b\b\b\r",
      "16/50 [========>.....................] - ETA: 1:00 - loss: 0.5218 - accuracy: 0.8036"
     ]
    },
    {
     "name": "stdout",
     "output_type": "stream",
     "text": [
      "\b\b\b\b\b\b\b\b\b\b\b\b\b\b\b\b\b\b\b\b\b\b\b\b\b\b\b\b\b\b\b\b\b\b\b\b\b\b\b\b\b\b\b\b\b\b\b\b\b\b\b\b\b\b\b\b\b\b\b\b\b\b\b\b\b\b\b\b\b\b\b\b\b\b\b\b\b\b\b\b\b\b\b\b\r",
      "17/50 [=========>....................] - ETA: 58s - loss: 0.5128 - accuracy: 0.8118 "
     ]
    },
    {
     "name": "stdout",
     "output_type": "stream",
     "text": [
      "\b\b\b\b\b\b\b\b\b\b\b\b\b\b\b\b\b\b\b\b\b\b\b\b\b\b\b\b\b\b\b\b\b\b\b\b\b\b\b\b\b\b\b\b\b\b\b\b\b\b\b\b\b\b\b\b\b\b\b\b\b\b\b\b\b\b\b\b\b\b\b\b\b\b\b\b\b\b\b\b\b\b\b\r",
      "18/50 [=========>....................] - ETA: 56s - loss: 0.5017 - accuracy: 0.8208"
     ]
    },
    {
     "name": "stdout",
     "output_type": "stream",
     "text": [
      "\b\b\b\b\b\b\b\b\b\b\b\b\b\b\b\b\b\b\b\b\b\b\b\b\b\b\b\b\b\b\b\b\b\b\b\b\b\b\b\b\b\b\b\b\b\b\b\b\b\b\b\b\b\b\b\b\b\b\b\b\b\b\b\b\b\b\b\b\b\b\b\b\b\b\b\b\b\b\b\b\b\b\b\r",
      "19/50 [==========>...................] - ETA: 55s - loss: 0.4888 - accuracy: 0.8305"
     ]
    },
    {
     "name": "stdout",
     "output_type": "stream",
     "text": [
      "\b\b\b\b\b\b\b\b\b\b\b\b\b\b\b\b\b\b\b\b\b\b\b\b\b\b\b\b\b\b\b\b\b\b\b\b\b\b\b\b\b\b\b\b\b\b\b\b\b\b\b\b\b\b\b\b\b\b\b\b\b\b\b\b\b\b\b\b\b\b\b\b\b\b\b\b\b\b\b\b\b\b\b\r",
      "20/50 [===========>..................] - ETA: 53s - loss: 0.4848 - accuracy: 0.8376"
     ]
    },
    {
     "name": "stdout",
     "output_type": "stream",
     "text": [
      "\b\b\b\b\b\b\b\b\b\b\b\b\b\b\b\b\b\b\b\b\b\b\b\b\b\b\b\b\b\b\b\b\b\b\b\b\b\b\b\b\b\b\b\b\b\b\b\b\b\b\b\b\b\b\b\b\b\b\b\b\b\b\b\b\b\b\b\b\b\b\b\b\b\b\b\b\b\b\b\b\b\b\b\r",
      "21/50 [===========>..................] - ETA: 51s - loss: 0.4804 - accuracy: 0.8440"
     ]
    },
    {
     "name": "stdout",
     "output_type": "stream",
     "text": [
      "\b\b\b\b\b\b\b\b\b\b\b\b\b\b\b\b\b\b\b\b\b\b\b\b\b\b\b\b\b\b\b\b\b\b\b\b\b\b\b\b\b\b\b\b\b\b\b\b\b\b\b\b\b\b\b\b\b\b\b\b\b\b\b\b\b\b\b\b\b\b\b\b\b\b\b\b\b\b\b\b\b\b\b\r",
      "22/50 [============>.................] - ETA: 50s - loss: 0.4706 - accuracy: 0.8513"
     ]
    },
    {
     "name": "stdout",
     "output_type": "stream",
     "text": [
      "\b\b\b\b\b\b\b\b\b\b\b\b\b\b\b\b\b\b\b\b\b\b\b\b\b\b\b\b\b\b\b\b\b\b\b\b\b\b\b\b\b\b\b\b\b\b\b\b\b\b\b\b\b\b\b\b\b\b\b\b\b\b\b\b\b\b\b\b\b\b\b\b\b\b\b\b\b\b\b\b\b\b\b\r",
      "23/50 [============>.................] - ETA: 48s - loss: 0.4679 - accuracy: 0.8565"
     ]
    },
    {
     "name": "stdout",
     "output_type": "stream",
     "text": [
      "\b\b\b\b\b\b\b\b\b\b\b\b\b\b\b\b\b\b\b\b\b\b\b\b\b\b\b\b\b\b\b\b\b\b\b\b\b\b\b\b\b\b\b\b\b\b\b\b\b\b\b\b\b\b\b\b\b\b\b\b\b\b\b\b\b\b\b\b\b\b\b\b\b\b\b\b\b\b\b\b\b\b\b\r",
      "24/50 [=============>................] - ETA: 49s - loss: 0.4692 - accuracy: 0.8587"
     ]
    },
    {
     "name": "stdout",
     "output_type": "stream",
     "text": [
      "\b\b\b\b\b\b\b\b\b\b\b\b\b\b\b\b\b\b\b\b\b\b\b\b\b\b\b\b\b\b\b\b\b\b\b\b\b\b\b\b\b\b\b\b\b\b\b\b\b\b\b\b\b\b\b\b\b\b\b\b\b\b\b\b\b\b\b\b\b\b\b\b\b\b\b\b\b\b\b\b\b\b\b\r",
      "25/50 [==============>...............] - ETA: 48s - loss: 0.4610 - accuracy: 0.8632"
     ]
    },
    {
     "name": "stdout",
     "output_type": "stream",
     "text": [
      "\b\b\b\b\b\b\b\b\b\b\b\b\b\b\b\b\b\b\b\b\b\b\b\b\b\b\b\b\b\b\b\b\b\b\b\b\b\b\b\b\b\b\b\b\b\b\b\b\b\b\b\b\b\b\b\b\b\b\b\b\b\b\b\b\b\b\b\b\b\b\b\b\b\b\b\b\b\b\b\b\b\b\b\r",
      "26/50 [==============>...............] - ETA: 46s - loss: 0.4571 - accuracy: 0.8649"
     ]
    },
    {
     "name": "stdout",
     "output_type": "stream",
     "text": [
      "\b\b\b\b\b\b\b\b\b\b\b\b\b\b\b\b\b\b\b\b\b\b\b\b\b\b\b\b\b\b\b\b\b\b\b\b\b\b\b\b\b\b\b\b\b\b\b\b\b\b\b\b\b\b\b\b\b\b\b\b\b\b\b\b\b\b\b\b\b\b\b\b\b\b\b\b\b\b\b\b\b\b\b\r",
      "27/50 [===============>..............] - ETA: 44s - loss: 0.4510 - accuracy: 0.8700"
     ]
    },
    {
     "name": "stdout",
     "output_type": "stream",
     "text": [
      "\b\b\b\b\b\b\b\b\b\b\b\b\b\b\b\b\b\b\b\b\b\b\b\b\b\b\b\b\b\b\b\b\b\b\b\b\b\b\b\b\b\b\b\b\b\b\b\b\b\b\b\b\b\b\b\b\b\b\b\b\b\b\b\b\b\b\b\b\b\b\b\b\b\b\b\b\b\b\b\b\b\b\b\r",
      "28/50 [===============>..............] - ETA: 42s - loss: 0.4450 - accuracy: 0.8736"
     ]
    },
    {
     "name": "stdout",
     "output_type": "stream",
     "text": [
      "\b\b\b\b\b\b\b\b\b\b\b\b\b\b\b\b\b\b\b\b\b\b\b\b\b\b\b\b\b\b\b\b\b\b\b\b\b\b\b\b\b\b\b\b\b\b\b\b\b\b\b\b\b\b\b\b\b\b\b\b\b\b\b\b\b\b\b\b\b\b\b\b\b\b\b\b\b\b\b\b\b\b\b\r",
      "29/50 [================>.............] - ETA: 40s - loss: 0.4392 - accuracy: 0.8780"
     ]
    },
    {
     "name": "stdout",
     "output_type": "stream",
     "text": [
      "\b\b\b\b\b\b\b\b\b\b\b\b\b\b\b\b\b\b\b\b\b\b\b\b\b\b\b\b\b\b\b\b\b\b\b\b\b\b\b\b\b\b\b\b\b\b\b\b\b\b\b\b\b\b\b\b\b\b\b\b\b\b\b\b\b\b\b\b\b\b\b\b\b\b\b\b\b\b\b\b\b\b\b\r",
      "30/50 [=================>............] - ETA: 38s - loss: 0.4343 - accuracy: 0.8811"
     ]
    },
    {
     "name": "stdout",
     "output_type": "stream",
     "text": [
      "\b\b\b\b\b\b\b\b\b\b\b\b\b\b\b\b\b\b\b\b\b\b\b\b\b\b\b\b\b\b\b\b\b\b\b\b\b\b\b\b\b\b\b\b\b\b\b\b\b\b\b\b\b\b\b\b\b\b\b\b\b\b\b\b\b\b\b\b\b\b\b\b\b\b\b\b\b\b\b\b\b\b\b\r",
      "31/50 [=================>............] - ETA: 36s - loss: 0.4294 - accuracy: 0.8840"
     ]
    },
    {
     "name": "stdout",
     "output_type": "stream",
     "text": [
      "\b\b\b\b\b\b\b\b\b\b\b\b\b\b\b\b\b\b\b\b\b\b\b\b\b\b\b\b\b\b\b\b\b\b\b\b\b\b\b\b\b\b\b\b\b\b\b\b\b\b\b\b\b\b\b\b\b\b\b\b\b\b\b\b\b\b\b\b\b\b\b\b\b\b\b\b\b\b\b\b\b\b\b\r",
      "32/50 [==================>...........] - ETA: 34s - loss: 0.4273 - accuracy: 0.8867"
     ]
    },
    {
     "name": "stdout",
     "output_type": "stream",
     "text": [
      "\b\b\b\b\b\b\b\b\b\b\b\b\b\b\b\b\b\b\b\b\b\b\b\b\b\b\b\b\b\b\b\b\b\b\b\b\b\b\b\b\b\b\b\b\b\b\b\b\b\b\b\b\b\b\b\b\b\b\b\b\b\b\b\b\b\b\b\b\b\b\b\b\b\b\b\b\b\b\b\b\b\b\b\r",
      "33/50 [==================>...........] - ETA: 32s - loss: 0.4219 - accuracy: 0.8902"
     ]
    },
    {
     "name": "stdout",
     "output_type": "stream",
     "text": [
      "\b\b\b\b\b\b\b\b\b\b\b\b\b\b\b\b\b\b\b\b\b\b\b\b\b\b\b\b\b\b\b\b\b\b\b\b\b\b\b\b\b\b\b\b\b\b\b\b\b\b\b\b\b\b\b\b\b\b\b\b\b\b\b\b\b\b\b\b\b\b\b\b\b\b\b\b\b\b\b\b\b\b\b\r",
      "34/50 [===================>..........] - ETA: 31s - loss: 0.4196 - accuracy: 0.8916"
     ]
    },
    {
     "name": "stdout",
     "output_type": "stream",
     "text": [
      "\b\b\b\b\b\b\b\b\b\b\b\b\b\b\b\b\b\b\b\b\b\b\b\b\b\b\b\b\b\b\b\b\b\b\b\b\b\b\b\b\b\b\b\b\b\b\b\b\b\b\b\b\b\b\b\b\b\b\b\b\b\b\b\b\b\b\b\b\b\b\b\b\b\b\b\b\b\b\b\b\b\b\b\r",
      "35/50 [====================>.........] - ETA: 29s - loss: 0.4164 - accuracy: 0.8929"
     ]
    },
    {
     "name": "stdout",
     "output_type": "stream",
     "text": [
      "\b\b\b\b\b\b\b\b\b\b\b\b\b\b\b\b\b\b\b\b\b\b\b\b\b\b\b\b\b\b\b\b\b\b\b\b\b\b\b\b\b\b\b\b\b\b\b\b\b\b\b\b\b\b\b\b\b\b\b\b\b\b\b\b\b\b\b\b\b\b\b\b\b\b\b\b\b\b\b\b\b\b\b\r",
      "36/50 [====================>.........] - ETA: 28s - loss: 0.4118 - accuracy: 0.8959"
     ]
    },
    {
     "name": "stdout",
     "output_type": "stream",
     "text": [
      "\b\b\b\b\b\b\b\b\b\b\b\b\b\b\b\b\b\b\b\b\b\b\b\b\b\b\b\b\b\b\b\b\b\b\b\b\b\b\b\b\b\b\b\b\b\b\b\b\b\b\b\b\b\b\b\b\b\b\b\b\b\b\b\b\b\b\b\b\b\b\b\b\b\b\b\b\b\b\b\b\b\b\b\r",
      "37/50 [=====================>........] - ETA: 26s - loss: 0.4091 - accuracy: 0.8979"
     ]
    },
    {
     "name": "stdout",
     "output_type": "stream",
     "text": [
      "\b\b\b\b\b\b\b\b\b\b\b\b\b\b\b\b\b\b\b\b\b\b\b\b\b\b\b\b\b\b\b\b\b\b\b\b\b\b\b\b\b\b\b\b\b\b\b\b\b\b\b\b\b\b\b\b\b\b\b\b\b\b\b\b\b\b\b\b\b\b\b\b\b\b\b\b\b\b\b\b\b\b\b\r",
      "38/50 [=====================>........] - ETA: 24s - loss: 0.4063 - accuracy: 0.8990"
     ]
    },
    {
     "name": "stdout",
     "output_type": "stream",
     "text": [
      "\b\b\b\b\b\b\b\b\b\b\b\b\b\b\b\b\b\b\b\b\b\b\b\b\b\b\b\b\b\b\b\b\b\b\b\b\b\b\b\b\b\b\b\b\b\b\b\b\b\b\b\b\b\b\b\b\b\b\b\b\b\b\b\b\b\b\b\b\b\b\b\b\b\b\b\b\b\b\b\b\b\b\b\r",
      "39/50 [======================>.......] - ETA: 22s - loss: 0.4019 - accuracy: 0.9016"
     ]
    },
    {
     "name": "stdout",
     "output_type": "stream",
     "text": [
      "\b\b\b\b\b\b\b\b\b\b\b\b\b\b\b\b\b\b\b\b\b\b\b\b\b\b\b\b\b\b\b\b\b\b\b\b\b\b\b\b\b\b\b\b\b\b\b\b\b\b\b\b\b\b\b\b\b\b\b\b\b\b\b\b\b\b\b\b\b\b\b\b\b\b\b\b\b\b\b\b\b\b\b\r",
      "40/50 [=======================>......] - ETA: 20s - loss: 0.4081 - accuracy: 0.9002"
     ]
    },
    {
     "name": "stdout",
     "output_type": "stream",
     "text": [
      "\b\b\b\b\b\b\b\b\b\b\b\b\b\b\b\b\b\b\b\b\b\b\b\b\b\b\b\b\b\b\b\b\b\b\b\b\b\b\b\b\b\b\b\b\b\b\b\b\b\b\b\b\b\b\b\b\b\b\b\b\b\b\b\b\b\b\b\b\b\b\b\b\b\b\b\b\b\b\b\b\b\b\b\r",
      "41/50 [=======================>......] - ETA: 18s - loss: 0.4051 - accuracy: 0.9011"
     ]
    },
    {
     "name": "stdout",
     "output_type": "stream",
     "text": [
      "\b\b\b\b\b\b\b\b\b\b\b\b\b\b\b\b\b\b\b\b\b\b\b\b\b\b\b\b\b\b\b\b\b\b\b\b\b\b\b\b\b\b\b\b\b\b\b\b\b\b\b\b\b\b\b\b\b\b\b\b\b\b\b\b\b\b\b\b\b\b\b\b\b\b\b\b\b\b\b\b\b\b\b\r",
      "42/50 [========================>.....] - ETA: 16s - loss: 0.4045 - accuracy: 0.9027"
     ]
    },
    {
     "name": "stdout",
     "output_type": "stream",
     "text": [
      "\b\b\b\b\b\b\b\b\b\b\b\b\b\b\b\b\b\b\b\b\b\b\b\b\b\b\b\b\b\b\b\b\b\b\b\b\b\b\b\b\b\b\b\b\b\b\b\b\b\b\b\b\b\b\b\b\b\b\b\b\b\b\b\b\b\b\b\b\b\b\b\b\b\b\b\b\b\b\b\b\b\b\b\r",
      "43/50 [========================>.....] - ETA: 14s - loss: 0.4010 - accuracy: 0.9043"
     ]
    },
    {
     "name": "stdout",
     "output_type": "stream",
     "text": [
      "\b\b\b\b\b\b\b\b\b\b\b\b\b\b\b\b\b\b\b\b\b\b\b\b\b\b\b\b\b\b\b\b\b\b\b\b\b\b\b\b\b\b\b\b\b\b\b\b\b\b\b\b\b\b\b\b\b\b\b\b\b\b\b\b\b\b\b\b\b\b\b\b\b\b\b\b\b\b\b\b\b\b\b\r",
      "44/50 [=========================>....] - ETA: 12s - loss: 0.3998 - accuracy: 0.9050"
     ]
    },
    {
     "name": "stdout",
     "output_type": "stream",
     "text": [
      "\b\b\b\b\b\b\b\b\b\b\b\b\b\b\b\b\b\b\b\b\b\b\b\b\b\b\b\b\b\b\b\b\b\b\b\b\b\b\b\b\b\b\b\b\b\b\b\b\b\b\b\b\b\b\b\b\b\b\b\b\b\b\b\b\b\b\b\b\b\b\b\b\b\b\b\b\b\b\b\b\b\b\b\r",
      "45/50 [==========================>...] - ETA: 10s - loss: 0.3988 - accuracy: 0.9051"
     ]
    },
    {
     "name": "stdout",
     "output_type": "stream",
     "text": [
      "\b\b\b\b\b\b\b\b\b\b\b\b\b\b\b\b\b\b\b\b\b\b\b\b\b\b\b\b\b\b\b\b\b\b\b\b\b\b\b\b\b\b\b\b\b\b\b\b\b\b\b\b\b\b\b\b\b\b\b\b\b\b\b\b\b\b\b\b\b\b\b\b\b\b\b\b\b\b\b\b\b\b\b\r",
      "46/50 [==========================>...] - ETA: 8s - loss: 0.3993 - accuracy: 0.9051 "
     ]
    },
    {
     "name": "stdout",
     "output_type": "stream",
     "text": [
      "\b\b\b\b\b\b\b\b\b\b\b\b\b\b\b\b\b\b\b\b\b\b\b\b\b\b\b\b\b\b\b\b\b\b\b\b\b\b\b\b\b\b\b\b\b\b\b\b\b\b\b\b\b\b\b\b\b\b\b\b\b\b\b\b\b\b\b\b\b\b\b\b\b\b\b\b\b\b\b\b\b\b\r",
      "47/50 [===========================>..] - ETA: 6s - loss: 0.3975 - accuracy: 0.9058"
     ]
    },
    {
     "name": "stdout",
     "output_type": "stream",
     "text": [
      "\b\b\b\b\b\b\b\b\b\b\b\b\b\b\b\b\b\b\b\b\b\b\b\b\b\b\b\b\b\b\b\b\b\b\b\b\b\b\b\b\b\b\b\b\b\b\b\b\b\b\b\b\b\b\b\b\b\b\b\b\b\b\b\b\b\b\b\b\b\b\b\b\b\b\b\b\b\b\b\b\b\b\r",
      "48/50 [===========================>..] - ETA: 4s - loss: 0.3976 - accuracy: 0.9071"
     ]
    },
    {
     "name": "stdout",
     "output_type": "stream",
     "text": [
      "\b\b\b\b\b\b\b\b\b\b\b\b\b\b\b\b\b\b\b\b\b\b\b\b\b\b\b\b\b\b\b\b\b\b\b\b\b\b\b\b\b\b\b\b\b\b\b\b\b\b\b\b\b\b\b\b\b\b\b\b\b\b\b\b\b\b\b\b\b\b\b\b\b\b\b\b\b\b\b\b\b\b\r",
      "49/50 [============================>.] - ETA: 2s - loss: 0.3944 - accuracy: 0.9090"
     ]
    },
    {
     "name": "stdout",
     "output_type": "stream",
     "text": [
      "\b\b\b\b\b\b\b\b\b\b\b\b\b\b\b\b\b\b\b\b\b\b\b\b\b\b\b\b\b\b\b\b\b\b\b\b\b\b\b\b\b\b\b\b\b\b\b\b\b\b\b\b\b\b\b\b\b\b\b\b\b\b\b\b\b\b\b\b\b\b\b\b\b\b\b\b\b\b\b\b\b\b\r",
      "50/50 [==============================] - ETA: 0s - loss: 0.3928 - accuracy: 0.9096"
     ]
    },
    {
     "name": "stdout",
     "output_type": "stream",
     "text": [
      "\b\b\b\b\b\b\b\b\b\b\b\b\b\b\b\b\b\b\b\b\b\b\b\b\b\b\b\b\b\b\b\b\b\b\b\b\b\b\b\b\b\b\b\b\b\b\b\b\b\b\b\b\b\b\b\b\b\b\b\b\b\b\b\b\b\b\b\b\b\b\b\b\b\b\b\b\b\b\b\b\b\b\r",
      "50/50 [==============================] - 135s 3s/step - loss: 0.3928 - accuracy: 0.9096 - val_loss: 0.2546 - val_accuracy: 0.9844\n"
     ]
    },
    {
     "name": "stderr",
     "output_type": "stream",
     "text": [
      "WARNING:urllib3.connectionpool:Failed to parse headers (url=http://minio1:9000/mlflowruns/13/da35e371e23d4c8788a367b15231af4d/artifacts/tensorboard_logs/train/plugins/profile/2020_12_04_14_57_03/0d310ec91a74.input_pipeline.pb): [MissingHeaderBodySeparatorDefect()], unparsed data: 'HTTP/1.1 200 OK\\r\\nAccept-Ranges: bytes\\r\\nContent-Length: 0\\r\\nContent-Security-Policy: block-all-mixed-content\\r\\nETag: \"12ff7c25131843453e7564e0fa459d01\"\\r\\nServer: MinIO\\r\\nVary: Origin\\r\\nX-Amz-Request-Id: 164D8B7156502EFC\\r\\nX-Xss-Protection: 1; mode=block\\r\\nDate: Fri, 04 Dec 2020 14:59:20 GMT\\r\\n\\r\\n'\n",
      "Traceback (most recent call last):\n",
      "  File \"/opt/conda/lib/python3.7/site-packages/urllib3/connectionpool.py\", line 465, in _make_request\n",
      "    assert_header_parsing(httplib_response.msg)\n",
      "  File \"/opt/conda/lib/python3.7/site-packages/urllib3/util/response.py\", line 91, in assert_header_parsing\n",
      "    raise HeaderParsingError(defects=defects, unparsed_data=unparsed_data)\n",
      "urllib3.exceptions.HeaderParsingError: [MissingHeaderBodySeparatorDefect()], unparsed data: 'HTTP/1.1 200 OK\\r\\nAccept-Ranges: bytes\\r\\nContent-Length: 0\\r\\nContent-Security-Policy: block-all-mixed-content\\r\\nETag: \"12ff7c25131843453e7564e0fa459d01\"\\r\\nServer: MinIO\\r\\nVary: Origin\\r\\nX-Amz-Request-Id: 164D8B7156502EFC\\r\\nX-Xss-Protection: 1; mode=block\\r\\nDate: Fri, 04 Dec 2020 14:59:20 GMT\\r\\n\\r\\n'\n"
     ]
    },
    {
     "name": "stdout",
     "output_type": "stream",
     "text": [
      "WARNING:tensorflow:From /opt/conda/lib/python3.7/site-packages/tensorflow/python/training/tracking/tracking.py:111: Model.state_updates (from tensorflow.python.keras.engine.training) is deprecated and will be removed in a future version.\n",
      "Instructions for updating:\n",
      "This property should not be used in TensorFlow 2.0, as updates are applied automatically.\n"
     ]
    },
    {
     "name": "stderr",
     "output_type": "stream",
     "text": [
      "WARNING:tensorflow:From /opt/conda/lib/python3.7/site-packages/tensorflow/python/training/tracking/tracking.py:111: Model.state_updates (from tensorflow.python.keras.engine.training) is deprecated and will be removed in a future version.\n",
      "Instructions for updating:\n",
      "This property should not be used in TensorFlow 2.0, as updates are applied automatically.\n"
     ]
    },
    {
     "name": "stdout",
     "output_type": "stream",
     "text": [
      "WARNING:tensorflow:From /opt/conda/lib/python3.7/site-packages/tensorflow/python/training/tracking/tracking.py:111: Layer.updates (from tensorflow.python.keras.engine.base_layer) is deprecated and will be removed in a future version.\n",
      "Instructions for updating:\n",
      "This property should not be used in TensorFlow 2.0, as updates are applied automatically.\n"
     ]
    },
    {
     "name": "stderr",
     "output_type": "stream",
     "text": [
      "WARNING:tensorflow:From /opt/conda/lib/python3.7/site-packages/tensorflow/python/training/tracking/tracking.py:111: Layer.updates (from tensorflow.python.keras.engine.base_layer) is deprecated and will be removed in a future version.\n",
      "Instructions for updating:\n",
      "This property should not be used in TensorFlow 2.0, as updates are applied automatically.\n"
     ]
    },
    {
     "name": "stdout",
     "output_type": "stream",
     "text": [
      "INFO:tensorflow:Assets written to: saved_model/assets\n"
     ]
    },
    {
     "name": "stderr",
     "output_type": "stream",
     "text": [
      "INFO:tensorflow:Assets written to: saved_model/assets\n"
     ]
    }
   ],
   "source": [
    "with mlflow.start_run(run_id=None, experiment_id=exp_id, run_name=None, nested=False): \n",
    "  steps_per_epoch = train_generator.samples // train_generator.batch_size\n",
    "  validation_steps = valid_generator.samples // valid_generator.batch_size\n",
    "  \n",
    "  hist = model.fit(\n",
    "      train_generator,\n",
    "      epochs=EPOCHS, steps_per_epoch=steps_per_epoch,\n",
    "      validation_data=valid_generator,\n",
    "      validation_steps=validation_steps).history\n",
    "\n",
    "  #Set tags\n",
    "  mlflow.set_tags(tags)\n",
    "\n",
    "  #mlflow logging\n",
    "  \n",
    "  # log parameters\n",
    "  mlflow.log_param(\"epochs\", EPOCHS)\n",
    "  mlflow.log_param(\"loss_function\", str(LOSS))\n",
    "\n",
    "  # log metrics\n",
    "  for epoch in range(0, EPOCHS):\n",
    "    mlflow.log_metric(\"accuracy\", hist['accuracy'][epoch])\n",
    "    mlflow.log_metric(\"loss\",  hist['loss'][epoch])\n",
    "    mlflow.log_metric(\"val_accuracy\",  hist['val_accuracy'][epoch])\n",
    "    mlflow.log_metric(\"val_loss\",  hist['val_loss'][epoch])\n",
    "  \n",
    "  #results=evaluate_model() #TODO\n",
    "  #mlflow.log_metric(\"average_loss\", results[0])\n",
    "  #mlflow.log_metric(\"average_acc\", results[1])\n",
    "  \n",
    "  #log model\n",
    "  #model.save(os.path.join(BASE_DIR, \"models\", \"{}.h5\".format(int(t)))) #HDF5 format\n",
    "  tf.saved_model.save(model, SAVE_PATH) #SavedModel format\n",
    "  \n",
    "  # log artifacts (matplotlib images for loss/accuracy, etc.)\n",
    "  #mlflow.log_artifacts('report.txt', \"mlflowruns\")\n",
    "\n",
    "  mlflow.end_run()"
   ]
  },
  {
   "cell_type": "code",
   "execution_count": null,
   "metadata": {
    "papermill": {
     "duration": 0.062174,
     "end_time": "2020-12-04T15:00:28.929852",
     "exception": false,
     "start_time": "2020-12-04T15:00:28.867678",
     "status": "completed"
    },
    "tags": []
   },
   "outputs": [],
   "source": []
  }
 ],
 "metadata": {
  "kernelspec": {
   "display_name": "Python 3",
   "language": "python",
   "name": "python3"
  },
  "language_info": {
   "codemirror_mode": {
    "name": "ipython",
    "version": 3
   },
   "file_extension": ".py",
   "mimetype": "text/x-python",
   "name": "python",
   "nbconvert_exporter": "python",
   "pygments_lexer": "ipython3",
   "version": "3.7.4"
  },
  "papermill": {
   "default_parameters": {},
   "duration": 247.439655,
   "end_time": "2020-12-04T15:00:32.335174",
   "environment_variables": {},
   "exception": null,
   "input_path": "/home/jovyan/work/train.ipynb",
   "output_path": "/home/jovyan/work/train.ipynb",
   "parameters": {},
   "start_time": "2020-12-04T14:56:24.895519",
   "version": "2.2.2"
  }
 },
 "nbformat": 4,
 "nbformat_minor": 4
}