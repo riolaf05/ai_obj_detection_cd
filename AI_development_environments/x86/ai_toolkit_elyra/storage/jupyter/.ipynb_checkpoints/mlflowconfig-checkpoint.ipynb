{
 "cells": [
  {
   "cell_type": "code",
   "execution_count": 1,
   "metadata": {},
   "outputs": [
    {
     "name": "stdout",
     "output_type": "stream",
     "text": [
      "Overwriting requirements.txt\n"
     ]
    }
   ],
   "source": [
    "%%writefile requirements.txt\n",
    "mlflow==1.10.0"
   ]
  },
  {
   "cell_type": "code",
   "execution_count": 2,
   "metadata": {},
   "outputs": [
    {
     "name": "stdout",
     "output_type": "stream",
     "text": [
      "Requirement already satisfied: mlflow==1.10.0 in /opt/conda/lib/python3.7/site-packages (from -r requirements.txt (line 1)) (1.10.0)\n",
      "Requirement already satisfied: querystring-parser in /opt/conda/lib/python3.7/site-packages (from mlflow==1.10.0->-r requirements.txt (line 1)) (1.2.4)\n",
      "Requirement already satisfied: databricks-cli>=0.8.7 in /opt/conda/lib/python3.7/site-packages (from mlflow==1.10.0->-r requirements.txt (line 1)) (0.14.1)\n",
      "Requirement already satisfied: docker>=4.0.0 in /opt/conda/lib/python3.7/site-packages (from mlflow==1.10.0->-r requirements.txt (line 1)) (4.4.0)\n",
      "Requirement already satisfied: pandas in /opt/conda/lib/python3.7/site-packages (from mlflow==1.10.0->-r requirements.txt (line 1)) (1.1.4)\n",
      "Requirement already satisfied: python-dateutil in /opt/conda/lib/python3.7/site-packages (from mlflow==1.10.0->-r requirements.txt (line 1)) (2.8.1)\n",
      "Requirement already satisfied: alembic in /opt/conda/lib/python3.7/site-packages (from mlflow==1.10.0->-r requirements.txt (line 1)) (1.3.3)\n",
      "Requirement already satisfied: gorilla in /opt/conda/lib/python3.7/site-packages (from mlflow==1.10.0->-r requirements.txt (line 1)) (0.3.0)\n",
      "Requirement already satisfied: cloudpickle in /opt/conda/lib/python3.7/site-packages (from mlflow==1.10.0->-r requirements.txt (line 1)) (1.6.0)\n",
      "Requirement already satisfied: protobuf>=3.6.0 in /opt/conda/lib/python3.7/site-packages (from mlflow==1.10.0->-r requirements.txt (line 1)) (3.14.0)\n",
      "Requirement already satisfied: sqlparse in /opt/conda/lib/python3.7/site-packages (from mlflow==1.10.0->-r requirements.txt (line 1)) (0.4.1)\n",
      "Requirement already satisfied: requests>=2.17.3 in /opt/conda/lib/python3.7/site-packages (from mlflow==1.10.0->-r requirements.txt (line 1)) (2.25.0)\n",
      "Requirement already satisfied: prometheus-flask-exporter in /opt/conda/lib/python3.7/site-packages (from mlflow==1.10.0->-r requirements.txt (line 1)) (0.18.1)\n",
      "Requirement already satisfied: sqlalchemy<=1.3.13 in /opt/conda/lib/python3.7/site-packages (from mlflow==1.10.0->-r requirements.txt (line 1)) (1.3.13)\n",
      "Requirement already satisfied: gunicorn; platform_system != \"Windows\" in /opt/conda/lib/python3.7/site-packages (from mlflow==1.10.0->-r requirements.txt (line 1)) (20.0.4)\n",
      "Requirement already satisfied: click>=7.0 in /opt/conda/lib/python3.7/site-packages (from mlflow==1.10.0->-r requirements.txt (line 1)) (7.1.2)\n",
      "Requirement already satisfied: numpy in /opt/conda/lib/python3.7/site-packages (from mlflow==1.10.0->-r requirements.txt (line 1)) (1.19.4)\n",
      "Requirement already satisfied: entrypoints in /opt/conda/lib/python3.7/site-packages (from mlflow==1.10.0->-r requirements.txt (line 1)) (0.3)\n",
      "Requirement already satisfied: six>=1.10.0 in /opt/conda/lib/python3.7/site-packages (from mlflow==1.10.0->-r requirements.txt (line 1)) (1.15.0)\n",
      "Requirement already satisfied: gitpython>=2.1.0 in /opt/conda/lib/python3.7/site-packages (from mlflow==1.10.0->-r requirements.txt (line 1)) (3.1.11)\n",
      "Requirement already satisfied: azure-storage-blob>=12.0 in /opt/conda/lib/python3.7/site-packages (from mlflow==1.10.0->-r requirements.txt (line 1)) (12.6.0)\n",
      "Requirement already satisfied: Flask in /opt/conda/lib/python3.7/site-packages (from mlflow==1.10.0->-r requirements.txt (line 1)) (1.1.2)\n",
      "Requirement already satisfied: pyyaml in /opt/conda/lib/python3.7/site-packages (from mlflow==1.10.0->-r requirements.txt (line 1)) (5.3.1)\n",
      "Requirement already satisfied: tabulate>=0.7.7 in /opt/conda/lib/python3.7/site-packages (from databricks-cli>=0.8.7->mlflow==1.10.0->-r requirements.txt (line 1)) (0.8.7)\n",
      "Requirement already satisfied: websocket-client>=0.32.0 in /opt/conda/lib/python3.7/site-packages (from docker>=4.0.0->mlflow==1.10.0->-r requirements.txt (line 1)) (0.57.0)\n",
      "Requirement already satisfied: pytz>=2017.2 in /opt/conda/lib/python3.7/site-packages (from pandas->mlflow==1.10.0->-r requirements.txt (line 1)) (2020.4)\n",
      "Requirement already satisfied: Mako in /opt/conda/lib/python3.7/site-packages (from alembic->mlflow==1.10.0->-r requirements.txt (line 1)) (1.1.0)\n",
      "Requirement already satisfied: python-editor>=0.3 in /opt/conda/lib/python3.7/site-packages (from alembic->mlflow==1.10.0->-r requirements.txt (line 1)) (1.0.4)\n",
      "Requirement already satisfied: chardet<4,>=3.0.2 in /opt/conda/lib/python3.7/site-packages (from requests>=2.17.3->mlflow==1.10.0->-r requirements.txt (line 1)) (3.0.4)\n",
      "Requirement already satisfied: certifi>=2017.4.17 in /opt/conda/lib/python3.7/site-packages (from requests>=2.17.3->mlflow==1.10.0->-r requirements.txt (line 1)) (2020.11.8)\n",
      "Requirement already satisfied: urllib3<1.27,>=1.21.1 in /opt/conda/lib/python3.7/site-packages (from requests>=2.17.3->mlflow==1.10.0->-r requirements.txt (line 1)) (1.26.2)\n",
      "Requirement already satisfied: idna<3,>=2.5 in /opt/conda/lib/python3.7/site-packages (from requests>=2.17.3->mlflow==1.10.0->-r requirements.txt (line 1)) (2.10)\n",
      "Requirement already satisfied: prometheus-client in /opt/conda/lib/python3.7/site-packages (from prometheus-flask-exporter->mlflow==1.10.0->-r requirements.txt (line 1)) (0.9.0)\n",
      "Requirement already satisfied: setuptools>=3.0 in /opt/conda/lib/python3.7/site-packages (from gunicorn; platform_system != \"Windows\"->mlflow==1.10.0->-r requirements.txt (line 1)) (50.3.2)\n",
      "Requirement already satisfied: gitdb<5,>=4.0.1 in /opt/conda/lib/python3.7/site-packages (from gitpython>=2.1.0->mlflow==1.10.0->-r requirements.txt (line 1)) (4.0.5)\n",
      "Requirement already satisfied: azure-core<2.0.0,>=1.9.0 in /opt/conda/lib/python3.7/site-packages (from azure-storage-blob>=12.0->mlflow==1.10.0->-r requirements.txt (line 1)) (1.9.0)\n",
      "Requirement already satisfied: cryptography>=2.1.4 in /opt/conda/lib/python3.7/site-packages (from azure-storage-blob>=12.0->mlflow==1.10.0->-r requirements.txt (line 1)) (3.2.1)\n",
      "Requirement already satisfied: msrest>=0.6.10 in /opt/conda/lib/python3.7/site-packages (from azure-storage-blob>=12.0->mlflow==1.10.0->-r requirements.txt (line 1)) (0.6.19)\n",
      "Requirement already satisfied: itsdangerous>=0.24 in /opt/conda/lib/python3.7/site-packages (from Flask->mlflow==1.10.0->-r requirements.txt (line 1)) (1.1.0)\n",
      "Requirement already satisfied: Jinja2>=2.10.1 in /opt/conda/lib/python3.7/site-packages (from Flask->mlflow==1.10.0->-r requirements.txt (line 1)) (2.11.2)\n",
      "Requirement already satisfied: Werkzeug>=0.15 in /opt/conda/lib/python3.7/site-packages (from Flask->mlflow==1.10.0->-r requirements.txt (line 1)) (1.0.1)\n",
      "Requirement already satisfied: MarkupSafe>=0.9.2 in /opt/conda/lib/python3.7/site-packages (from Mako->alembic->mlflow==1.10.0->-r requirements.txt (line 1)) (1.1.1)\n",
      "Requirement already satisfied: smmap<4,>=3.0.1 in /opt/conda/lib/python3.7/site-packages (from gitdb<5,>=4.0.1->gitpython>=2.1.0->mlflow==1.10.0->-r requirements.txt (line 1)) (3.0.4)\n",
      "Requirement already satisfied: cffi!=1.11.3,>=1.8 in /opt/conda/lib/python3.7/site-packages (from cryptography>=2.1.4->azure-storage-blob>=12.0->mlflow==1.10.0->-r requirements.txt (line 1)) (1.14.3)\n",
      "Requirement already satisfied: requests-oauthlib>=0.5.0 in /opt/conda/lib/python3.7/site-packages (from msrest>=0.6.10->azure-storage-blob>=12.0->mlflow==1.10.0->-r requirements.txt (line 1)) (1.3.0)\n",
      "Requirement already satisfied: isodate>=0.6.0 in /opt/conda/lib/python3.7/site-packages (from msrest>=0.6.10->azure-storage-blob>=12.0->mlflow==1.10.0->-r requirements.txt (line 1)) (0.6.0)\n",
      "Requirement already satisfied: pycparser in /opt/conda/lib/python3.7/site-packages (from cffi!=1.11.3,>=1.8->cryptography>=2.1.4->azure-storage-blob>=12.0->mlflow==1.10.0->-r requirements.txt (line 1)) (2.20)\n",
      "Requirement already satisfied: oauthlib>=3.0.0 in /opt/conda/lib/python3.7/site-packages (from requests-oauthlib>=0.5.0->msrest>=0.6.10->azure-storage-blob>=12.0->mlflow==1.10.0->-r requirements.txt (line 1)) (3.1.0)\n",
      "\u001b[33mWARNING: You are using pip version 20.2.4; however, version 20.3.1 is available.\n",
      "You should consider upgrading via the '/opt/conda/bin/python -m pip install --upgrade pip' command.\u001b[0m\n"
     ]
    }
   ],
   "source": [
    "!pip3 install -r requirements.txt"
   ]
  },
  {
   "cell_type": "code",
   "execution_count": 3,
   "metadata": {},
   "outputs": [],
   "source": [
    "#config\n",
    "\n",
    "NGROK_URL='http://mlflow:5000'\n",
    "EXPERIMENT='test-mlflow'\n",
    "EPOCHS=5\n",
    "VERSION=1\n",
    "\n",
    "SAVE_PATH='saved_model'\n",
    "%mkdir -p saved_model"
   ]
  },
  {
   "cell_type": "code",
   "execution_count": null,
   "metadata": {},
   "outputs": [],
   "source": [
    "def create_s3_bucket():\n",
    "    minioClient = Minio('minio1:9000',\n",
    "                  access_key=\"minio\",\n",
    "                  secret_key=\"minio123\",\n",
    "                  secure=False)\n",
    "\n",
    "    print(minioClient.list_buckets())\n",
    "\n",
    "    try:\n",
    "        if not minioClient.bucket_exists(\"mlflowruns\"):\n",
    "            minioClient.make_bucket('mlflowruns')\n",
    "    except ResponseError as err:\n",
    "        print(err)\n",
    "\n",
    "    buckets = minioClient.list_buckets()\n",
    "    for bucket in buckets:\n",
    "        print(bucket.name, bucket.creation_date)\n",
    "\n",
    "    policy = {\"Version\":\"2012-10-17\",\n",
    "        \"Statement\":[\n",
    "            {\n",
    "            \"Sid\":\"\",\n",
    "            \"Effect\":\"Allow\",\n",
    "            \"Principal\":{\"AWS\":\"*\"},\n",
    "            \"Action\":\"s3:GetBucketLocation\",\n",
    "            \"Resource\":\"arn:aws:s3:::testlocation\"\n",
    "            },\n",
    "            {\n",
    "            \"Sid\":\"\",\n",
    "            \"Effect\":\"Allow\",\n",
    "            \"Principal\":{\"AWS\":\"*\"},\n",
    "            \"Action\":\"s3:ListBucket\",\n",
    "            \"Resource\":\"arn:aws:s3:::testlocation\"\n",
    "            },\n",
    "            {\n",
    "            \"Sid\":\"\",\n",
    "            \"Effect\":\"Allow\",\n",
    "            \"Principal\":{\"AWS\":\"*\"},\n",
    "            \"Action\":\"s3:GetObject\",\n",
    "            \"Resource\":\"arn:aws:s3:::testlocation/*\"\n",
    "            },\n",
    "            {\n",
    "            \"Sid\":\"\",\n",
    "            \"Effect\":\"Allow\",\n",
    "            \"Principal\":{\"AWS\":\"*\"},\n",
    "            \"Action\":\"s3:PutObject\",\n",
    "            \"Resource\":\"arn:aws:s3:::testlocation/*\"\n",
    "            }\n",
    "\n",
    "        ]}\n",
    "\n",
    "    minioClient.set_bucket_policy('mlflowruns', json.dumps(policy))\n",
    "\n",
    "    # List all object paths in bucket that begin with my-prefixname.\n",
    "    objects = minioClient.list_objects('mlflowruns', prefix='',\n",
    "                              recursive=True)\n",
    "    for obj in objects:\n",
    "        print(obj.bucket_name, obj.object_name.encode('utf-8'), obj.last_modified,\n",
    "            obj.etag, obj.size, obj.content_type)"
   ]
  },
  {
   "cell_type": "code",
   "execution_count": 4,
   "metadata": {},
   "outputs": [],
   "source": [
    "#Mlflow settings\n",
    "\n",
    "import mlflow\n",
    "\n",
    "#set MLflow server \n",
    "mlflow.set_tracking_uri(NGROK_URL)\n",
    "#Set experiment\n",
    "if mlflow.get_experiment_by_name(EXPERIMENT) != None:\n",
    "    exp_id = mlflow.set_experiment(EXPERIMENT)\n",
    "else: \n",
    "    exp_id = mlflow.create_experiment(EXPERIMENT)\n",
    "\n",
    "#Close active runs\n",
    "if mlflow.active_run():\n",
    "    mlflow.end_run()"
   ]
  },
  {
   "cell_type": "code",
   "execution_count": 6,
   "metadata": {},
   "outputs": [],
   "source": [
    "import os\n",
    "#import boto3\n",
    "os.environ['MLFLOW_S3_ENDPOINT_URL'] = 'http://minio1:9000'\n",
    "os.environ['AWS_ACCESS_KEY_ID'] = 'minio'\n",
    "os.environ['AWS_SECRET_ACCESS_KEY'] = 'minio123'"
   ]
  },
  {
   "cell_type": "code",
   "execution_count": 7,
   "metadata": {},
   "outputs": [
    {
     "name": "stdout",
     "output_type": "stream",
     "text": [
      "Created experiment 'demo4' with id 8\n",
      "INFO: 'demo4' does not exist. Creating a new experiment\n"
     ]
    }
   ],
   "source": [
    "!mlflow experiments create --experiment-name demo4 --artifact-location s3://mlflowruns/\n",
    "exp_id = mlflow.set_experiment('demo4')"
   ]
  },
  {
   "cell_type": "code",
   "execution_count": 10,
   "metadata": {},
   "outputs": [
    {
     "name": "stdout",
     "output_type": "stream",
     "text": [
      "s3://mlflowruns/8/632db7667ede4dd196bee9eaed64b385/artifacts\n"
     ]
    }
   ],
   "source": [
    "with mlflow.start_run(run_id=None, experiment_id=exp_id, run_name=None, nested=False): \n",
    "    # log parameters\n",
    "    mlflow.log_param(\"epochs\", EPOCHS)\n",
    "    \n",
    "    \n",
    "    # Create a features.txt artifact file\n",
    "    features = \"rooms, zipcode, median_price, school_rating, transport\"\n",
    "    with open(\"features.txt\", 'w') as f:\n",
    "        f.write(features)\n",
    "\n",
    "    # With artifact_path=None write features.txt under\n",
    "    # root artifact_uri/artifacts directory\n",
    "    mlflow.log_artifact(\"features.txt\", \"mlflowruns\")\n",
    "    \n",
    "    artifact_uri = mlflow.get_artifact_uri()\n",
    "    print(artifact_uri)\n",
    "    \n",
    "    mlflow.end_run()"
   ]
  },
  {
   "cell_type": "code",
   "execution_count": null,
   "metadata": {},
   "outputs": [],
   "source": []
  },
  {
   "cell_type": "code",
   "execution_count": null,
   "metadata": {},
   "outputs": [],
   "source": []
  }
 ],
 "metadata": {
  "kernelspec": {
   "display_name": "Python 3",
   "language": "python",
   "name": "python3"
  },
  "language_info": {
   "codemirror_mode": {
    "name": "ipython",
    "version": 3
   },
   "file_extension": ".py",
   "mimetype": "text/x-python",
   "name": "python",
   "nbconvert_exporter": "python",
   "pygments_lexer": "ipython3",
   "version": "3.7.4"
  }
 },
 "nbformat": 4,
 "nbformat_minor": 4
}
