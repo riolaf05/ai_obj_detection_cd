{
 "cells": [
  {
   "cell_type": "code",
   "execution_count": 63,
   "metadata": {},
   "outputs": [],
   "source": [
    "  \n",
    "import numpy as np \n",
    "from PIL import Image\n",
    "import tensorflow as tf\n",
    "from keras.models import Model\n",
    "from keras.preprocessing import image\n",
    "from keras.applications import imagenet_utils, mobilenet"
   ]
  },
  {
   "cell_type": "code",
   "execution_count": 64,
   "metadata": {},
   "outputs": [],
   "source": [
    "# process an image to be mobilenet friendly\n",
    "def process_image(img_path):\n",
    "  img = image.load_img(img_path, target_size=(224, 224))\n",
    "  img_array = image.img_to_array(img)\n",
    "  img_array = np.expand_dims(img_array, axis=0)\n",
    "  pImg = mobilenet.preprocess_input(img_array)\n",
    "  return pImg\n",
    "\n",
    "path=r\"C:\\Users\\lafacero\\Desktop\\transfer_learning_tf2\\pelouches\\kitten\\IMG_20200513_125356.jpg\"\n",
    "img = process_image(path)"
   ]
  },
  {
   "cell_type": "code",
   "execution_count": 65,
   "metadata": {},
   "outputs": [
    {
     "output_type": "execute_result",
     "data": {
      "text/plain": "(1, 224, 224, 3)"
     },
     "metadata": {},
     "execution_count": 65
    }
   ],
   "source": [
    "img.shape"
   ]
  },
  {
   "cell_type": "code",
   "execution_count": 66,
   "metadata": {},
   "outputs": [],
   "source": [
    "# Load TFLite model and allocate tensors.\n",
    "interpreter = tf.lite.Interpreter(model_path=r\"outputs\\model.tflite\")\n",
    "interpreter.allocate_tensors()"
   ]
  },
  {
   "cell_type": "code",
   "execution_count": 67,
   "metadata": {},
   "outputs": [
    {
     "output_type": "execute_result",
     "data": {
      "text/plain": "[{'name': 'mobilenetv2_1_00_224_input',\n  'index': 0,\n  'shape': array([  1, 224, 224,   3]),\n  'dtype': numpy.float32,\n  'quantization': (0.0, 0)}]"
     },
     "metadata": {},
     "execution_count": 67
    }
   ],
   "source": [
    "# Get input and output tensors.\n",
    "input_details = interpreter.get_input_details()\n",
    "output_details = interpreter.get_output_details()\n",
    "input_details"
   ]
  },
  {
   "cell_type": "code",
   "execution_count": 68,
   "metadata": {},
   "outputs": [],
   "source": [
    "interpreter.set_tensor(input_details[0]['index'], img)"
   ]
  },
  {
   "cell_type": "code",
   "execution_count": 69,
   "metadata": {},
   "outputs": [],
   "source": [
    "interpreter.invoke()"
   ]
  },
  {
   "cell_type": "code",
   "execution_count": 70,
   "metadata": {},
   "outputs": [
    {
     "output_type": "stream",
     "name": "stdout",
     "text": "[[1.0000000e+00 1.1019263e-10]]\n"
    }
   ],
   "source": [
    "# The function `get_tensor()` returns a copy of the tensor data.\n",
    "# Use `tensor()` in order to get a pointer to the tensor.\n",
    "output_data = interpreter.get_tensor(output_details[0]['index'])\n",
    "print(output_data)"
   ]
  },
  {
   "cell_type": "code",
   "execution_count": 71,
   "metadata": {},
   "outputs": [
    {
     "output_type": "stream",
     "name": "stdout",
     "text": "L'immagine contiene:  kitten\n"
    }
   ],
   "source": [
    "max_index=np.argmax(output_data[0], axis=0)\n",
    "with open(r'outputs\\labels.txt') as f:\n",
    "    lines = f.read().splitlines()\n",
    "    print(\"L'immagine contiene: \", lines[max_index])\n"
   ]
  },
  {
   "cell_type": "code",
   "execution_count": 73,
   "metadata": {},
   "outputs": [
    {
     "output_type": "execute_result",
     "data": {
      "text/plain": "[{'name': 'Identity',\n  'index': 181,\n  'shape': array([1, 2]),\n  'dtype': numpy.float32,\n  'quantization': (0.0, 0)}]"
     },
     "metadata": {},
     "execution_count": 73
    }
   ],
   "source": [
    "output_details"
   ]
  },
  {
   "cell_type": "code",
   "execution_count": 74,
   "metadata": {},
   "outputs": [
    {
     "output_type": "execute_result",
     "data": {
      "text/plain": "181"
     },
     "metadata": {},
     "execution_count": 74
    }
   ],
   "source": [
    "output_details[0]['index']"
   ]
  },
  {
   "cell_type": "code",
   "execution_count": null,
   "metadata": {},
   "outputs": [],
   "source": []
  }
 ],
 "metadata": {
  "language_info": {
   "codemirror_mode": {
    "name": "ipython",
    "version": 3
   },
   "file_extension": ".py",
   "mimetype": "text/x-python",
   "name": "python",
   "nbconvert_exporter": "python",
   "pygments_lexer": "ipython3",
   "version": "3.7.7-final"
  },
  "orig_nbformat": 2,
  "kernelspec": {
   "name": "python37764bitcvenvconda9874dae033d54e1abc9910c28d670402",
   "display_name": "Python 3.7.7 64-bit ('cv_env': conda)"
  }
 },
 "nbformat": 4,
 "nbformat_minor": 2
}