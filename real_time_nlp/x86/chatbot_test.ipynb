{
  "nbformat": 4,
  "nbformat_minor": 0,
  "metadata": {
    "colab": {
      "name": "chatbot_test.ipynb",
      "provenance": [],
      "collapsed_sections": []
    },
    "kernelspec": {
      "name": "python3",
      "display_name": "Python 3"
    }
  },
  "cells": [
    {
      "cell_type": "code",
      "metadata": {
        "id": "fXdJ_10gef7Y",
        "colab_type": "code",
        "colab": {
          "base_uri": "https://localhost:8080/",
          "height": 52
        },
        "outputId": "bab38f05-7a6d-44a4-b17f-42b811f97c8a"
      },
      "source": [
        "!pip3 install nltk "
      ],
      "execution_count": 2,
      "outputs": [
        {
          "output_type": "stream",
          "text": [
            "Requirement already satisfied: nltk in /usr/local/lib/python3.6/dist-packages (3.2.5)\n",
            "Requirement already satisfied: six in /usr/local/lib/python3.6/dist-packages (from nltk) (1.12.0)\n"
          ],
          "name": "stdout"
        }
      ]
    },
    {
      "cell_type": "code",
      "metadata": {
        "id": "oG6RmEV5fpyk",
        "colab_type": "code",
        "colab": {
          "base_uri": "https://localhost:8080/",
          "height": 35
        },
        "outputId": "e53dbab6-8c04-470c-ba2c-1b18c32cc2f9"
      },
      "source": [
        "#mount drive first\n",
        "%mkdir /content/chatbot\n",
        "%cp /content/drive/My\\ Drive/Colab\\ Notebooks/chatbot/* /content/chatbot\n",
        "%cd /content/chatbot"
      ],
      "execution_count": 7,
      "outputs": [
        {
          "output_type": "stream",
          "text": [
            "mkdir: cannot create directory ‘/content/chatbot’: File exists\n"
          ],
          "name": "stdout"
        }
      ]
    },
    {
      "cell_type": "code",
      "metadata": {
        "id": "OW5WtpGLeqXy",
        "colab_type": "code",
        "colab": {}
      },
      "source": [
        "import numpy as np\n",
        "from keras.models import Sequential\n",
        "from keras.layers import Dense, Activation, Dropout\n",
        "from keras.optimizers import SGD\n",
        "import random\n",
        "import nltk\n",
        "from nltk.stem import WordNetLemmatizer\n",
        "lemmatizer = WordNetLemmatizer()\n",
        "import json\n",
        "import pickle\n",
        "intents_file = open('intents.json').read()\n",
        "intents = json.loads(intents_file)"
      ],
      "execution_count": 0,
      "outputs": []
    },
    {
      "cell_type": "markdown",
      "metadata": {
        "id": "m90eEOUXmBec",
        "colab_type": "text"
      },
      "source": [
        "Imagine a user asking a question to a chatbot: “Hey, what’s on the news today?”\n",
        "\n",
        "The chatbot will break down the user sentence into two things: intent and an entity. \n",
        "\n",
        "* The **intent** for this sentence could be *get_news* as it refers to an action the user wants to perform. \n",
        "\n",
        "* The **entity** tells specific details about the intent, so \"today\" will be the entity. \n",
        "\n",
        "So this way, a machine learning model is used to recognize the intents and entities of the chat.\n",
        "\n"
      ]
    },
    {
      "cell_type": "code",
      "metadata": {
        "id": "ItTE3bRbiSK0",
        "colab_type": "code",
        "colab": {
          "base_uri": "https://localhost:8080/",
          "height": 69
        },
        "outputId": "d46cc2a6-e768-40dc-ec32-711b2f5b402f"
      },
      "source": [
        "nltk.download('punkt')"
      ],
      "execution_count": 14,
      "outputs": [
        {
          "output_type": "stream",
          "text": [
            "[nltk_data] Downloading package punkt to /root/nltk_data...\n",
            "[nltk_data]   Unzipping tokenizers/punkt.zip.\n"
          ],
          "name": "stdout"
        },
        {
          "output_type": "execute_result",
          "data": {
            "text/plain": [
              "True"
            ]
          },
          "metadata": {
            "tags": []
          },
          "execution_count": 14
        }
      ]
    },
    {
      "cell_type": "code",
      "metadata": {
        "id": "P9b6walffCPI",
        "colab_type": "code",
        "colab": {
          "base_uri": "https://localhost:8080/",
          "height": 89
        },
        "outputId": "70f60e70-2d95-4489-85c8-df6fc38a2e2c"
      },
      "source": [
        "words=[]\n",
        "classes = []\n",
        "documents = []\n",
        "ignore_letters = ['!', '?', ',', '.']\n",
        "intents_file = open('intents.json').read()\n",
        "intents = json.loads(intents_file)\n",
        "\n",
        "for intent in intents['intents']:\n",
        "    for pattern in intent['patterns']:\n",
        "        #tokenize each word\n",
        "        word = nltk.word_tokenize(pattern)\n",
        "        words.extend(word)\n",
        "        #add documents in the corpus\n",
        "        documents.append((word, intent['tag']))\n",
        "        # add to our classes list\n",
        "        if intent['tag'] not in classes:\n",
        "            classes.append(intent['tag'])\n",
        "print(documents) #list of classes and documents to add all the intents associated with patterns\n",
        "print(classes)\n",
        "print(words)"
      ],
      "execution_count": 23,
      "outputs": [
        {
          "output_type": "stream",
          "text": [
            "[(['Hi', 'there'], 'greeting'), (['How', 'are', 'you'], 'greeting'), (['Is', 'anyone', 'there', '?'], 'greeting'), (['Hey'], 'greeting'), (['Hola'], 'greeting'), (['Hello'], 'greeting'), (['Good', 'day'], 'greeting'), (['Bye'], 'goodbye'), (['See', 'you', 'later'], 'goodbye'), (['Goodbye'], 'goodbye'), (['Nice', 'chatting', 'to', 'you', ',', 'bye'], 'goodbye'), (['Till', 'next', 'time'], 'goodbye'), (['Thanks'], 'thanks'), (['Thank', 'you'], 'thanks'), (['That', \"'s\", 'helpful'], 'thanks'), (['Awesome', ',', 'thanks'], 'thanks'), (['Thanks', 'for', 'helping', 'me'], 'thanks'), (['How', 'you', 'could', 'help', 'me', '?'], 'options'), (['What', 'you', 'can', 'do', '?'], 'options'), (['What', 'help', 'you', 'provide', '?'], 'options'), (['How', 'you', 'can', 'be', 'helpful', '?'], 'options'), (['What', 'support', 'is', 'offered'], 'options'), (['How', 'to', 'check', 'Adverse', 'drug', 'reaction', '?'], 'adverse_drug'), (['Open', 'adverse', 'drugs', 'module'], 'adverse_drug'), (['Give', 'me', 'a', 'list', 'of', 'drugs', 'causing', 'adverse', 'behavior'], 'adverse_drug'), (['List', 'all', 'drugs', 'suitable', 'for', 'patient', 'with', 'adverse', 'reaction'], 'adverse_drug'), (['Which', 'drugs', 'dont', 'have', 'adverse', 'reaction', '?'], 'adverse_drug'), (['Open', 'blood', 'pressure', 'module'], 'blood_pressure'), (['Task', 'related', 'to', 'blood', 'pressure'], 'blood_pressure'), (['Blood', 'pressure', 'data', 'entry'], 'blood_pressure'), (['I', 'want', 'to', 'log', 'blood', 'pressure', 'results'], 'blood_pressure'), (['Blood', 'pressure', 'data', 'management'], 'blood_pressure'), (['I', 'want', 'to', 'search', 'for', 'blood', 'pressure', 'result', 'history'], 'blood_pressure_search'), (['Blood', 'pressure', 'for', 'patient'], 'blood_pressure_search'), (['Load', 'patient', 'blood', 'pressure', 'result'], 'blood_pressure_search'), (['Show', 'blood', 'pressure', 'results', 'for', 'patient'], 'blood_pressure_search'), (['Find', 'blood', 'pressure', 'results', 'by', 'ID'], 'blood_pressure_search'), (['Find', 'me', 'a', 'pharmacy'], 'pharmacy_search'), (['Find', 'pharmacy'], 'pharmacy_search'), (['List', 'of', 'pharmacies', 'nearby'], 'pharmacy_search'), (['Locate', 'pharmacy'], 'pharmacy_search'), (['Search', 'pharmacy'], 'pharmacy_search'), (['Lookup', 'for', 'hospital'], 'hospital_search'), (['Searching', 'for', 'hospital', 'to', 'transfer', 'patient'], 'hospital_search'), (['I', 'want', 'to', 'search', 'hospital', 'data'], 'hospital_search'), (['Hospital', 'lookup', 'for', 'patient'], 'hospital_search'), (['Looking', 'up', 'hospital', 'details'], 'hospital_search')]\n",
            "['greeting', 'goodbye', 'thanks', 'options', 'adverse_drug', 'blood_pressure', 'blood_pressure_search', 'pharmacy_search', 'hospital_search']\n",
            "['Hi', 'there', 'How', 'are', 'you', 'Is', 'anyone', 'there', '?', 'Hey', 'Hola', 'Hello', 'Good', 'day', 'Bye', 'See', 'you', 'later', 'Goodbye', 'Nice', 'chatting', 'to', 'you', ',', 'bye', 'Till', 'next', 'time', 'Thanks', 'Thank', 'you', 'That', \"'s\", 'helpful', 'Awesome', ',', 'thanks', 'Thanks', 'for', 'helping', 'me', 'How', 'you', 'could', 'help', 'me', '?', 'What', 'you', 'can', 'do', '?', 'What', 'help', 'you', 'provide', '?', 'How', 'you', 'can', 'be', 'helpful', '?', 'What', 'support', 'is', 'offered', 'How', 'to', 'check', 'Adverse', 'drug', 'reaction', '?', 'Open', 'adverse', 'drugs', 'module', 'Give', 'me', 'a', 'list', 'of', 'drugs', 'causing', 'adverse', 'behavior', 'List', 'all', 'drugs', 'suitable', 'for', 'patient', 'with', 'adverse', 'reaction', 'Which', 'drugs', 'dont', 'have', 'adverse', 'reaction', '?', 'Open', 'blood', 'pressure', 'module', 'Task', 'related', 'to', 'blood', 'pressure', 'Blood', 'pressure', 'data', 'entry', 'I', 'want', 'to', 'log', 'blood', 'pressure', 'results', 'Blood', 'pressure', 'data', 'management', 'I', 'want', 'to', 'search', 'for', 'blood', 'pressure', 'result', 'history', 'Blood', 'pressure', 'for', 'patient', 'Load', 'patient', 'blood', 'pressure', 'result', 'Show', 'blood', 'pressure', 'results', 'for', 'patient', 'Find', 'blood', 'pressure', 'results', 'by', 'ID', 'Find', 'me', 'a', 'pharmacy', 'Find', 'pharmacy', 'List', 'of', 'pharmacies', 'nearby', 'Locate', 'pharmacy', 'Search', 'pharmacy', 'Lookup', 'for', 'hospital', 'Searching', 'for', 'hospital', 'to', 'transfer', 'patient', 'I', 'want', 'to', 'search', 'hospital', 'data', 'Hospital', 'lookup', 'for', 'patient', 'Looking', 'up', 'hospital', 'details']\n"
          ],
          "name": "stdout"
        }
      ]
    },
    {
      "cell_type": "code",
      "metadata": {
        "id": "4emcUBfqkOZu",
        "colab_type": "code",
        "colab": {
          "base_uri": "https://localhost:8080/",
          "height": 69
        },
        "outputId": "9f4058aa-7a1e-464f-b37d-3c5f0e75e8a8"
      },
      "source": [
        "nltk.download('wordnet')"
      ],
      "execution_count": 17,
      "outputs": [
        {
          "output_type": "stream",
          "text": [
            "[nltk_data] Downloading package wordnet to /root/nltk_data...\n",
            "[nltk_data]   Unzipping corpora/wordnet.zip.\n"
          ],
          "name": "stdout"
        },
        {
          "output_type": "execute_result",
          "data": {
            "text/plain": [
              "True"
            ]
          },
          "metadata": {
            "tags": []
          },
          "execution_count": 17
        }
      ]
    },
    {
      "cell_type": "code",
      "metadata": {
        "id": "Mip-QohchabB",
        "colab_type": "code",
        "colab": {
          "base_uri": "https://localhost:8080/",
          "height": 55
        },
        "outputId": "edb0f732-514e-456f-b9ef-1f2311a14979"
      },
      "source": [
        "#We can convert words into the lemma form so that we can reduce all the canonical words. \n",
        "#For example, the words play, playing, plays, played, etc. will all be replaced with play.\n",
        "\n",
        "# lemmaztize and lower each word and remove duplicates\n",
        "words = [lemmatizer.lemmatize(w.lower()) for w in words if w not in ignore_letters]\n",
        "words = sorted(list(set(words)))\n",
        "print(words)"
      ],
      "execution_count": 26,
      "outputs": [
        {
          "output_type": "stream",
          "text": [
            "[\"'s\", 'a', 'adverse', 'all', 'anyone', 'are', 'awesome', 'be', 'behavior', 'blood', 'by', 'bye', 'can', 'causing', 'chatting', 'check', 'could', 'data', 'day', 'detail', 'do', 'dont', 'drug', 'entry', 'find', 'for', 'give', 'good', 'goodbye', 'have', 'hello', 'help', 'helpful', 'helping', 'hey', 'hi', 'history', 'hola', 'hospital', 'how', 'i', 'id', 'is', 'later', 'list', 'load', 'locate', 'log', 'looking', 'lookup', 'management', 'me', 'module', 'nearby', 'next', 'nice', 'of', 'offered', 'open', 'patient', 'pharmacy', 'pressure', 'provide', 'reaction', 'related', 'result', 'search', 'searching', 'see', 'show', 'suitable', 'support', 'task', 'thank', 'thanks', 'that', 'there', 'till', 'time', 'to', 'transfer', 'up', 'want', 'what', 'which', 'with', 'you']\n"
          ],
          "name": "stdout"
        }
      ]
    },
    {
      "cell_type": "code",
      "metadata": {
        "id": "XFklg3sZm_6y",
        "colab_type": "code",
        "colab": {
          "base_uri": "https://localhost:8080/",
          "height": 35
        },
        "outputId": "5d5971eb-8ca3-4367-da0b-a3c7580dfa2a"
      },
      "source": [
        "# sort classes\n",
        "classes = sorted(list(set(classes)))\n",
        "print(classes)"
      ],
      "execution_count": 27,
      "outputs": [
        {
          "output_type": "stream",
          "text": [
            "['adverse_drug', 'blood_pressure', 'blood_pressure_search', 'goodbye', 'greeting', 'hospital_search', 'options', 'pharmacy_search', 'thanks']\n"
          ],
          "name": "stdout"
        }
      ]
    },
    {
      "cell_type": "code",
      "metadata": {
        "id": "U2noa6YhnDtH",
        "colab_type": "code",
        "colab": {
          "base_uri": "https://localhost:8080/",
          "height": 89
        },
        "outputId": "2fe2302d-f937-416f-f518-893ab27bdb5f"
      },
      "source": [
        "# documents = combination between patterns and intents\n",
        "print (len(documents), \"documents\")\n",
        "# classes = intents\n",
        "print (len(classes), \"classes\", classes)\n",
        "# words = all words, vocabulary\n",
        "print (len(words), \"unique lemmatized words\", words)\n",
        "\n",
        "pickle.dump(words,open('words.pkl','wb'))\n",
        "pickle.dump(classes,open('classes.pkl','wb'))"
      ],
      "execution_count": 28,
      "outputs": [
        {
          "output_type": "stream",
          "text": [
            "47 documents\n",
            "9 classes ['adverse_drug', 'blood_pressure', 'blood_pressure_search', 'goodbye', 'greeting', 'hospital_search', 'options', 'pharmacy_search', 'thanks']\n",
            "87 unique lemmatized words [\"'s\", 'a', 'adverse', 'all', 'anyone', 'are', 'awesome', 'be', 'behavior', 'blood', 'by', 'bye', 'can', 'causing', 'chatting', 'check', 'could', 'data', 'day', 'detail', 'do', 'dont', 'drug', 'entry', 'find', 'for', 'give', 'good', 'goodbye', 'have', 'hello', 'help', 'helpful', 'helping', 'hey', 'hi', 'history', 'hola', 'hospital', 'how', 'i', 'id', 'is', 'later', 'list', 'load', 'locate', 'log', 'looking', 'lookup', 'management', 'me', 'module', 'nearby', 'next', 'nice', 'of', 'offered', 'open', 'patient', 'pharmacy', 'pressure', 'provide', 'reaction', 'related', 'result', 'search', 'searching', 'see', 'show', 'suitable', 'support', 'task', 'thank', 'thanks', 'that', 'there', 'till', 'time', 'to', 'transfer', 'up', 'want', 'what', 'which', 'with', 'you']\n"
          ],
          "name": "stdout"
        }
      ]
    },
    {
      "cell_type": "markdown",
      "metadata": {
        "id": "8QDNQ0-ukZdm",
        "colab_type": "text"
      },
      "source": [
        "In the end, the words contain the vocabulary of our project and classes contain the total entities to classify. To save the python object in a file, we used the pickle.dump() method. These files will be helpful after the training is done and we predict the chats."
      ]
    },
    {
      "cell_type": "markdown",
      "metadata": {
        "id": "S2t2V5vhoWr3",
        "colab_type": "text"
      },
      "source": [
        "We create a list of zeroes of the same length as the total number of words. We will set value 1 to only those indexes that contain the word in the patterns (word vocabulary). \n",
        "\n",
        "In the same way, we will create the output by setting 1 to the class input the pattern belongs to."
      ]
    },
    {
      "cell_type": "code",
      "metadata": {
        "id": "EUNG7l5vkDLI",
        "colab_type": "code",
        "colab": {
          "base_uri": "https://localhost:8080/",
          "height": 72
        },
        "outputId": "f736f244-ad8a-4c3b-ad6a-a4d5723db9d2"
      },
      "source": [
        "# create our training data\n",
        "training = []\n",
        "# create an empty array for our output\n",
        "output_empty = [0] * len(classes)\n",
        "# training set, bag of words for each sentence\n",
        "for doc in documents:\n",
        "    # initialize our bag of words\n",
        "    bag = []\n",
        "    # list of tokenized words for the pattern\n",
        "    pattern_words = doc[0]\n",
        "    # lemmatize each word - create base word, in attempt to represent related words\n",
        "    pattern_words = [lemmatizer.lemmatize(word.lower()) for word in pattern_words]\n",
        "    # create our bag of words array with 1, if word match found in current pattern\n",
        "    for word in words:\n",
        "        bag.append(1) if word in pattern_words else bag.append(0)\n",
        "        \n",
        "    # class matrix: output is a '0' for each tag and '1' for current tag (for each pattern)\n",
        "    output_row = list(output_empty)\n",
        "    output_row[classes.index(doc[1])] = 1\n",
        "    \n",
        "    training.append([bag, output_row])\n",
        "\n",
        "# shuffle our features and turn into np.array\n",
        "random.shuffle(training)\n",
        "training = np.array(training)\n",
        "# create train and test lists. X - patterns, Y - intents\n",
        "train_x = list(training[:,0])\n",
        "train_y = list(training[:,1])\n",
        "print(train_x)\n",
        "print(train_y)"
      ],
      "execution_count": 30,
      "outputs": [
        {
          "output_type": "stream",
          "text": [
            "[[0, 0, 0, 0, 0, 0, 0, 0, 0, 0, 0, 0, 0, 0, 0, 0, 0, 0, 0, 0, 0, 0, 0, 0, 0, 0, 0, 0, 0, 0, 0, 0, 0, 0, 0, 0, 0, 0, 0, 0, 0, 0, 0, 0, 0, 0, 0, 0, 0, 0, 0, 0, 0, 0, 0, 0, 0, 0, 0, 0, 0, 0, 0, 0, 0, 0, 0, 0, 0, 0, 0, 0, 0, 1, 0, 0, 0, 0, 0, 0, 0, 0, 0, 0, 0, 0, 1], [0, 0, 1, 0, 0, 0, 0, 0, 0, 0, 0, 0, 0, 0, 0, 0, 0, 0, 0, 0, 0, 0, 1, 0, 0, 0, 0, 0, 0, 0, 0, 0, 0, 0, 0, 0, 0, 0, 0, 0, 0, 0, 0, 0, 0, 0, 0, 0, 0, 0, 0, 0, 1, 0, 0, 0, 0, 0, 1, 0, 0, 0, 0, 0, 0, 0, 0, 0, 0, 0, 0, 0, 0, 0, 0, 0, 0, 0, 0, 0, 0, 0, 0, 0, 0, 0, 0], [0, 0, 0, 0, 0, 0, 0, 0, 0, 0, 0, 0, 0, 0, 0, 0, 0, 0, 0, 1, 0, 0, 0, 0, 0, 0, 0, 0, 0, 0, 0, 0, 0, 0, 0, 0, 0, 0, 1, 0, 0, 0, 0, 0, 0, 0, 0, 0, 1, 0, 0, 0, 0, 0, 0, 0, 0, 0, 0, 0, 0, 0, 0, 0, 0, 0, 0, 0, 0, 0, 0, 0, 0, 0, 0, 0, 0, 0, 0, 0, 0, 1, 0, 0, 0, 0, 0], [0, 0, 0, 0, 0, 0, 0, 0, 0, 0, 0, 0, 0, 0, 0, 0, 0, 0, 0, 0, 0, 0, 0, 0, 0, 0, 0, 0, 0, 0, 0, 0, 0, 0, 0, 0, 0, 0, 0, 0, 0, 0, 0, 0, 0, 0, 0, 0, 0, 0, 0, 0, 0, 0, 1, 0, 0, 0, 0, 0, 0, 0, 0, 0, 0, 0, 0, 0, 0, 0, 0, 0, 0, 0, 0, 0, 0, 1, 1, 0, 0, 0, 0, 0, 0, 0, 0], [0, 0, 0, 0, 0, 0, 0, 0, 0, 0, 0, 0, 0, 0, 0, 0, 0, 0, 0, 0, 0, 0, 0, 0, 0, 0, 0, 0, 0, 0, 0, 0, 0, 0, 0, 0, 0, 0, 0, 0, 0, 0, 0, 0, 0, 0, 1, 0, 0, 0, 0, 0, 0, 0, 0, 0, 0, 0, 0, 0, 1, 0, 0, 0, 0, 0, 0, 0, 0, 0, 0, 0, 0, 0, 0, 0, 0, 0, 0, 0, 0, 0, 0, 0, 0, 0, 0], [0, 0, 0, 0, 0, 0, 0, 0, 0, 1, 0, 0, 0, 0, 0, 0, 0, 0, 0, 0, 0, 0, 0, 0, 0, 0, 0, 0, 0, 0, 0, 0, 0, 0, 0, 0, 0, 0, 0, 0, 0, 0, 0, 0, 0, 0, 0, 0, 0, 0, 0, 0, 1, 0, 0, 0, 0, 0, 1, 0, 0, 1, 0, 0, 0, 0, 0, 0, 0, 0, 0, 0, 0, 0, 0, 0, 0, 0, 0, 0, 0, 0, 0, 0, 0, 0, 0], [0, 0, 0, 0, 0, 0, 0, 0, 0, 0, 0, 0, 0, 0, 0, 0, 0, 0, 0, 0, 0, 0, 0, 0, 0, 0, 0, 0, 0, 0, 0, 0, 0, 0, 1, 0, 0, 0, 0, 0, 0, 0, 0, 0, 0, 0, 0, 0, 0, 0, 0, 0, 0, 0, 0, 0, 0, 0, 0, 0, 0, 0, 0, 0, 0, 0, 0, 0, 0, 0, 0, 0, 0, 0, 0, 0, 0, 0, 0, 0, 0, 0, 0, 0, 0, 0, 0], [0, 0, 0, 0, 0, 0, 0, 0, 0, 1, 0, 0, 0, 0, 0, 0, 0, 0, 0, 0, 0, 0, 0, 0, 0, 1, 0, 0, 0, 0, 0, 0, 0, 0, 0, 0, 0, 0, 0, 0, 0, 0, 0, 0, 0, 0, 0, 0, 0, 0, 0, 0, 0, 0, 0, 0, 0, 0, 0, 1, 0, 1, 0, 0, 0, 1, 0, 0, 0, 1, 0, 0, 0, 0, 0, 0, 0, 0, 0, 0, 0, 0, 0, 0, 0, 0, 0], [0, 0, 1, 1, 0, 0, 0, 0, 0, 0, 0, 0, 0, 0, 0, 0, 0, 0, 0, 0, 0, 0, 1, 0, 0, 1, 0, 0, 0, 0, 0, 0, 0, 0, 0, 0, 0, 0, 0, 0, 0, 0, 0, 0, 1, 0, 0, 0, 0, 0, 0, 0, 0, 0, 0, 0, 0, 0, 0, 1, 0, 0, 0, 1, 0, 0, 0, 0, 0, 0, 1, 0, 0, 0, 0, 0, 0, 0, 0, 0, 0, 0, 0, 0, 0, 1, 0], [0, 0, 0, 0, 0, 0, 0, 0, 0, 0, 0, 0, 0, 0, 0, 0, 0, 0, 0, 0, 0, 0, 0, 0, 0, 0, 0, 0, 0, 0, 0, 1, 0, 0, 0, 0, 0, 0, 0, 0, 0, 0, 0, 0, 0, 0, 0, 0, 0, 0, 0, 0, 0, 0, 0, 0, 0, 0, 0, 0, 0, 0, 1, 0, 0, 0, 0, 0, 0, 0, 0, 0, 0, 0, 0, 0, 0, 0, 0, 0, 0, 0, 0, 1, 0, 0, 1], [0, 0, 0, 0, 0, 0, 0, 0, 0, 0, 0, 0, 0, 0, 0, 0, 0, 0, 0, 0, 0, 0, 0, 0, 0, 0, 0, 0, 0, 0, 0, 0, 0, 0, 0, 0, 0, 0, 0, 0, 0, 0, 0, 0, 1, 0, 0, 0, 0, 0, 0, 0, 0, 1, 0, 0, 1, 0, 0, 0, 1, 0, 0, 0, 0, 0, 0, 0, 0, 0, 0, 0, 0, 0, 0, 0, 0, 0, 0, 0, 0, 0, 0, 0, 0, 0, 0], [0, 0, 0, 0, 0, 0, 0, 0, 0, 0, 0, 0, 0, 0, 0, 0, 0, 0, 0, 0, 0, 0, 0, 0, 0, 1, 0, 0, 0, 0, 0, 0, 0, 1, 0, 0, 0, 0, 0, 0, 0, 0, 0, 0, 0, 0, 0, 0, 0, 0, 0, 1, 0, 0, 0, 0, 0, 0, 0, 0, 0, 0, 0, 0, 0, 0, 0, 0, 0, 0, 0, 0, 0, 0, 1, 0, 0, 0, 0, 0, 0, 0, 0, 0, 0, 0, 0], [0, 0, 0, 0, 0, 0, 0, 0, 0, 0, 0, 0, 0, 0, 0, 0, 0, 0, 0, 0, 0, 0, 0, 0, 0, 0, 0, 0, 0, 0, 1, 0, 0, 0, 0, 0, 0, 0, 0, 0, 0, 0, 0, 0, 0, 0, 0, 0, 0, 0, 0, 0, 0, 0, 0, 0, 0, 0, 0, 0, 0, 0, 0, 0, 0, 0, 0, 0, 0, 0, 0, 0, 0, 0, 0, 0, 0, 0, 0, 0, 0, 0, 0, 0, 0, 0, 0], [0, 0, 0, 0, 0, 0, 0, 0, 0, 1, 0, 0, 0, 0, 0, 0, 0, 0, 0, 0, 0, 0, 0, 0, 0, 0, 0, 0, 0, 0, 0, 0, 0, 0, 0, 0, 0, 0, 0, 0, 0, 0, 0, 0, 0, 1, 0, 0, 0, 0, 0, 0, 0, 0, 0, 0, 0, 0, 0, 1, 0, 1, 0, 0, 0, 1, 0, 0, 0, 0, 0, 0, 0, 0, 0, 0, 0, 0, 0, 0, 0, 0, 0, 0, 0, 0, 0], [0, 1, 1, 0, 0, 0, 0, 0, 1, 0, 0, 0, 0, 1, 0, 0, 0, 0, 0, 0, 0, 0, 1, 0, 0, 0, 1, 0, 0, 0, 0, 0, 0, 0, 0, 0, 0, 0, 0, 0, 0, 0, 0, 0, 1, 0, 0, 0, 0, 0, 0, 1, 0, 0, 0, 0, 1, 0, 0, 0, 0, 0, 0, 0, 0, 0, 0, 0, 0, 0, 0, 0, 0, 0, 0, 0, 0, 0, 0, 0, 0, 0, 0, 0, 0, 0, 0], [0, 0, 0, 0, 0, 0, 0, 0, 0, 0, 0, 0, 0, 0, 0, 0, 0, 0, 0, 0, 0, 0, 0, 0, 0, 0, 0, 0, 0, 0, 0, 0, 0, 0, 0, 0, 0, 1, 0, 0, 0, 0, 0, 0, 0, 0, 0, 0, 0, 0, 0, 0, 0, 0, 0, 0, 0, 0, 0, 0, 0, 0, 0, 0, 0, 0, 0, 0, 0, 0, 0, 0, 0, 0, 0, 0, 0, 0, 0, 0, 0, 0, 0, 0, 0, 0, 0], [0, 0, 0, 0, 0, 0, 0, 0, 0, 1, 0, 0, 0, 0, 0, 0, 0, 1, 0, 0, 0, 0, 0, 0, 0, 0, 0, 0, 0, 0, 0, 0, 0, 0, 0, 0, 0, 0, 0, 0, 0, 0, 0, 0, 0, 0, 0, 0, 0, 0, 1, 0, 0, 0, 0, 0, 0, 0, 0, 0, 0, 1, 0, 0, 0, 0, 0, 0, 0, 0, 0, 0, 0, 0, 0, 0, 0, 0, 0, 0, 0, 0, 0, 0, 0, 0, 0], [0, 0, 0, 0, 0, 0, 0, 0, 0, 0, 0, 1, 0, 0, 1, 0, 0, 0, 0, 0, 0, 0, 0, 0, 0, 0, 0, 0, 0, 0, 0, 0, 0, 0, 0, 0, 0, 0, 0, 0, 0, 0, 0, 0, 0, 0, 0, 0, 0, 0, 0, 0, 0, 0, 0, 1, 0, 0, 0, 0, 0, 0, 0, 0, 0, 0, 0, 0, 0, 0, 0, 0, 0, 0, 0, 0, 0, 0, 0, 1, 0, 0, 0, 0, 0, 0, 1], [0, 0, 1, 0, 0, 0, 0, 0, 0, 0, 0, 0, 0, 0, 0, 0, 0, 0, 0, 0, 0, 1, 1, 0, 0, 0, 0, 0, 0, 1, 0, 0, 0, 0, 0, 0, 0, 0, 0, 0, 0, 0, 0, 0, 0, 0, 0, 0, 0, 0, 0, 0, 0, 0, 0, 0, 0, 0, 0, 0, 0, 0, 0, 1, 0, 0, 0, 0, 0, 0, 0, 0, 0, 0, 0, 0, 0, 0, 0, 0, 0, 0, 0, 0, 1, 0, 0], [0, 0, 0, 0, 0, 0, 0, 1, 0, 0, 0, 0, 1, 0, 0, 0, 0, 0, 0, 0, 0, 0, 0, 0, 0, 0, 0, 0, 0, 0, 0, 0, 1, 0, 0, 0, 0, 0, 0, 1, 0, 0, 0, 0, 0, 0, 0, 0, 0, 0, 0, 0, 0, 0, 0, 0, 0, 0, 0, 0, 0, 0, 0, 0, 0, 0, 0, 0, 0, 0, 0, 0, 0, 0, 0, 0, 0, 0, 0, 0, 0, 0, 0, 0, 0, 0, 1], [0, 0, 0, 0, 0, 0, 0, 0, 0, 1, 1, 0, 0, 0, 0, 0, 0, 0, 0, 0, 0, 0, 0, 0, 1, 0, 0, 0, 0, 0, 0, 0, 0, 0, 0, 0, 0, 0, 0, 0, 0, 1, 0, 0, 0, 0, 0, 0, 0, 0, 0, 0, 0, 0, 0, 0, 0, 0, 0, 0, 0, 1, 0, 0, 0, 1, 0, 0, 0, 0, 0, 0, 0, 0, 0, 0, 0, 0, 0, 0, 0, 0, 0, 0, 0, 0, 0], [0, 0, 0, 0, 0, 1, 0, 0, 0, 0, 0, 0, 0, 0, 0, 0, 0, 0, 0, 0, 0, 0, 0, 0, 0, 0, 0, 0, 0, 0, 0, 0, 0, 0, 0, 0, 0, 0, 0, 1, 0, 0, 0, 0, 0, 0, 0, 0, 0, 0, 0, 0, 0, 0, 0, 0, 0, 0, 0, 0, 0, 0, 0, 0, 0, 0, 0, 0, 0, 0, 0, 0, 0, 0, 0, 0, 0, 0, 0, 0, 0, 0, 0, 0, 0, 0, 1], [0, 0, 0, 0, 0, 0, 0, 0, 0, 1, 0, 0, 0, 0, 0, 0, 0, 0, 0, 0, 0, 0, 0, 0, 0, 1, 0, 0, 0, 0, 0, 0, 0, 0, 0, 0, 1, 0, 0, 0, 1, 0, 0, 0, 0, 0, 0, 0, 0, 0, 0, 0, 0, 0, 0, 0, 0, 0, 0, 0, 0, 1, 0, 0, 0, 1, 1, 0, 0, 0, 0, 0, 0, 0, 0, 0, 0, 0, 0, 1, 0, 0, 1, 0, 0, 0, 0], [0, 0, 0, 0, 0, 0, 0, 0, 0, 0, 0, 0, 0, 0, 0, 0, 0, 0, 0, 0, 0, 0, 0, 0, 1, 0, 0, 0, 0, 0, 0, 0, 0, 0, 0, 0, 0, 0, 0, 0, 0, 0, 0, 0, 0, 0, 0, 0, 0, 0, 0, 0, 0, 0, 0, 0, 0, 0, 0, 0, 1, 0, 0, 0, 0, 0, 0, 0, 0, 0, 0, 0, 0, 0, 0, 0, 0, 0, 0, 0, 0, 0, 0, 0, 0, 0, 0], [0, 1, 0, 0, 0, 0, 0, 0, 0, 0, 0, 0, 0, 0, 0, 0, 0, 0, 0, 0, 0, 0, 0, 0, 1, 0, 0, 0, 0, 0, 0, 0, 0, 0, 0, 0, 0, 0, 0, 0, 0, 0, 0, 0, 0, 0, 0, 0, 0, 0, 0, 1, 0, 0, 0, 0, 0, 0, 0, 0, 1, 0, 0, 0, 0, 0, 0, 0, 0, 0, 0, 0, 0, 0, 0, 0, 0, 0, 0, 0, 0, 0, 0, 0, 0, 0, 0], [0, 0, 0, 0, 0, 0, 1, 0, 0, 0, 0, 0, 0, 0, 0, 0, 0, 0, 0, 0, 0, 0, 0, 0, 0, 0, 0, 0, 0, 0, 0, 0, 0, 0, 0, 0, 0, 0, 0, 0, 0, 0, 0, 0, 0, 0, 0, 0, 0, 0, 0, 0, 0, 0, 0, 0, 0, 0, 0, 0, 0, 0, 0, 0, 0, 0, 0, 0, 0, 0, 0, 0, 0, 0, 1, 0, 0, 0, 0, 0, 0, 0, 0, 0, 0, 0, 0], [0, 0, 0, 0, 0, 0, 0, 0, 0, 0, 0, 0, 0, 0, 0, 0, 0, 0, 0, 0, 0, 0, 0, 0, 0, 0, 0, 0, 0, 0, 0, 0, 0, 0, 0, 0, 0, 0, 0, 0, 0, 0, 1, 0, 0, 0, 0, 0, 0, 0, 0, 0, 0, 0, 0, 0, 0, 1, 0, 0, 0, 0, 0, 0, 0, 0, 0, 0, 0, 0, 0, 1, 0, 0, 0, 0, 0, 0, 0, 0, 0, 0, 0, 1, 0, 0, 0], [0, 0, 0, 0, 0, 0, 0, 0, 0, 0, 0, 0, 0, 0, 0, 0, 0, 0, 0, 0, 0, 0, 0, 0, 0, 0, 0, 0, 0, 0, 0, 0, 0, 0, 0, 1, 0, 0, 0, 0, 0, 0, 0, 0, 0, 0, 0, 0, 0, 0, 0, 0, 0, 0, 0, 0, 0, 0, 0, 0, 0, 0, 0, 0, 0, 0, 0, 0, 0, 0, 0, 0, 0, 0, 0, 0, 1, 0, 0, 0, 0, 0, 0, 0, 0, 0, 0], [0, 0, 0, 0, 0, 0, 0, 0, 0, 0, 0, 0, 0, 0, 0, 0, 0, 0, 0, 0, 0, 0, 0, 0, 0, 0, 0, 0, 0, 0, 0, 0, 0, 0, 0, 0, 0, 0, 0, 0, 0, 0, 0, 0, 0, 0, 0, 0, 0, 0, 0, 0, 0, 0, 0, 0, 0, 0, 0, 0, 0, 0, 0, 0, 0, 0, 0, 0, 0, 0, 0, 0, 0, 0, 1, 0, 0, 0, 0, 0, 0, 0, 0, 0, 0, 0, 0], [1, 0, 0, 0, 0, 0, 0, 0, 0, 0, 0, 0, 0, 0, 0, 0, 0, 0, 0, 0, 0, 0, 0, 0, 0, 0, 0, 0, 0, 0, 0, 0, 1, 0, 0, 0, 0, 0, 0, 0, 0, 0, 0, 0, 0, 0, 0, 0, 0, 0, 0, 0, 0, 0, 0, 0, 0, 0, 0, 0, 0, 0, 0, 0, 0, 0, 0, 0, 0, 0, 0, 0, 0, 0, 0, 1, 0, 0, 0, 0, 0, 0, 0, 0, 0, 0, 0], [0, 0, 0, 0, 0, 0, 0, 0, 0, 0, 0, 0, 0, 0, 0, 0, 0, 0, 0, 0, 0, 0, 0, 0, 0, 0, 0, 0, 1, 0, 0, 0, 0, 0, 0, 0, 0, 0, 0, 0, 0, 0, 0, 0, 0, 0, 0, 0, 0, 0, 0, 0, 0, 0, 0, 0, 0, 0, 0, 0, 0, 0, 0, 0, 0, 0, 0, 0, 0, 0, 0, 0, 0, 0, 0, 0, 0, 0, 0, 0, 0, 0, 0, 0, 0, 0, 0], [0, 0, 0, 0, 0, 0, 0, 0, 0, 0, 0, 0, 0, 0, 0, 0, 0, 0, 0, 0, 0, 0, 0, 0, 0, 0, 0, 0, 0, 0, 0, 0, 0, 0, 0, 0, 0, 0, 0, 0, 0, 0, 0, 0, 0, 0, 0, 0, 0, 0, 0, 0, 0, 0, 0, 0, 0, 0, 0, 0, 1, 0, 0, 0, 0, 0, 1, 0, 0, 0, 0, 0, 0, 0, 0, 0, 0, 0, 0, 0, 0, 0, 0, 0, 0, 0, 0], [0, 0, 0, 0, 0, 0, 0, 0, 0, 0, 0, 0, 0, 0, 0, 0, 0, 0, 1, 0, 0, 0, 0, 0, 0, 0, 0, 1, 0, 0, 0, 0, 0, 0, 0, 0, 0, 0, 0, 0, 0, 0, 0, 0, 0, 0, 0, 0, 0, 0, 0, 0, 0, 0, 0, 0, 0, 0, 0, 0, 0, 0, 0, 0, 0, 0, 0, 0, 0, 0, 0, 0, 0, 0, 0, 0, 0, 0, 0, 0, 0, 0, 0, 0, 0, 0, 0], [0, 0, 0, 0, 0, 0, 0, 0, 0, 1, 0, 0, 0, 0, 0, 0, 0, 0, 0, 0, 0, 0, 0, 0, 0, 1, 0, 0, 0, 0, 0, 0, 0, 0, 0, 0, 0, 0, 0, 0, 0, 0, 0, 0, 0, 0, 0, 0, 0, 0, 0, 0, 0, 0, 0, 0, 0, 0, 0, 1, 0, 1, 0, 0, 0, 0, 0, 0, 0, 0, 0, 0, 0, 0, 0, 0, 0, 0, 0, 0, 0, 0, 0, 0, 0, 0, 0], [0, 0, 0, 0, 0, 0, 0, 0, 0, 0, 0, 0, 0, 0, 0, 0, 1, 0, 0, 0, 0, 0, 0, 0, 0, 0, 0, 0, 0, 0, 0, 1, 0, 0, 0, 0, 0, 0, 0, 1, 0, 0, 0, 0, 0, 0, 0, 0, 0, 0, 0, 1, 0, 0, 0, 0, 0, 0, 0, 0, 0, 0, 0, 0, 0, 0, 0, 0, 0, 0, 0, 0, 0, 0, 0, 0, 0, 0, 0, 0, 0, 0, 0, 0, 0, 0, 1], [0, 0, 0, 0, 0, 0, 0, 0, 0, 0, 0, 0, 0, 0, 0, 0, 0, 1, 0, 0, 0, 0, 0, 0, 0, 0, 0, 0, 0, 0, 0, 0, 0, 0, 0, 0, 0, 0, 1, 0, 1, 0, 0, 0, 0, 0, 0, 0, 0, 0, 0, 0, 0, 0, 0, 0, 0, 0, 0, 0, 0, 0, 0, 0, 0, 0, 1, 0, 0, 0, 0, 0, 0, 0, 0, 0, 0, 0, 0, 1, 0, 0, 1, 0, 0, 0, 0], [0, 0, 0, 0, 0, 0, 0, 0, 0, 1, 0, 0, 0, 0, 0, 0, 0, 0, 0, 0, 0, 0, 0, 0, 0, 0, 0, 0, 0, 0, 0, 0, 0, 0, 0, 0, 0, 0, 0, 0, 1, 0, 0, 0, 0, 0, 0, 1, 0, 0, 0, 0, 0, 0, 0, 0, 0, 0, 0, 0, 0, 1, 0, 0, 0, 1, 0, 0, 0, 0, 0, 0, 0, 0, 0, 0, 0, 0, 0, 1, 0, 0, 1, 0, 0, 0, 0], [0, 0, 0, 0, 0, 0, 0, 0, 0, 0, 0, 0, 1, 0, 0, 0, 0, 0, 0, 0, 1, 0, 0, 0, 0, 0, 0, 0, 0, 0, 0, 0, 0, 0, 0, 0, 0, 0, 0, 0, 0, 0, 0, 0, 0, 0, 0, 0, 0, 0, 0, 0, 0, 0, 0, 0, 0, 0, 0, 0, 0, 0, 0, 0, 0, 0, 0, 0, 0, 0, 0, 0, 0, 0, 0, 0, 0, 0, 0, 0, 0, 0, 0, 1, 0, 0, 1], [0, 0, 0, 0, 0, 0, 0, 0, 0, 0, 0, 0, 0, 0, 0, 0, 0, 0, 0, 0, 0, 0, 0, 0, 0, 1, 0, 0, 0, 0, 0, 0, 0, 0, 0, 0, 0, 0, 1, 0, 0, 0, 0, 0, 0, 0, 0, 0, 0, 1, 0, 0, 0, 0, 0, 0, 0, 0, 0, 0, 0, 0, 0, 0, 0, 0, 0, 0, 0, 0, 0, 0, 0, 0, 0, 0, 0, 0, 0, 0, 0, 0, 0, 0, 0, 0, 0], [0, 0, 0, 0, 0, 0, 0, 0, 0, 0, 0, 0, 0, 0, 0, 0, 0, 0, 0, 0, 0, 0, 0, 0, 0, 1, 0, 0, 0, 0, 0, 0, 0, 0, 0, 0, 0, 0, 1, 0, 0, 0, 0, 0, 0, 0, 0, 0, 0, 1, 0, 0, 0, 0, 0, 0, 0, 0, 0, 1, 0, 0, 0, 0, 0, 0, 0, 0, 0, 0, 0, 0, 0, 0, 0, 0, 0, 0, 0, 0, 0, 0, 0, 0, 0, 0, 0], [0, 0, 0, 0, 0, 0, 0, 0, 0, 1, 0, 0, 0, 0, 0, 0, 0, 0, 0, 0, 0, 0, 0, 0, 0, 0, 0, 0, 0, 0, 0, 0, 0, 0, 0, 0, 0, 0, 0, 0, 0, 0, 0, 0, 0, 0, 0, 0, 0, 0, 0, 0, 0, 0, 0, 0, 0, 0, 0, 0, 0, 1, 0, 0, 1, 0, 0, 0, 0, 0, 0, 0, 1, 0, 0, 0, 0, 0, 0, 1, 0, 0, 0, 0, 0, 0, 0], [0, 0, 0, 0, 0, 0, 0, 0, 0, 1, 0, 0, 0, 0, 0, 0, 0, 1, 0, 0, 0, 0, 0, 1, 0, 0, 0, 0, 0, 0, 0, 0, 0, 0, 0, 0, 0, 0, 0, 0, 0, 0, 0, 0, 0, 0, 0, 0, 0, 0, 0, 0, 0, 0, 0, 0, 0, 0, 0, 0, 0, 1, 0, 0, 0, 0, 0, 0, 0, 0, 0, 0, 0, 0, 0, 0, 0, 0, 0, 0, 0, 0, 0, 0, 0, 0, 0], [0, 0, 0, 0, 0, 0, 0, 0, 0, 0, 0, 0, 0, 0, 0, 0, 0, 0, 0, 0, 0, 0, 0, 0, 0, 0, 0, 0, 0, 0, 0, 0, 0, 0, 0, 0, 0, 0, 0, 0, 0, 0, 0, 1, 0, 0, 0, 0, 0, 0, 0, 0, 0, 0, 0, 0, 0, 0, 0, 0, 0, 0, 0, 0, 0, 0, 0, 0, 1, 0, 0, 0, 0, 0, 0, 0, 0, 0, 0, 0, 0, 0, 0, 0, 0, 0, 1], [0, 0, 0, 0, 1, 0, 0, 0, 0, 0, 0, 0, 0, 0, 0, 0, 0, 0, 0, 0, 0, 0, 0, 0, 0, 0, 0, 0, 0, 0, 0, 0, 0, 0, 0, 0, 0, 0, 0, 0, 0, 0, 1, 0, 0, 0, 0, 0, 0, 0, 0, 0, 0, 0, 0, 0, 0, 0, 0, 0, 0, 0, 0, 0, 0, 0, 0, 0, 0, 0, 0, 0, 0, 0, 0, 0, 1, 0, 0, 0, 0, 0, 0, 0, 0, 0, 0], [0, 0, 1, 0, 0, 0, 0, 0, 0, 0, 0, 0, 0, 0, 0, 1, 0, 0, 0, 0, 0, 0, 1, 0, 0, 0, 0, 0, 0, 0, 0, 0, 0, 0, 0, 0, 0, 0, 0, 1, 0, 0, 0, 0, 0, 0, 0, 0, 0, 0, 0, 0, 0, 0, 0, 0, 0, 0, 0, 0, 0, 0, 0, 1, 0, 0, 0, 0, 0, 0, 0, 0, 0, 0, 0, 0, 0, 0, 0, 1, 0, 0, 0, 0, 0, 0, 0], [0, 0, 0, 0, 0, 0, 0, 0, 0, 0, 0, 0, 0, 0, 0, 0, 0, 0, 0, 0, 0, 0, 0, 0, 0, 1, 0, 0, 0, 0, 0, 0, 0, 0, 0, 0, 0, 0, 1, 0, 0, 0, 0, 0, 0, 0, 0, 0, 0, 0, 0, 0, 0, 0, 0, 0, 0, 0, 0, 1, 0, 0, 0, 0, 0, 0, 0, 1, 0, 0, 0, 0, 0, 0, 0, 0, 0, 0, 0, 1, 1, 0, 0, 0, 0, 0, 0], [0, 0, 0, 0, 0, 0, 0, 0, 0, 0, 0, 1, 0, 0, 0, 0, 0, 0, 0, 0, 0, 0, 0, 0, 0, 0, 0, 0, 0, 0, 0, 0, 0, 0, 0, 0, 0, 0, 0, 0, 0, 0, 0, 0, 0, 0, 0, 0, 0, 0, 0, 0, 0, 0, 0, 0, 0, 0, 0, 0, 0, 0, 0, 0, 0, 0, 0, 0, 0, 0, 0, 0, 0, 0, 0, 0, 0, 0, 0, 0, 0, 0, 0, 0, 0, 0, 0]]\n",
            "[[0, 0, 0, 0, 0, 0, 0, 0, 1], [1, 0, 0, 0, 0, 0, 0, 0, 0], [0, 0, 0, 0, 0, 1, 0, 0, 0], [0, 0, 0, 1, 0, 0, 0, 0, 0], [0, 0, 0, 0, 0, 0, 0, 1, 0], [0, 1, 0, 0, 0, 0, 0, 0, 0], [0, 0, 0, 0, 1, 0, 0, 0, 0], [0, 0, 1, 0, 0, 0, 0, 0, 0], [1, 0, 0, 0, 0, 0, 0, 0, 0], [0, 0, 0, 0, 0, 0, 1, 0, 0], [0, 0, 0, 0, 0, 0, 0, 1, 0], [0, 0, 0, 0, 0, 0, 0, 0, 1], [0, 0, 0, 0, 1, 0, 0, 0, 0], [0, 0, 1, 0, 0, 0, 0, 0, 0], [1, 0, 0, 0, 0, 0, 0, 0, 0], [0, 0, 0, 0, 1, 0, 0, 0, 0], [0, 1, 0, 0, 0, 0, 0, 0, 0], [0, 0, 0, 1, 0, 0, 0, 0, 0], [1, 0, 0, 0, 0, 0, 0, 0, 0], [0, 0, 0, 0, 0, 0, 1, 0, 0], [0, 0, 1, 0, 0, 0, 0, 0, 0], [0, 0, 0, 0, 1, 0, 0, 0, 0], [0, 0, 1, 0, 0, 0, 0, 0, 0], [0, 0, 0, 0, 0, 0, 0, 1, 0], [0, 0, 0, 0, 0, 0, 0, 1, 0], [0, 0, 0, 0, 0, 0, 0, 0, 1], [0, 0, 0, 0, 0, 0, 1, 0, 0], [0, 0, 0, 0, 1, 0, 0, 0, 0], [0, 0, 0, 0, 0, 0, 0, 0, 1], [0, 0, 0, 0, 0, 0, 0, 0, 1], [0, 0, 0, 1, 0, 0, 0, 0, 0], [0, 0, 0, 0, 0, 0, 0, 1, 0], [0, 0, 0, 0, 1, 0, 0, 0, 0], [0, 0, 1, 0, 0, 0, 0, 0, 0], [0, 0, 0, 0, 0, 0, 1, 0, 0], [0, 0, 0, 0, 0, 1, 0, 0, 0], [0, 1, 0, 0, 0, 0, 0, 0, 0], [0, 0, 0, 0, 0, 0, 1, 0, 0], [0, 0, 0, 0, 0, 1, 0, 0, 0], [0, 0, 0, 0, 0, 1, 0, 0, 0], [0, 1, 0, 0, 0, 0, 0, 0, 0], [0, 1, 0, 0, 0, 0, 0, 0, 0], [0, 0, 0, 1, 0, 0, 0, 0, 0], [0, 0, 0, 0, 1, 0, 0, 0, 0], [1, 0, 0, 0, 0, 0, 0, 0, 0], [0, 0, 0, 0, 0, 1, 0, 0, 0], [0, 0, 0, 1, 0, 0, 0, 0, 0]]\n"
          ],
          "name": "stdout"
        }
      ]
    },
    {
      "cell_type": "markdown",
      "metadata": {
        "id": "7iielnWQuZ37",
        "colab_type": "text"
      },
      "source": [
        "The architecture of our model will be a neural network consisting of 3 dense layers. The first layer has 128 neurons, the second one has 64 and the last layer will have the same neurons as the number of classes. The dropout layers are introduced to reduce overfitting of the model. We have used the SGD optimizer and fit the data to start the training of the model. After the training of 200 epochs is completed, we then save the trained model using the Keras model.save(“chatbot_model.h5”) function."
      ]
    },
    {
      "cell_type": "code",
      "metadata": {
        "id": "V0E0IChXuRPM",
        "colab_type": "code",
        "colab": {}
      },
      "source": [
        "# Create model - 3 layers. First layer 128 neurons, second layer 64 neurons and 3rd output layer contains number of neurons\n",
        "# equal to number of intents to predict output intent with softmax\n",
        "model = Sequential()\n",
        "model.add(Dense(128, input_shape=(len(train_x[0]),), activation='relu'))\n",
        "model.add(Dropout(0.5))\n",
        "model.add(Dense(64, activation='relu'))\n",
        "model.add(Dropout(0.5))\n",
        "model.add(Dense(len(train_y[0]), activation='softmax'))"
      ],
      "execution_count": 0,
      "outputs": []
    },
    {
      "cell_type": "code",
      "metadata": {
        "id": "v3oB-jI8uabf",
        "colab_type": "code",
        "colab": {}
      },
      "source": [
        "# Compile model. Stochastic gradient descent with Nesterov accelerated gradient gives good results for this model\n",
        "sgd = SGD(lr=0.01, decay=1e-6, momentum=0.9, nesterov=True)\n",
        "model.compile(loss='categorical_crossentropy', optimizer=sgd, metrics=['accuracy'])"
      ],
      "execution_count": 0,
      "outputs": []
    },
    {
      "cell_type": "code",
      "metadata": {
        "id": "qjDM930IuisI",
        "colab_type": "code",
        "colab": {
          "base_uri": "https://localhost:8080/",
          "height": 1000
        },
        "outputId": "2a614a43-5f96-49a8-b5a7-dacfa3792c06"
      },
      "source": [
        "#fitting and saving the model \n",
        "hist = model.fit(np.array(train_x), np.array(train_y), epochs=200, batch_size=5, verbose=1)\n",
        "model.save('chatbot_model.h5', hist)"
      ],
      "execution_count": 33,
      "outputs": [
        {
          "output_type": "stream",
          "text": [
            "Epoch 1/200\n",
            "47/47 [==============================] - 0s 6ms/step - loss: 2.2472 - accuracy: 0.1702\n",
            "Epoch 2/200\n",
            "47/47 [==============================] - 0s 351us/step - loss: 2.1610 - accuracy: 0.1915\n",
            "Epoch 3/200\n",
            "47/47 [==============================] - 0s 347us/step - loss: 2.0853 - accuracy: 0.2979\n",
            "Epoch 4/200\n",
            "47/47 [==============================] - 0s 342us/step - loss: 2.0130 - accuracy: 0.2766\n",
            "Epoch 5/200\n",
            "47/47 [==============================] - 0s 302us/step - loss: 1.8681 - accuracy: 0.4468\n",
            "Epoch 6/200\n",
            "47/47 [==============================] - 0s 353us/step - loss: 1.8380 - accuracy: 0.4468\n",
            "Epoch 7/200\n",
            "47/47 [==============================] - 0s 334us/step - loss: 1.7018 - accuracy: 0.4255\n",
            "Epoch 8/200\n",
            "47/47 [==============================] - 0s 328us/step - loss: 1.5898 - accuracy: 0.4894\n",
            "Epoch 9/200\n",
            "47/47 [==============================] - 0s 360us/step - loss: 1.4046 - accuracy: 0.6596\n",
            "Epoch 10/200\n",
            "47/47 [==============================] - 0s 312us/step - loss: 1.3630 - accuracy: 0.6170\n",
            "Epoch 11/200\n",
            "47/47 [==============================] - 0s 290us/step - loss: 1.0630 - accuracy: 0.6809\n",
            "Epoch 12/200\n",
            "47/47 [==============================] - 0s 314us/step - loss: 1.1734 - accuracy: 0.6809\n",
            "Epoch 13/200\n",
            "47/47 [==============================] - 0s 314us/step - loss: 0.9517 - accuracy: 0.7872\n",
            "Epoch 14/200\n",
            "47/47 [==============================] - 0s 387us/step - loss: 0.8393 - accuracy: 0.7447\n",
            "Epoch 15/200\n",
            "47/47 [==============================] - 0s 364us/step - loss: 0.8036 - accuracy: 0.7234\n",
            "Epoch 16/200\n",
            "47/47 [==============================] - 0s 317us/step - loss: 0.8860 - accuracy: 0.8085\n",
            "Epoch 17/200\n",
            "47/47 [==============================] - 0s 314us/step - loss: 0.6866 - accuracy: 0.7447\n",
            "Epoch 18/200\n",
            "47/47 [==============================] - 0s 345us/step - loss: 0.5692 - accuracy: 0.8936\n",
            "Epoch 19/200\n",
            "47/47 [==============================] - 0s 361us/step - loss: 0.5260 - accuracy: 0.8511\n",
            "Epoch 20/200\n",
            "47/47 [==============================] - 0s 365us/step - loss: 0.6303 - accuracy: 0.8085\n",
            "Epoch 21/200\n",
            "47/47 [==============================] - 0s 383us/step - loss: 0.7658 - accuracy: 0.7660\n",
            "Epoch 22/200\n",
            "47/47 [==============================] - 0s 414us/step - loss: 0.5061 - accuracy: 0.8723\n",
            "Epoch 23/200\n",
            "47/47 [==============================] - 0s 388us/step - loss: 0.5489 - accuracy: 0.8298\n",
            "Epoch 24/200\n",
            "47/47 [==============================] - 0s 326us/step - loss: 0.4919 - accuracy: 0.9149\n",
            "Epoch 25/200\n",
            "47/47 [==============================] - 0s 384us/step - loss: 0.4878 - accuracy: 0.8511\n",
            "Epoch 26/200\n",
            "47/47 [==============================] - 0s 314us/step - loss: 0.4074 - accuracy: 0.8723\n",
            "Epoch 27/200\n",
            "47/47 [==============================] - 0s 346us/step - loss: 0.3613 - accuracy: 0.8936\n",
            "Epoch 28/200\n",
            "47/47 [==============================] - 0s 332us/step - loss: 0.3002 - accuracy: 0.9149\n",
            "Epoch 29/200\n",
            "47/47 [==============================] - 0s 299us/step - loss: 0.3370 - accuracy: 0.8936\n",
            "Epoch 30/200\n",
            "47/47 [==============================] - 0s 316us/step - loss: 0.2324 - accuracy: 0.9574\n",
            "Epoch 31/200\n",
            "47/47 [==============================] - 0s 357us/step - loss: 0.2171 - accuracy: 0.9574\n",
            "Epoch 32/200\n",
            "47/47 [==============================] - 0s 347us/step - loss: 0.1446 - accuracy: 1.0000\n",
            "Epoch 33/200\n",
            "47/47 [==============================] - 0s 331us/step - loss: 0.3094 - accuracy: 0.8936\n",
            "Epoch 34/200\n",
            "47/47 [==============================] - 0s 341us/step - loss: 0.2905 - accuracy: 0.9574\n",
            "Epoch 35/200\n",
            "47/47 [==============================] - 0s 351us/step - loss: 0.2395 - accuracy: 0.9574\n",
            "Epoch 36/200\n",
            "47/47 [==============================] - 0s 342us/step - loss: 0.1951 - accuracy: 1.0000\n",
            "Epoch 37/200\n",
            "47/47 [==============================] - 0s 313us/step - loss: 0.1652 - accuracy: 0.9574\n",
            "Epoch 38/200\n",
            "47/47 [==============================] - 0s 314us/step - loss: 0.2349 - accuracy: 0.9362\n",
            "Epoch 39/200\n",
            "47/47 [==============================] - 0s 319us/step - loss: 0.1719 - accuracy: 0.9574\n",
            "Epoch 40/200\n",
            "47/47 [==============================] - 0s 352us/step - loss: 0.1649 - accuracy: 0.9787\n",
            "Epoch 41/200\n",
            "47/47 [==============================] - 0s 357us/step - loss: 0.1639 - accuracy: 0.9574\n",
            "Epoch 42/200\n",
            "47/47 [==============================] - 0s 361us/step - loss: 0.1885 - accuracy: 0.9574\n",
            "Epoch 43/200\n",
            "47/47 [==============================] - 0s 309us/step - loss: 0.1350 - accuracy: 0.9787\n",
            "Epoch 44/200\n",
            "47/47 [==============================] - 0s 337us/step - loss: 0.0886 - accuracy: 0.9787\n",
            "Epoch 45/200\n",
            "47/47 [==============================] - 0s 317us/step - loss: 0.2990 - accuracy: 0.9362\n",
            "Epoch 46/200\n",
            "47/47 [==============================] - 0s 318us/step - loss: 0.1383 - accuracy: 0.9574\n",
            "Epoch 47/200\n",
            "47/47 [==============================] - 0s 317us/step - loss: 0.1688 - accuracy: 0.9574\n",
            "Epoch 48/200\n",
            "47/47 [==============================] - 0s 309us/step - loss: 0.1059 - accuracy: 1.0000\n",
            "Epoch 49/200\n",
            "47/47 [==============================] - 0s 319us/step - loss: 0.1223 - accuracy: 1.0000\n",
            "Epoch 50/200\n",
            "47/47 [==============================] - 0s 328us/step - loss: 0.0795 - accuracy: 1.0000\n",
            "Epoch 51/200\n",
            "47/47 [==============================] - 0s 303us/step - loss: 0.1186 - accuracy: 0.9574\n",
            "Epoch 52/200\n",
            "47/47 [==============================] - 0s 310us/step - loss: 0.1057 - accuracy: 0.9787\n",
            "Epoch 53/200\n",
            "47/47 [==============================] - 0s 333us/step - loss: 0.0808 - accuracy: 1.0000\n",
            "Epoch 54/200\n",
            "47/47 [==============================] - 0s 403us/step - loss: 0.0779 - accuracy: 1.0000\n",
            "Epoch 55/200\n",
            "47/47 [==============================] - 0s 545us/step - loss: 0.0904 - accuracy: 1.0000\n",
            "Epoch 56/200\n",
            "47/47 [==============================] - 0s 342us/step - loss: 0.0710 - accuracy: 0.9787\n",
            "Epoch 57/200\n",
            "47/47 [==============================] - 0s 342us/step - loss: 0.0479 - accuracy: 0.9787\n",
            "Epoch 58/200\n",
            "47/47 [==============================] - 0s 376us/step - loss: 0.0379 - accuracy: 1.0000\n",
            "Epoch 59/200\n",
            "47/47 [==============================] - 0s 337us/step - loss: 0.0527 - accuracy: 1.0000\n",
            "Epoch 60/200\n",
            "47/47 [==============================] - 0s 357us/step - loss: 0.0622 - accuracy: 0.9787\n",
            "Epoch 61/200\n",
            "47/47 [==============================] - 0s 313us/step - loss: 0.1111 - accuracy: 1.0000\n",
            "Epoch 62/200\n",
            "47/47 [==============================] - 0s 331us/step - loss: 0.0458 - accuracy: 1.0000\n",
            "Epoch 63/200\n",
            "47/47 [==============================] - 0s 361us/step - loss: 0.0619 - accuracy: 1.0000\n",
            "Epoch 64/200\n",
            "47/47 [==============================] - 0s 320us/step - loss: 0.1059 - accuracy: 0.9787\n",
            "Epoch 65/200\n",
            "47/47 [==============================] - 0s 351us/step - loss: 0.0687 - accuracy: 0.9787\n",
            "Epoch 66/200\n",
            "47/47 [==============================] - 0s 356us/step - loss: 0.0730 - accuracy: 0.9787\n",
            "Epoch 67/200\n",
            "47/47 [==============================] - 0s 313us/step - loss: 0.0714 - accuracy: 1.0000\n",
            "Epoch 68/200\n",
            "47/47 [==============================] - 0s 399us/step - loss: 0.0474 - accuracy: 1.0000\n",
            "Epoch 69/200\n",
            "47/47 [==============================] - 0s 320us/step - loss: 0.0178 - accuracy: 1.0000\n",
            "Epoch 70/200\n",
            "47/47 [==============================] - 0s 416us/step - loss: 0.0924 - accuracy: 0.9787\n",
            "Epoch 71/200\n",
            "47/47 [==============================] - 0s 419us/step - loss: 0.0843 - accuracy: 0.9787\n",
            "Epoch 72/200\n",
            "47/47 [==============================] - 0s 389us/step - loss: 0.0586 - accuracy: 0.9787\n",
            "Epoch 73/200\n",
            "47/47 [==============================] - 0s 319us/step - loss: 0.0989 - accuracy: 0.9787\n",
            "Epoch 74/200\n",
            "47/47 [==============================] - 0s 366us/step - loss: 0.0193 - accuracy: 1.0000\n",
            "Epoch 75/200\n",
            "47/47 [==============================] - 0s 327us/step - loss: 0.0314 - accuracy: 1.0000\n",
            "Epoch 76/200\n",
            "47/47 [==============================] - 0s 312us/step - loss: 0.0509 - accuracy: 1.0000\n",
            "Epoch 77/200\n",
            "47/47 [==============================] - 0s 299us/step - loss: 0.0869 - accuracy: 0.9787\n",
            "Epoch 78/200\n",
            "47/47 [==============================] - 0s 361us/step - loss: 0.0891 - accuracy: 0.9787\n",
            "Epoch 79/200\n",
            "47/47 [==============================] - 0s 314us/step - loss: 0.0739 - accuracy: 0.9787\n",
            "Epoch 80/200\n",
            "47/47 [==============================] - 0s 346us/step - loss: 0.0381 - accuracy: 1.0000\n",
            "Epoch 81/200\n",
            "47/47 [==============================] - 0s 319us/step - loss: 0.1123 - accuracy: 0.9787\n",
            "Epoch 82/200\n",
            "47/47 [==============================] - 0s 315us/step - loss: 0.0185 - accuracy: 1.0000\n",
            "Epoch 83/200\n",
            "47/47 [==============================] - 0s 313us/step - loss: 0.0470 - accuracy: 0.9787\n",
            "Epoch 84/200\n",
            "47/47 [==============================] - 0s 357us/step - loss: 0.0393 - accuracy: 1.0000\n",
            "Epoch 85/200\n",
            "47/47 [==============================] - 0s 345us/step - loss: 0.0759 - accuracy: 0.9787\n",
            "Epoch 86/200\n",
            "47/47 [==============================] - 0s 335us/step - loss: 0.0468 - accuracy: 0.9787\n",
            "Epoch 87/200\n",
            "47/47 [==============================] - 0s 327us/step - loss: 0.1037 - accuracy: 0.9787\n",
            "Epoch 88/200\n",
            "47/47 [==============================] - 0s 343us/step - loss: 0.0637 - accuracy: 0.9787\n",
            "Epoch 89/200\n",
            "47/47 [==============================] - 0s 304us/step - loss: 0.0598 - accuracy: 1.0000\n",
            "Epoch 90/200\n",
            "47/47 [==============================] - 0s 323us/step - loss: 0.0693 - accuracy: 0.9787\n",
            "Epoch 91/200\n",
            "47/47 [==============================] - 0s 316us/step - loss: 0.0526 - accuracy: 0.9787\n",
            "Epoch 92/200\n",
            "47/47 [==============================] - 0s 314us/step - loss: 0.0178 - accuracy: 1.0000\n",
            "Epoch 93/200\n",
            "47/47 [==============================] - 0s 312us/step - loss: 0.0368 - accuracy: 1.0000\n",
            "Epoch 94/200\n",
            "47/47 [==============================] - 0s 335us/step - loss: 0.0874 - accuracy: 0.9574\n",
            "Epoch 95/200\n",
            "47/47 [==============================] - 0s 332us/step - loss: 0.0303 - accuracy: 1.0000\n",
            "Epoch 96/200\n",
            "47/47 [==============================] - 0s 308us/step - loss: 0.0266 - accuracy: 1.0000\n",
            "Epoch 97/200\n",
            "47/47 [==============================] - 0s 364us/step - loss: 0.0408 - accuracy: 1.0000\n",
            "Epoch 98/200\n",
            "47/47 [==============================] - 0s 379us/step - loss: 0.0677 - accuracy: 0.9787\n",
            "Epoch 99/200\n",
            "47/47 [==============================] - 0s 330us/step - loss: 0.0532 - accuracy: 1.0000\n",
            "Epoch 100/200\n",
            "47/47 [==============================] - 0s 357us/step - loss: 0.0614 - accuracy: 0.9787\n",
            "Epoch 101/200\n",
            "47/47 [==============================] - 0s 389us/step - loss: 0.0656 - accuracy: 0.9574\n",
            "Epoch 102/200\n",
            "47/47 [==============================] - 0s 334us/step - loss: 0.0326 - accuracy: 1.0000\n",
            "Epoch 103/200\n",
            "47/47 [==============================] - 0s 360us/step - loss: 0.0674 - accuracy: 0.9787\n",
            "Epoch 104/200\n",
            "47/47 [==============================] - 0s 371us/step - loss: 0.0278 - accuracy: 1.0000\n",
            "Epoch 105/200\n",
            "47/47 [==============================] - 0s 364us/step - loss: 0.0225 - accuracy: 1.0000\n",
            "Epoch 106/200\n",
            "47/47 [==============================] - 0s 357us/step - loss: 0.0187 - accuracy: 1.0000\n",
            "Epoch 107/200\n",
            "47/47 [==============================] - 0s 377us/step - loss: 0.0346 - accuracy: 0.9787\n",
            "Epoch 108/200\n",
            "47/47 [==============================] - 0s 315us/step - loss: 0.0192 - accuracy: 1.0000\n",
            "Epoch 109/200\n",
            "47/47 [==============================] - 0s 348us/step - loss: 0.0203 - accuracy: 1.0000\n",
            "Epoch 110/200\n",
            "47/47 [==============================] - 0s 338us/step - loss: 0.0091 - accuracy: 1.0000\n",
            "Epoch 111/200\n",
            "47/47 [==============================] - 0s 384us/step - loss: 0.0262 - accuracy: 1.0000\n",
            "Epoch 112/200\n",
            "47/47 [==============================] - 0s 496us/step - loss: 0.0504 - accuracy: 0.9787\n",
            "Epoch 113/200\n",
            "47/47 [==============================] - 0s 364us/step - loss: 0.0627 - accuracy: 0.9574\n",
            "Epoch 114/200\n",
            "47/47 [==============================] - 0s 331us/step - loss: 0.0394 - accuracy: 0.9787\n",
            "Epoch 115/200\n",
            "47/47 [==============================] - 0s 328us/step - loss: 0.0295 - accuracy: 1.0000\n",
            "Epoch 116/200\n",
            "47/47 [==============================] - 0s 392us/step - loss: 0.0385 - accuracy: 0.9787\n",
            "Epoch 117/200\n",
            "47/47 [==============================] - 0s 292us/step - loss: 0.0127 - accuracy: 1.0000\n",
            "Epoch 118/200\n",
            "47/47 [==============================] - 0s 383us/step - loss: 0.0358 - accuracy: 1.0000\n",
            "Epoch 119/200\n",
            "47/47 [==============================] - 0s 443us/step - loss: 0.0218 - accuracy: 1.0000\n",
            "Epoch 120/200\n",
            "47/47 [==============================] - 0s 462us/step - loss: 0.0143 - accuracy: 1.0000\n",
            "Epoch 121/200\n",
            "47/47 [==============================] - 0s 333us/step - loss: 0.0130 - accuracy: 1.0000\n",
            "Epoch 122/200\n",
            "47/47 [==============================] - 0s 350us/step - loss: 0.0313 - accuracy: 1.0000\n",
            "Epoch 123/200\n",
            "47/47 [==============================] - 0s 343us/step - loss: 0.0144 - accuracy: 1.0000\n",
            "Epoch 124/200\n",
            "47/47 [==============================] - 0s 338us/step - loss: 0.0078 - accuracy: 1.0000\n",
            "Epoch 125/200\n",
            "47/47 [==============================] - 0s 320us/step - loss: 0.0297 - accuracy: 1.0000\n",
            "Epoch 126/200\n",
            "47/47 [==============================] - 0s 324us/step - loss: 0.0105 - accuracy: 1.0000\n",
            "Epoch 127/200\n",
            "47/47 [==============================] - 0s 415us/step - loss: 0.0845 - accuracy: 0.9574\n",
            "Epoch 128/200\n",
            "47/47 [==============================] - 0s 354us/step - loss: 0.0187 - accuracy: 1.0000\n",
            "Epoch 129/200\n",
            "47/47 [==============================] - 0s 334us/step - loss: 0.0291 - accuracy: 1.0000\n",
            "Epoch 130/200\n",
            "47/47 [==============================] - 0s 324us/step - loss: 0.0192 - accuracy: 1.0000\n",
            "Epoch 131/200\n",
            "47/47 [==============================] - 0s 421us/step - loss: 0.0277 - accuracy: 0.9787\n",
            "Epoch 132/200\n",
            "47/47 [==============================] - 0s 359us/step - loss: 0.0186 - accuracy: 1.0000\n",
            "Epoch 133/200\n",
            "47/47 [==============================] - 0s 347us/step - loss: 0.0214 - accuracy: 1.0000\n",
            "Epoch 134/200\n",
            "47/47 [==============================] - 0s 338us/step - loss: 0.0111 - accuracy: 1.0000\n",
            "Epoch 135/200\n",
            "47/47 [==============================] - 0s 341us/step - loss: 0.0268 - accuracy: 1.0000\n",
            "Epoch 136/200\n",
            "47/47 [==============================] - 0s 373us/step - loss: 0.0069 - accuracy: 1.0000\n",
            "Epoch 137/200\n",
            "47/47 [==============================] - 0s 342us/step - loss: 0.0191 - accuracy: 1.0000\n",
            "Epoch 138/200\n",
            "47/47 [==============================] - 0s 312us/step - loss: 0.0124 - accuracy: 1.0000\n",
            "Epoch 139/200\n",
            "47/47 [==============================] - 0s 308us/step - loss: 0.0229 - accuracy: 1.0000\n",
            "Epoch 140/200\n",
            "47/47 [==============================] - 0s 305us/step - loss: 0.0039 - accuracy: 1.0000\n",
            "Epoch 141/200\n",
            "47/47 [==============================] - 0s 306us/step - loss: 0.0172 - accuracy: 1.0000\n",
            "Epoch 142/200\n",
            "47/47 [==============================] - 0s 310us/step - loss: 0.0264 - accuracy: 1.0000\n",
            "Epoch 143/200\n",
            "47/47 [==============================] - 0s 308us/step - loss: 0.0147 - accuracy: 1.0000\n",
            "Epoch 144/200\n",
            "47/47 [==============================] - 0s 326us/step - loss: 0.0079 - accuracy: 1.0000\n",
            "Epoch 145/200\n",
            "47/47 [==============================] - 0s 394us/step - loss: 0.0119 - accuracy: 1.0000\n",
            "Epoch 146/200\n",
            "47/47 [==============================] - 0s 317us/step - loss: 0.0161 - accuracy: 1.0000\n",
            "Epoch 147/200\n",
            "47/47 [==============================] - 0s 314us/step - loss: 0.0569 - accuracy: 1.0000\n",
            "Epoch 148/200\n",
            "47/47 [==============================] - 0s 327us/step - loss: 0.0151 - accuracy: 1.0000\n",
            "Epoch 149/200\n",
            "47/47 [==============================] - 0s 359us/step - loss: 0.0603 - accuracy: 0.9787\n",
            "Epoch 150/200\n",
            "47/47 [==============================] - 0s 349us/step - loss: 0.0222 - accuracy: 1.0000\n",
            "Epoch 151/200\n",
            "47/47 [==============================] - 0s 322us/step - loss: 0.0063 - accuracy: 1.0000\n",
            "Epoch 152/200\n",
            "47/47 [==============================] - 0s 337us/step - loss: 0.0073 - accuracy: 1.0000\n",
            "Epoch 153/200\n",
            "47/47 [==============================] - 0s 371us/step - loss: 0.0370 - accuracy: 1.0000\n",
            "Epoch 154/200\n",
            "47/47 [==============================] - 0s 321us/step - loss: 0.0163 - accuracy: 1.0000\n",
            "Epoch 155/200\n",
            "47/47 [==============================] - 0s 353us/step - loss: 0.0282 - accuracy: 0.9787\n",
            "Epoch 156/200\n",
            "47/47 [==============================] - 0s 336us/step - loss: 0.0290 - accuracy: 1.0000\n",
            "Epoch 157/200\n",
            "47/47 [==============================] - 0s 314us/step - loss: 0.0221 - accuracy: 1.0000\n",
            "Epoch 158/200\n",
            "47/47 [==============================] - 0s 382us/step - loss: 0.0154 - accuracy: 1.0000\n",
            "Epoch 159/200\n",
            "47/47 [==============================] - 0s 314us/step - loss: 0.0215 - accuracy: 1.0000\n",
            "Epoch 160/200\n",
            "47/47 [==============================] - 0s 339us/step - loss: 0.0071 - accuracy: 1.0000\n",
            "Epoch 161/200\n",
            "47/47 [==============================] - 0s 342us/step - loss: 0.0028 - accuracy: 1.0000\n",
            "Epoch 162/200\n",
            "47/47 [==============================] - 0s 311us/step - loss: 0.0077 - accuracy: 1.0000\n",
            "Epoch 163/200\n",
            "47/47 [==============================] - 0s 325us/step - loss: 0.0210 - accuracy: 1.0000\n",
            "Epoch 164/200\n",
            "47/47 [==============================] - 0s 324us/step - loss: 0.0047 - accuracy: 1.0000\n",
            "Epoch 165/200\n",
            "47/47 [==============================] - 0s 317us/step - loss: 0.1045 - accuracy: 0.9574\n",
            "Epoch 166/200\n",
            "47/47 [==============================] - 0s 314us/step - loss: 0.0292 - accuracy: 0.9787\n",
            "Epoch 167/200\n",
            "47/47 [==============================] - 0s 321us/step - loss: 0.0241 - accuracy: 1.0000\n",
            "Epoch 168/200\n",
            "47/47 [==============================] - 0s 323us/step - loss: 0.0087 - accuracy: 1.0000\n",
            "Epoch 169/200\n",
            "47/47 [==============================] - 0s 422us/step - loss: 0.0380 - accuracy: 1.0000\n",
            "Epoch 170/200\n",
            "47/47 [==============================] - 0s 320us/step - loss: 0.0339 - accuracy: 1.0000\n",
            "Epoch 171/200\n",
            "47/47 [==============================] - 0s 381us/step - loss: 0.0265 - accuracy: 1.0000\n",
            "Epoch 172/200\n",
            "47/47 [==============================] - 0s 318us/step - loss: 0.0115 - accuracy: 1.0000\n",
            "Epoch 173/200\n",
            "47/47 [==============================] - 0s 315us/step - loss: 0.0220 - accuracy: 1.0000\n",
            "Epoch 174/200\n",
            "47/47 [==============================] - 0s 363us/step - loss: 0.0171 - accuracy: 1.0000\n",
            "Epoch 175/200\n",
            "47/47 [==============================] - 0s 377us/step - loss: 0.0132 - accuracy: 1.0000\n",
            "Epoch 176/200\n",
            "47/47 [==============================] - 0s 383us/step - loss: 0.0701 - accuracy: 0.9574\n",
            "Epoch 177/200\n",
            "47/47 [==============================] - 0s 434us/step - loss: 0.0304 - accuracy: 1.0000\n",
            "Epoch 178/200\n",
            "47/47 [==============================] - 0s 353us/step - loss: 0.0232 - accuracy: 1.0000\n",
            "Epoch 179/200\n",
            "47/47 [==============================] - 0s 337us/step - loss: 0.0106 - accuracy: 1.0000\n",
            "Epoch 180/200\n",
            "47/47 [==============================] - 0s 460us/step - loss: 0.0214 - accuracy: 1.0000\n",
            "Epoch 181/200\n",
            "47/47 [==============================] - 0s 410us/step - loss: 0.0293 - accuracy: 1.0000\n",
            "Epoch 182/200\n",
            "47/47 [==============================] - 0s 391us/step - loss: 0.0515 - accuracy: 0.9787\n",
            "Epoch 183/200\n",
            "47/47 [==============================] - 0s 319us/step - loss: 0.0073 - accuracy: 1.0000\n",
            "Epoch 184/200\n",
            "47/47 [==============================] - 0s 350us/step - loss: 0.0037 - accuracy: 1.0000\n",
            "Epoch 185/200\n",
            "47/47 [==============================] - 0s 453us/step - loss: 0.0224 - accuracy: 1.0000\n",
            "Epoch 186/200\n",
            "47/47 [==============================] - 0s 405us/step - loss: 0.0128 - accuracy: 1.0000\n",
            "Epoch 187/200\n",
            "47/47 [==============================] - 0s 482us/step - loss: 0.0296 - accuracy: 0.9787\n",
            "Epoch 188/200\n",
            "47/47 [==============================] - 0s 353us/step - loss: 0.0034 - accuracy: 1.0000\n",
            "Epoch 189/200\n",
            "47/47 [==============================] - 0s 373us/step - loss: 0.0261 - accuracy: 1.0000\n",
            "Epoch 190/200\n",
            "47/47 [==============================] - 0s 399us/step - loss: 0.0372 - accuracy: 0.9787\n",
            "Epoch 191/200\n",
            "47/47 [==============================] - 0s 338us/step - loss: 0.0037 - accuracy: 1.0000\n",
            "Epoch 192/200\n",
            "47/47 [==============================] - 0s 341us/step - loss: 0.0296 - accuracy: 0.9787\n",
            "Epoch 193/200\n",
            "47/47 [==============================] - 0s 308us/step - loss: 0.0053 - accuracy: 1.0000\n",
            "Epoch 194/200\n",
            "47/47 [==============================] - 0s 336us/step - loss: 0.0149 - accuracy: 1.0000\n",
            "Epoch 195/200\n",
            "47/47 [==============================] - 0s 303us/step - loss: 0.0159 - accuracy: 1.0000\n",
            "Epoch 196/200\n",
            "47/47 [==============================] - 0s 298us/step - loss: 0.0287 - accuracy: 1.0000\n",
            "Epoch 197/200\n",
            "47/47 [==============================] - 0s 335us/step - loss: 0.0169 - accuracy: 1.0000\n",
            "Epoch 198/200\n",
            "47/47 [==============================] - 0s 400us/step - loss: 0.0227 - accuracy: 0.9787\n",
            "Epoch 199/200\n",
            "47/47 [==============================] - 0s 325us/step - loss: 0.0076 - accuracy: 1.0000\n",
            "Epoch 200/200\n",
            "47/47 [==============================] - 0s 304us/step - loss: 0.0420 - accuracy: 1.0000\n"
          ],
          "name": "stdout"
        }
      ]
    },
    {
      "cell_type": "markdown",
      "metadata": {
        "id": "Egsr3TwJuogv",
        "colab_type": "text"
      },
      "source": [
        "<h3>Interacting With the Chatbot</h3>"
      ]
    },
    {
      "cell_type": "code",
      "metadata": {
        "id": "f_m4NqkUukzH",
        "colab_type": "code",
        "colab": {}
      },
      "source": [
        "import nltk\n",
        "from nltk.stem import WordNetLemmatizer\n",
        "lemmatizer = WordNetLemmatizer()\n",
        "import pickle\n",
        "import numpy as np\n",
        "\n",
        "from keras.models import load_model\n",
        "model = load_model('chatbot_model.h5')\n",
        "import json\n",
        "import random\n",
        "intents = json.loads(open('intents.json').read())\n",
        "words = pickle.load(open('words.pkl','rb'))\n",
        "classes = pickle.load(open('classes.pkl','rb'))\n",
        "\n",
        "\n",
        "def clean_up_sentence(sentence):\n",
        "    # tokenize the pattern - splitting words into array\n",
        "    sentence_words = nltk.word_tokenize(sentence)\n",
        "    # stemming every word - reducing to base form\n",
        "    sentence_words = [lemmatizer.lemmatize(word.lower()) for word in sentence_words]\n",
        "    return sentence_words\n",
        "\n",
        "\n",
        "# return bag of words array: 0 or 1 for words that exist in sentence\n",
        "def bag_of_words(sentence, words, show_details=True):\n",
        "    # tokenizing patterns\n",
        "    sentence_words = clean_up_sentence(sentence)\n",
        "    # bag of words - vocabulary matrix\n",
        "    bag = [0]*len(words)  \n",
        "    for s in sentence_words:\n",
        "        for i,word in enumerate(words):\n",
        "            if word == s: \n",
        "                # assign 1 if current word is in the vocabulary position\n",
        "                bag[i] = 1\n",
        "                if show_details:\n",
        "                    print (\"found in bag: %s\" % word)\n",
        "    return(np.array(bag))\n",
        "\n",
        "def predict_class(sentence):\n",
        "    # filter below  threshold predictions\n",
        "    p = bag_of_words(sentence, words,show_details=False)\n",
        "    res = model.predict(np.array([p]))[0]\n",
        "    ERROR_THRESHOLD = 0.25\n",
        "    results = [[i,r] for i,r in enumerate(res) if r>ERROR_THRESHOLD]\n",
        "    # sorting strength probability\n",
        "    results.sort(key=lambda x: x[1], reverse=True)\n",
        "    return_list = []\n",
        "    for r in results:\n",
        "        return_list.append({\"intent\": classes[r[0]], \"probability\": str(r[1])})\n",
        "    return return_list\n",
        "\n",
        "def getResponse(ints, intents_json):\n",
        "    tag = ints[0]['intent']\n",
        "    list_of_intents = intents_json['intents']\n",
        "    for i in list_of_intents:\n",
        "        if(i['tag']== tag):\n",
        "            result = random.choice(i['responses'])\n",
        "            break\n",
        "    return result"
      ],
      "execution_count": 0,
      "outputs": []
    },
    {
      "cell_type": "code",
      "metadata": {
        "id": "zYi7w8vNwPgu",
        "colab_type": "code",
        "colab": {
          "base_uri": "https://localhost:8080/",
          "height": 35
        },
        "outputId": "d8b08c78-7706-4a3b-9d15-a890099d8451"
      },
      "source": [
        "msg=\"Hello\"\n",
        "ints = predict_class(msg)\n",
        "res = getResponse(ints, intents)\n",
        "res"
      ],
      "execution_count": 41,
      "outputs": [
        {
          "output_type": "execute_result",
          "data": {
            "text/plain": [
              "'Hello, thanks for asking'"
            ]
          },
          "metadata": {
            "tags": []
          },
          "execution_count": 41
        }
      ]
    },
    {
      "cell_type": "code",
      "metadata": {
        "id": "D196dbZdwn4Q",
        "colab_type": "code",
        "colab": {}
      },
      "source": [
        ""
      ],
      "execution_count": 0,
      "outputs": []
    }
  ]
}