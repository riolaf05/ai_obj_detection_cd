{
  "nbformat": 4,
  "nbformat_minor": 0,
  "metadata": {
    "colab": {
      "name": "yolo_retrain.ipynb",
      "provenance": [],
      "collapsed_sections": []
    },
    "kernelspec": {
      "name": "python3",
      "display_name": "Python 3"
    }
  },
  "cells": [
    {
      "cell_type": "markdown",
      "metadata": {
        "id": "q7YmjCxO0iSz",
        "colab_type": "text"
      },
      "source": [
        "Reference: https://towardsdatascience.com/implementing-yolo-on-a-custom-dataset-20101473ce53"
      ]
    },
    {
      "cell_type": "code",
      "metadata": {
        "id": "VWB53TfVAo0h",
        "colab_type": "code",
        "colab": {
          "base_uri": "https://localhost:8080/",
          "height": 800
        },
        "outputId": "19d5c199-fc3f-4908-d093-400147dbb1fb"
      },
      "source": [
        "!pip3 install tensorflow==1.14.0"
      ],
      "execution_count": 7,
      "outputs": [
        {
          "output_type": "stream",
          "text": [
            "Collecting tensorflow==1.14.0\n",
            "\u001b[?25l  Downloading https://files.pythonhosted.org/packages/de/f0/96fb2e0412ae9692dbf400e5b04432885f677ad6241c088ccc5fe7724d69/tensorflow-1.14.0-cp36-cp36m-manylinux1_x86_64.whl (109.2MB)\n",
            "\u001b[K     |████████████████████████████████| 109.2MB 66kB/s \n",
            "\u001b[?25hRequirement already satisfied: wrapt>=1.11.1 in /usr/local/lib/python3.6/dist-packages (from tensorflow==1.14.0) (1.12.1)\n",
            "Requirement already satisfied: wheel>=0.26 in /usr/local/lib/python3.6/dist-packages (from tensorflow==1.14.0) (0.34.2)\n",
            "Requirement already satisfied: keras-preprocessing>=1.0.5 in /usr/local/lib/python3.6/dist-packages (from tensorflow==1.14.0) (1.1.2)\n",
            "Collecting tensorboard<1.15.0,>=1.14.0\n",
            "\u001b[?25l  Downloading https://files.pythonhosted.org/packages/91/2d/2ed263449a078cd9c8a9ba50ebd50123adf1f8cfbea1492f9084169b89d9/tensorboard-1.14.0-py3-none-any.whl (3.1MB)\n",
            "\u001b[K     |████████████████████████████████| 3.2MB 24.7MB/s \n",
            "\u001b[?25hRequirement already satisfied: astor>=0.6.0 in /usr/local/lib/python3.6/dist-packages (from tensorflow==1.14.0) (0.8.1)\n",
            "Requirement already satisfied: gast>=0.2.0 in /usr/local/lib/python3.6/dist-packages (from tensorflow==1.14.0) (0.3.3)\n",
            "Requirement already satisfied: google-pasta>=0.1.6 in /usr/local/lib/python3.6/dist-packages (from tensorflow==1.14.0) (0.2.0)\n",
            "Collecting tensorflow-estimator<1.15.0rc0,>=1.14.0rc0\n",
            "\u001b[?25l  Downloading https://files.pythonhosted.org/packages/3c/d5/21860a5b11caf0678fbc8319341b0ae21a07156911132e0e71bffed0510d/tensorflow_estimator-1.14.0-py2.py3-none-any.whl (488kB)\n",
            "\u001b[K     |████████████████████████████████| 491kB 31.7MB/s \n",
            "\u001b[?25hRequirement already satisfied: six>=1.10.0 in /usr/local/lib/python3.6/dist-packages (from tensorflow==1.14.0) (1.12.0)\n",
            "Requirement already satisfied: termcolor>=1.1.0 in /usr/local/lib/python3.6/dist-packages (from tensorflow==1.14.0) (1.1.0)\n",
            "Requirement already satisfied: grpcio>=1.8.6 in /usr/local/lib/python3.6/dist-packages (from tensorflow==1.14.0) (1.29.0)\n",
            "Requirement already satisfied: absl-py>=0.7.0 in /usr/local/lib/python3.6/dist-packages (from tensorflow==1.14.0) (0.9.0)\n",
            "Requirement already satisfied: protobuf>=3.6.1 in /usr/local/lib/python3.6/dist-packages (from tensorflow==1.14.0) (3.10.0)\n",
            "Requirement already satisfied: numpy<2.0,>=1.14.5 in /usr/local/lib/python3.6/dist-packages (from tensorflow==1.14.0) (1.18.5)\n",
            "Requirement already satisfied: keras-applications>=1.0.6 in /usr/local/lib/python3.6/dist-packages (from tensorflow==1.14.0) (1.0.8)\n",
            "Requirement already satisfied: werkzeug>=0.11.15 in /usr/local/lib/python3.6/dist-packages (from tensorboard<1.15.0,>=1.14.0->tensorflow==1.14.0) (1.0.1)\n",
            "Requirement already satisfied: markdown>=2.6.8 in /usr/local/lib/python3.6/dist-packages (from tensorboard<1.15.0,>=1.14.0->tensorflow==1.14.0) (3.2.2)\n",
            "Requirement already satisfied: setuptools>=41.0.0 in /usr/local/lib/python3.6/dist-packages (from tensorboard<1.15.0,>=1.14.0->tensorflow==1.14.0) (47.1.1)\n",
            "Requirement already satisfied: h5py in /usr/local/lib/python3.6/dist-packages (from keras-applications>=1.0.6->tensorflow==1.14.0) (2.10.0)\n",
            "Requirement already satisfied: importlib-metadata; python_version < \"3.8\" in /usr/local/lib/python3.6/dist-packages (from markdown>=2.6.8->tensorboard<1.15.0,>=1.14.0->tensorflow==1.14.0) (1.6.1)\n",
            "Requirement already satisfied: zipp>=0.5 in /usr/local/lib/python3.6/dist-packages (from importlib-metadata; python_version < \"3.8\"->markdown>=2.6.8->tensorboard<1.15.0,>=1.14.0->tensorflow==1.14.0) (3.1.0)\n",
            "Installing collected packages: tensorboard, tensorflow-estimator, tensorflow\n",
            "  Found existing installation: tensorboard 2.2.2\n",
            "    Uninstalling tensorboard-2.2.2:\n",
            "      Successfully uninstalled tensorboard-2.2.2\n",
            "  Found existing installation: tensorflow-estimator 2.2.0\n",
            "    Uninstalling tensorflow-estimator-2.2.0:\n",
            "      Successfully uninstalled tensorflow-estimator-2.2.0\n",
            "  Found existing installation: tensorflow 2.2.0\n",
            "    Uninstalling tensorflow-2.2.0:\n",
            "      Successfully uninstalled tensorflow-2.2.0\n",
            "Successfully installed tensorboard-1.14.0 tensorflow-1.14.0 tensorflow-estimator-1.14.0\n"
          ],
          "name": "stdout"
        },
        {
          "output_type": "display_data",
          "data": {
            "application/vnd.colab-display-data+json": {
              "pip_warning": {
                "packages": [
                  "tensorboard",
                  "tensorflow"
                ]
              }
            }
          },
          "metadata": {
            "tags": []
          }
        }
      ]
    },
    {
      "cell_type": "code",
      "metadata": {
        "id": "Qr23f-HDzIBm",
        "colab_type": "code",
        "colab": {
          "base_uri": "https://localhost:8080/",
          "height": 104
        },
        "outputId": "e6e31691-c7ed-4262-9f61-58dccedb3d74"
      },
      "source": [
        "!git clone https://github.com/thtrieu/darkflow"
      ],
      "execution_count": 1,
      "outputs": [
        {
          "output_type": "stream",
          "text": [
            "Cloning into 'darkflow'...\n",
            "remote: Enumerating objects: 2713, done.\u001b[K\n",
            "remote: Total 2713 (delta 0), reused 0 (delta 0), pack-reused 2713\u001b[K\n",
            "Receiving objects: 100% (2713/2713), 32.98 MiB | 9.68 MiB/s, done.\n",
            "Resolving deltas: 100% (1762/1762), done.\n"
          ],
          "name": "stdout"
        }
      ]
    },
    {
      "cell_type": "code",
      "metadata": {
        "id": "pochNU_ll8ct",
        "colab_type": "code",
        "colab": {
          "base_uri": "https://localhost:8080/",
          "height": 208
        },
        "outputId": "166d4cb5-e402-410b-ecc6-58efeeced7ad"
      },
      "source": [
        "!wget https://pjreddie.com/media/files/yolov2-tiny.weights -O /content/yolov2-tiny.weights"
      ],
      "execution_count": 113,
      "outputs": [
        {
          "output_type": "stream",
          "text": [
            "--2020-06-18 14:01:18--  https://pjreddie.com/media/files/yolov2-tiny.weights\n",
            "Resolving pjreddie.com (pjreddie.com)... 128.208.4.108\n",
            "Connecting to pjreddie.com (pjreddie.com)|128.208.4.108|:443... connected.\n",
            "HTTP request sent, awaiting response... 200 OK\n",
            "Length: 44948600 (43M) [application/octet-stream]\n",
            "Saving to: ‘/content/yolov2-tiny.weights’\n",
            "\n",
            "/content/yolov2-tin 100%[===================>]  42.87M   152KB/s    in 4m 13s  \n",
            "\n",
            "2020-06-18 14:05:34 (173 KB/s) - ‘/content/yolov2-tiny.weights’ saved [44948600/44948600]\n",
            "\n"
          ],
          "name": "stdout"
        }
      ]
    },
    {
      "cell_type": "code",
      "metadata": {
        "id": "wOsCnJwDmMEW",
        "colab_type": "code",
        "colab": {
          "base_uri": "https://localhost:8080/",
          "height": 208
        },
        "outputId": "8ea2229f-9a66-44be-c3e3-8de459dfc543"
      },
      "source": [
        "!wget https://raw.githubusercontent.com/pjreddie/darknet/master/cfg/yolov2-tiny.cfg -O /content/yolov2-tiny.cfg"
      ],
      "execution_count": 116,
      "outputs": [
        {
          "output_type": "stream",
          "text": [
            "--2020-06-18 14:07:50--  https://raw.githubusercontent.com/pjreddie/darknet/master/cfg/yolov2-tiny.cfg\n",
            "Resolving raw.githubusercontent.com (raw.githubusercontent.com)... 151.101.0.133, 151.101.64.133, 151.101.128.133, ...\n",
            "Connecting to raw.githubusercontent.com (raw.githubusercontent.com)|151.101.0.133|:443... connected.\n",
            "HTTP request sent, awaiting response... 200 OK\n",
            "Length: 1488 (1.5K) [text/plain]\n",
            "Saving to: ‘/content/yolov2-tiny.cfg’\n",
            "\n",
            "\r/content/yolov2-tin   0%[                    ]       0  --.-KB/s               \r/content/yolov2-tin 100%[===================>]   1.45K  --.-KB/s    in 0s      \n",
            "\n",
            "2020-06-18 14:07:50 (19.0 MB/s) - ‘/content/yolov2-tiny.cfg’ saved [1488/1488]\n",
            "\n"
          ],
          "name": "stdout"
        }
      ]
    },
    {
      "cell_type": "code",
      "metadata": {
        "id": "B4DkeKjizvvb",
        "colab_type": "code",
        "colab": {
          "base_uri": "https://localhost:8080/",
          "height": 332
        },
        "outputId": "dbd23601-382c-4b07-8f17-9823e8728d7e"
      },
      "source": [
        "%cd /content/darkflow\n",
        "!pip3 install ."
      ],
      "execution_count": 2,
      "outputs": [
        {
          "output_type": "stream",
          "text": [
            "/content/darkflow\n",
            "Processing /content/darkflow\n",
            "Building wheels for collected packages: darkflow\n",
            "  Building wheel for darkflow (setup.py) ... \u001b[?25l\u001b[?25hdone\n",
            "  Created wheel for darkflow: filename=darkflow-1.0.0-cp36-cp36m-linux_x86_64.whl size=816542 sha256=8b7bf9d08e0bb1ef542ede304eefde61cde2993cded024497d48453e378607ce\n",
            "  Stored in directory: /tmp/pip-ephem-wheel-cache-a27732vp/wheels/2f/3a/c5/e84e79d73d5a73aa1b5129a66a40947d9d77a32ebed501e431\n",
            "Successfully built darkflow\n",
            "Installing collected packages: darkflow\n",
            "  Found existing installation: darkflow 1.0.0\n",
            "    Uninstalling darkflow-1.0.0:\n",
            "      Successfully uninstalled darkflow-1.0.0\n",
            "Successfully installed darkflow-1.0.0\n"
          ],
          "name": "stdout"
        },
        {
          "output_type": "display_data",
          "data": {
            "application/vnd.colab-display-data+json": {
              "pip_warning": {
                "packages": [
                  "darkflow"
                ]
              }
            }
          },
          "metadata": {
            "tags": []
          }
        }
      ]
    },
    {
      "cell_type": "code",
      "metadata": {
        "id": "cEWfWBf6HY4p",
        "colab_type": "code",
        "colab": {
          "base_uri": "https://localhost:8080/",
          "height": 263
        },
        "outputId": "479d4f56-3147-4628-f6d8-10be9075c857"
      },
      "source": [
        "!pip3 install tflearn --upgrade"
      ],
      "execution_count": 1,
      "outputs": [
        {
          "output_type": "stream",
          "text": [
            "Collecting tflearn\n",
            "\u001b[?25l  Downloading https://files.pythonhosted.org/packages/16/ec/e9ce1b52e71f6dff3bd944f020cef7140779e783ab27512ea7c7275ddee5/tflearn-0.3.2.tar.gz (98kB)\n",
            "\r\u001b[K     |███▎                            | 10kB 15.8MB/s eta 0:00:01\r\u001b[K     |██████▋                         | 20kB 1.6MB/s eta 0:00:01\r\u001b[K     |██████████                      | 30kB 2.2MB/s eta 0:00:01\r\u001b[K     |█████████████▎                  | 40kB 2.4MB/s eta 0:00:01\r\u001b[K     |████████████████▋               | 51kB 1.9MB/s eta 0:00:01\r\u001b[K     |████████████████████            | 61kB 2.1MB/s eta 0:00:01\r\u001b[K     |███████████████████████▎        | 71kB 2.3MB/s eta 0:00:01\r\u001b[K     |██████████████████████████▋     | 81kB 2.5MB/s eta 0:00:01\r\u001b[K     |██████████████████████████████  | 92kB 2.7MB/s eta 0:00:01\r\u001b[K     |████████████████████████████████| 102kB 2.1MB/s \n",
            "\u001b[?25hRequirement already satisfied, skipping upgrade: numpy in /usr/local/lib/python3.6/dist-packages (from tflearn) (1.18.5)\n",
            "Requirement already satisfied, skipping upgrade: six in /usr/local/lib/python3.6/dist-packages (from tflearn) (1.12.0)\n",
            "Requirement already satisfied, skipping upgrade: Pillow in /usr/local/lib/python3.6/dist-packages (from tflearn) (7.0.0)\n",
            "Building wheels for collected packages: tflearn\n",
            "  Building wheel for tflearn (setup.py) ... \u001b[?25l\u001b[?25hdone\n",
            "  Created wheel for tflearn: filename=tflearn-0.3.2-cp36-none-any.whl size=128208 sha256=7a08302c89c1eb47c87855316d445fabdad72eeed60216ac2777fd9e81b7a944\n",
            "  Stored in directory: /root/.cache/pip/wheels/d0/f6/69/0ef3ee395aac2e5d15d89efd29a9a216f3c27767b43b72c006\n",
            "Successfully built tflearn\n",
            "Installing collected packages: tflearn\n",
            "Successfully installed tflearn-0.3.2\n"
          ],
          "name": "stdout"
        }
      ]
    },
    {
      "cell_type": "code",
      "metadata": {
        "id": "s5VNXSyc0ETa",
        "colab_type": "code",
        "colab": {
          "base_uri": "https://localhost:8080/",
          "height": 627
        },
        "outputId": "4689cc13-2ead-4feb-be24-e1e784f153a0"
      },
      "source": [
        "import cv2\n",
        "from darkflow.net.build import TFNet\n",
        "import matplotlib.pyplot as plt"
      ],
      "execution_count": 1,
      "outputs": [
        {
          "output_type": "stream",
          "text": [
            "/usr/local/lib/python3.6/dist-packages/tensorflow/python/framework/dtypes.py:516: FutureWarning: Passing (type, 1) or '1type' as a synonym of type is deprecated; in a future version of numpy, it will be understood as (type, (1,)) / '(1,)type'.\n",
            "  _np_qint8 = np.dtype([(\"qint8\", np.int8, 1)])\n",
            "/usr/local/lib/python3.6/dist-packages/tensorflow/python/framework/dtypes.py:517: FutureWarning: Passing (type, 1) or '1type' as a synonym of type is deprecated; in a future version of numpy, it will be understood as (type, (1,)) / '(1,)type'.\n",
            "  _np_quint8 = np.dtype([(\"quint8\", np.uint8, 1)])\n",
            "/usr/local/lib/python3.6/dist-packages/tensorflow/python/framework/dtypes.py:518: FutureWarning: Passing (type, 1) or '1type' as a synonym of type is deprecated; in a future version of numpy, it will be understood as (type, (1,)) / '(1,)type'.\n",
            "  _np_qint16 = np.dtype([(\"qint16\", np.int16, 1)])\n",
            "/usr/local/lib/python3.6/dist-packages/tensorflow/python/framework/dtypes.py:519: FutureWarning: Passing (type, 1) or '1type' as a synonym of type is deprecated; in a future version of numpy, it will be understood as (type, (1,)) / '(1,)type'.\n",
            "  _np_quint16 = np.dtype([(\"quint16\", np.uint16, 1)])\n",
            "/usr/local/lib/python3.6/dist-packages/tensorflow/python/framework/dtypes.py:520: FutureWarning: Passing (type, 1) or '1type' as a synonym of type is deprecated; in a future version of numpy, it will be understood as (type, (1,)) / '(1,)type'.\n",
            "  _np_qint32 = np.dtype([(\"qint32\", np.int32, 1)])\n",
            "/usr/local/lib/python3.6/dist-packages/tensorflow/python/framework/dtypes.py:525: FutureWarning: Passing (type, 1) or '1type' as a synonym of type is deprecated; in a future version of numpy, it will be understood as (type, (1,)) / '(1,)type'.\n",
            "  np_resource = np.dtype([(\"resource\", np.ubyte, 1)])\n",
            "/usr/local/lib/python3.6/dist-packages/tensorboard/compat/tensorflow_stub/dtypes.py:541: FutureWarning: Passing (type, 1) or '1type' as a synonym of type is deprecated; in a future version of numpy, it will be understood as (type, (1,)) / '(1,)type'.\n",
            "  _np_qint8 = np.dtype([(\"qint8\", np.int8, 1)])\n",
            "/usr/local/lib/python3.6/dist-packages/tensorboard/compat/tensorflow_stub/dtypes.py:542: FutureWarning: Passing (type, 1) or '1type' as a synonym of type is deprecated; in a future version of numpy, it will be understood as (type, (1,)) / '(1,)type'.\n",
            "  _np_quint8 = np.dtype([(\"quint8\", np.uint8, 1)])\n",
            "/usr/local/lib/python3.6/dist-packages/tensorboard/compat/tensorflow_stub/dtypes.py:543: FutureWarning: Passing (type, 1) or '1type' as a synonym of type is deprecated; in a future version of numpy, it will be understood as (type, (1,)) / '(1,)type'.\n",
            "  _np_qint16 = np.dtype([(\"qint16\", np.int16, 1)])\n",
            "/usr/local/lib/python3.6/dist-packages/tensorboard/compat/tensorflow_stub/dtypes.py:544: FutureWarning: Passing (type, 1) or '1type' as a synonym of type is deprecated; in a future version of numpy, it will be understood as (type, (1,)) / '(1,)type'.\n",
            "  _np_quint16 = np.dtype([(\"quint16\", np.uint16, 1)])\n",
            "/usr/local/lib/python3.6/dist-packages/tensorboard/compat/tensorflow_stub/dtypes.py:545: FutureWarning: Passing (type, 1) or '1type' as a synonym of type is deprecated; in a future version of numpy, it will be understood as (type, (1,)) / '(1,)type'.\n",
            "  _np_qint32 = np.dtype([(\"qint32\", np.int32, 1)])\n",
            "/usr/local/lib/python3.6/dist-packages/tensorboard/compat/tensorflow_stub/dtypes.py:550: FutureWarning: Passing (type, 1) or '1type' as a synonym of type is deprecated; in a future version of numpy, it will be understood as (type, (1,)) / '(1,)type'.\n",
            "  np_resource = np.dtype([(\"resource\", np.ubyte, 1)])\n"
          ],
          "name": "stderr"
        },
        {
          "output_type": "stream",
          "text": [
            "WARNING:tensorflow:From /usr/local/lib/python3.6/dist-packages/darkflow/net/build.py:15: The name tf.train.RMSPropOptimizer is deprecated. Please use tf.compat.v1.train.RMSPropOptimizer instead.\n",
            "\n",
            "WARNING:tensorflow:From /usr/local/lib/python3.6/dist-packages/darkflow/net/build.py:16: The name tf.train.AdadeltaOptimizer is deprecated. Please use tf.compat.v1.train.AdadeltaOptimizer instead.\n",
            "\n",
            "WARNING:tensorflow:From /usr/local/lib/python3.6/dist-packages/darkflow/net/build.py:17: The name tf.train.AdagradOptimizer is deprecated. Please use tf.compat.v1.train.AdagradOptimizer instead.\n",
            "\n",
            "WARNING:tensorflow:From /usr/local/lib/python3.6/dist-packages/darkflow/net/build.py:18: The name tf.train.AdagradDAOptimizer is deprecated. Please use tf.compat.v1.train.AdagradDAOptimizer instead.\n",
            "\n",
            "WARNING:tensorflow:From /usr/local/lib/python3.6/dist-packages/darkflow/net/build.py:19: The name tf.train.MomentumOptimizer is deprecated. Please use tf.compat.v1.train.MomentumOptimizer instead.\n",
            "\n"
          ],
          "name": "stdout"
        }
      ]
    },
    {
      "cell_type": "code",
      "metadata": {
        "id": "a15LtFTrAeFo",
        "colab_type": "code",
        "colab": {
          "base_uri": "https://localhost:8080/",
          "height": 35
        },
        "outputId": "3d36a9ef-cf87-46d1-8cf0-e8eddeb614a6"
      },
      "source": [
        "%cd /content/darkflow"
      ],
      "execution_count": 4,
      "outputs": [
        {
          "output_type": "stream",
          "text": [
            "/content/darkflow\n"
          ],
          "name": "stdout"
        }
      ]
    },
    {
      "cell_type": "code",
      "metadata": {
        "id": "E7vc6y7EIbAQ",
        "colab_type": "code",
        "colab": {
          "base_uri": "https://localhost:8080/",
          "height": 35
        },
        "outputId": "c3118108-dad7-4cb8-f42b-805ef04040e4"
      },
      "source": [
        "!ls /content"
      ],
      "execution_count": 9,
      "outputs": [
        {
          "output_type": "stream",
          "text": [
            "darkflow  sample_data  yolov2.cfg  yolov2.cfg.1  yolov2.weights\n"
          ],
          "name": "stdout"
        }
      ]
    },
    {
      "cell_type": "code",
      "metadata": {
        "id": "sUjGxWL4IUdp",
        "colab_type": "code",
        "colab": {
          "base_uri": "https://localhost:8080/",
          "height": 450
        },
        "outputId": "c71defc7-9b1f-46e2-d436-4fe00886c2e3"
      },
      "source": [
        "options = {\n",
        " 'model': '/content/yolov2-tiny.cfg',\n",
        " 'load': '/content/yolov2-tiny.weights',\n",
        " 'threshold': 0.3\n",
        "}\n",
        "tfnet = TFNet(options)"
      ],
      "execution_count": 80,
      "outputs": [
        {
          "output_type": "stream",
          "text": [
            "Parsing /content/yolov2.cfg\n",
            "Loading /content/yolov2.weights ...\n",
            "Successfully identified 203934260 bytes\n",
            "Finished in 0.016008853912353516s\n"
          ],
          "name": "stdout"
        },
        {
          "output_type": "stream",
          "text": [
            "/usr/local/lib/python3.6/dist-packages/darkflow/dark/darknet.py:54: UserWarning: ./cfg/yolov2.cfg not found, use /content/yolov2.cfg instead\n",
            "  cfg_path, FLAGS.model))\n"
          ],
          "name": "stderr"
        },
        {
          "output_type": "error",
          "ename": "AssertionError",
          "evalue": "ignored",
          "traceback": [
            "\u001b[0;31m---------------------------------------------------------------------------\u001b[0m",
            "\u001b[0;31mAssertionError\u001b[0m                            Traceback (most recent call last)",
            "\u001b[0;32m<ipython-input-80-f49c9288366e>\u001b[0m in \u001b[0;36m<module>\u001b[0;34m()\u001b[0m\n\u001b[1;32m      4\u001b[0m  \u001b[0;34m'threshold'\u001b[0m\u001b[0;34m:\u001b[0m \u001b[0;36m0.3\u001b[0m\u001b[0;34m\u001b[0m\u001b[0;34m\u001b[0m\u001b[0m\n\u001b[1;32m      5\u001b[0m }\n\u001b[0;32m----> 6\u001b[0;31m \u001b[0mtfnet\u001b[0m \u001b[0;34m=\u001b[0m \u001b[0mTFNet\u001b[0m\u001b[0;34m(\u001b[0m\u001b[0moptions\u001b[0m\u001b[0;34m)\u001b[0m\u001b[0;34m\u001b[0m\u001b[0;34m\u001b[0m\u001b[0m\n\u001b[0m",
            "\u001b[0;32m/usr/local/lib/python3.6/dist-packages/darkflow/net/build.py\u001b[0m in \u001b[0;36m__init__\u001b[0;34m(self, FLAGS, darknet)\u001b[0m\n\u001b[1;32m     62\u001b[0m                 \u001b[0margs\u001b[0m \u001b[0;34m=\u001b[0m \u001b[0;34m[\u001b[0m\u001b[0mdarknet\u001b[0m\u001b[0;34m.\u001b[0m\u001b[0mmeta\u001b[0m\u001b[0;34m,\u001b[0m \u001b[0mFLAGS\u001b[0m\u001b[0;34m]\u001b[0m\u001b[0;34m\u001b[0m\u001b[0;34m\u001b[0m\u001b[0m\n\u001b[1;32m     63\u001b[0m                 \u001b[0mself\u001b[0m\u001b[0;34m.\u001b[0m\u001b[0mnum_layer\u001b[0m \u001b[0;34m=\u001b[0m \u001b[0mlen\u001b[0m\u001b[0;34m(\u001b[0m\u001b[0mdarknet\u001b[0m\u001b[0;34m.\u001b[0m\u001b[0mlayers\u001b[0m\u001b[0;34m)\u001b[0m\u001b[0;34m\u001b[0m\u001b[0;34m\u001b[0m\u001b[0m\n\u001b[0;32m---> 64\u001b[0;31m                 \u001b[0mself\u001b[0m\u001b[0;34m.\u001b[0m\u001b[0mframework\u001b[0m \u001b[0;34m=\u001b[0m \u001b[0mcreate_framework\u001b[0m\u001b[0;34m(\u001b[0m\u001b[0;34m*\u001b[0m\u001b[0margs\u001b[0m\u001b[0;34m)\u001b[0m\u001b[0;34m\u001b[0m\u001b[0;34m\u001b[0m\u001b[0m\n\u001b[0m\u001b[1;32m     65\u001b[0m \u001b[0;34m\u001b[0m\u001b[0m\n\u001b[1;32m     66\u001b[0m                 \u001b[0mself\u001b[0m\u001b[0;34m.\u001b[0m\u001b[0mmeta\u001b[0m \u001b[0;34m=\u001b[0m \u001b[0mdarknet\u001b[0m\u001b[0;34m.\u001b[0m\u001b[0mmeta\u001b[0m\u001b[0;34m\u001b[0m\u001b[0;34m\u001b[0m\u001b[0m\n",
            "\u001b[0;32m/usr/local/lib/python3.6/dist-packages/darkflow/net/framework.py\u001b[0m in \u001b[0;36mcreate_framework\u001b[0;34m(meta, FLAGS)\u001b[0m\n\u001b[1;32m     57\u001b[0m     \u001b[0mnet_type\u001b[0m \u001b[0;34m=\u001b[0m \u001b[0mmeta\u001b[0m\u001b[0;34m[\u001b[0m\u001b[0;34m'type'\u001b[0m\u001b[0;34m]\u001b[0m\u001b[0;34m\u001b[0m\u001b[0;34m\u001b[0m\u001b[0m\n\u001b[1;32m     58\u001b[0m     \u001b[0mthis\u001b[0m \u001b[0;34m=\u001b[0m \u001b[0mtypes\u001b[0m\u001b[0;34m.\u001b[0m\u001b[0mget\u001b[0m\u001b[0;34m(\u001b[0m\u001b[0mnet_type\u001b[0m\u001b[0;34m,\u001b[0m \u001b[0mframework\u001b[0m\u001b[0;34m)\u001b[0m\u001b[0;34m\u001b[0m\u001b[0;34m\u001b[0m\u001b[0m\n\u001b[0;32m---> 59\u001b[0;31m     \u001b[0;32mreturn\u001b[0m \u001b[0mthis\u001b[0m\u001b[0;34m(\u001b[0m\u001b[0mmeta\u001b[0m\u001b[0;34m,\u001b[0m \u001b[0mFLAGS\u001b[0m\u001b[0;34m)\u001b[0m\u001b[0;34m\u001b[0m\u001b[0;34m\u001b[0m\u001b[0m\n\u001b[0m",
            "\u001b[0;32m/usr/local/lib/python3.6/dist-packages/darkflow/net/framework.py\u001b[0m in \u001b[0;36m__init__\u001b[0;34m(self, meta, FLAGS)\u001b[0m\n\u001b[1;32m     13\u001b[0m         \u001b[0mmeta\u001b[0m\u001b[0;34m[\u001b[0m\u001b[0;34m'name'\u001b[0m\u001b[0;34m]\u001b[0m \u001b[0;34m=\u001b[0m \u001b[0mmodel\u001b[0m\u001b[0;34m\u001b[0m\u001b[0;34m\u001b[0m\u001b[0m\n\u001b[1;32m     14\u001b[0m \u001b[0;34m\u001b[0m\u001b[0m\n\u001b[0;32m---> 15\u001b[0;31m         \u001b[0mself\u001b[0m\u001b[0;34m.\u001b[0m\u001b[0mconstructor\u001b[0m\u001b[0;34m(\u001b[0m\u001b[0mmeta\u001b[0m\u001b[0;34m,\u001b[0m \u001b[0mFLAGS\u001b[0m\u001b[0;34m)\u001b[0m\u001b[0;34m\u001b[0m\u001b[0;34m\u001b[0m\u001b[0m\n\u001b[0m\u001b[1;32m     16\u001b[0m \u001b[0;34m\u001b[0m\u001b[0m\n\u001b[1;32m     17\u001b[0m     \u001b[0;32mdef\u001b[0m \u001b[0mis_inp\u001b[0m\u001b[0;34m(\u001b[0m\u001b[0mself\u001b[0m\u001b[0;34m,\u001b[0m \u001b[0mfile_name\u001b[0m\u001b[0;34m)\u001b[0m\u001b[0;34m:\u001b[0m\u001b[0;34m\u001b[0m\u001b[0;34m\u001b[0m\u001b[0m\n",
            "\u001b[0;32m/usr/local/lib/python3.6/dist-packages/darkflow/net/yolo/__init__.py\u001b[0m in \u001b[0;36mconstructor\u001b[0;34m(self, meta, FLAGS)\u001b[0m\n\u001b[1;32m     22\u001b[0m                 \u001b[0;34m'labels.txt and {} indicate'\u001b[0m \u001b[0;34m+\u001b[0m \u001b[0;34m' '\u001b[0m\u001b[0;34m\u001b[0m\u001b[0;34m\u001b[0m\u001b[0m\n\u001b[1;32m     23\u001b[0m                 \u001b[0;34m'inconsistent class numbers'\u001b[0m\u001b[0;34m\u001b[0m\u001b[0;34m\u001b[0m\u001b[0m\n\u001b[0;32m---> 24\u001b[0;31m \t).format(meta['model'])\n\u001b[0m\u001b[1;32m     25\u001b[0m \u001b[0;34m\u001b[0m\u001b[0m\n\u001b[1;32m     26\u001b[0m         \u001b[0;31m# assign a color for each label\u001b[0m\u001b[0;34m\u001b[0m\u001b[0;34m\u001b[0m\u001b[0;34m\u001b[0m\u001b[0m\n",
            "\u001b[0;31mAssertionError\u001b[0m: labels.txt and /content/yolov2.cfg indicate inconsistent class numbers"
          ]
        }
      ]
    },
    {
      "cell_type": "code",
      "metadata": {
        "id": "y43dHQySIFvz",
        "colab_type": "code",
        "colab": {
          "base_uri": "https://localhost:8080/",
          "height": 225
        },
        "outputId": "efe906dd-7ea6-4d35-f806-0b9ddfb25b04"
      },
      "source": [
        "# read the color image and covert to RGB\n",
        "img = cv2.imread('sample_img/sample_dog.jpg', cv2.IMREAD_COLOR)\n",
        "img = cv2.cvtColor(img, cv2.COLOR_BGR2RGB)\n",
        "# use YOLO to predict the image\n",
        "result = tfnet.return_predict(img)\n",
        "result"
      ],
      "execution_count": 12,
      "outputs": [
        {
          "output_type": "execute_result",
          "data": {
            "text/plain": [
              "[{'bottomright': {'x': 551, 'y': 463},\n",
              "  'confidence': 0.8053032,\n",
              "  'label': 'bicycle',\n",
              "  'topleft': {'x': 84, 'y': 115}},\n",
              " {'bottomright': {'x': 698, 'y': 168},\n",
              "  'confidence': 0.8214264,\n",
              "  'label': 'truck',\n",
              "  'topleft': {'x': 461, 'y': 82}},\n",
              " {'bottomright': {'x': 326, 'y': 535},\n",
              "  'confidence': 0.8229169,\n",
              "  'label': 'dog',\n",
              "  'topleft': {'x': 130, 'y': 215}}]"
            ]
          },
          "metadata": {
            "tags": []
          },
          "execution_count": 12
        }
      ]
    },
    {
      "cell_type": "code",
      "metadata": {
        "id": "zQnrTpV9INjL",
        "colab_type": "code",
        "colab": {
          "base_uri": "https://localhost:8080/",
          "height": 269
        },
        "outputId": "b8c2cf4b-a065-42b6-ffc4-dfa7c119cc1e"
      },
      "source": [
        "# pull out some info from the results\n",
        "for i in range(0, len(result)):\n",
        "    tl = (result[i]['topleft']['x'], result[i]['topleft']['y'])\n",
        "    br = (result[i]['bottomright']['x'], result[i]['bottomright']['y'])\n",
        "    label = result[i]['label']\n",
        "# add the box and label and display it\n",
        "    img = cv2.rectangle(img, tl, br, (0, 255, 0), 7)\n",
        "    img = cv2.putText(img, label, tl, cv2.FONT_HERSHEY_COMPLEX, 1, (0, 0, 0), 2)\n",
        "    plt.imshow(img)\n",
        "plt.show()"
      ],
      "execution_count": 13,
      "outputs": [
        {
          "output_type": "display_data",
          "data": {
            "image/png": "[encoded data removed]",
            "text/plain": [
              "<Figure size 432x288 with 1 Axes>"
            ]
          },
          "metadata": {
            "tags": [],
            "needs_background": "light"
          }
        }
      ]
    },
    {
      "cell_type": "markdown",
      "metadata": {
        "id": "EfMca8C28snB",
        "colab_type": "text"
      },
      "source": [
        "<h3>Retrain</h3>"
      ]
    },
    {
      "cell_type": "code",
      "metadata": {
        "id": "mA2O-XI8IqGb",
        "colab_type": "code",
        "colab": {
          "base_uri": "https://localhost:8080/",
          "height": 121
        },
        "outputId": "c66e11eb-ebbc-4917-f752-e26af38e2abc"
      },
      "source": [
        "%cd /content\n",
        "!git clone https://github.com/experiencor/kangaroo"
      ],
      "execution_count": 14,
      "outputs": [
        {
          "output_type": "stream",
          "text": [
            "/content\n",
            "Cloning into 'kangaroo'...\n",
            "remote: Enumerating objects: 334, done.\u001b[K\n",
            "remote: Total 334 (delta 0), reused 0 (delta 0), pack-reused 334\u001b[K\n",
            "Receiving objects: 100% (334/334), 18.39 MiB | 7.76 MiB/s, done.\n",
            "Resolving deltas: 100% (158/158), done.\n"
          ],
          "name": "stdout"
        }
      ]
    },
    {
      "cell_type": "code",
      "metadata": {
        "id": "bYJfim02IxTN",
        "colab_type": "code",
        "colab": {
          "base_uri": "https://localhost:8080/",
          "height": 35
        },
        "outputId": "19fa5925-2af3-4c93-9dc1-a150180ed4f3"
      },
      "source": [
        "!ls /content/kangaroo"
      ],
      "execution_count": 17,
      "outputs": [
        {
          "output_type": "stream",
          "text": [
            "annots\timages\tREADME.md\n"
          ],
          "name": "stdout"
        }
      ]
    },
    {
      "cell_type": "code",
      "metadata": {
        "id": "7izFOog4N7Qe",
        "colab_type": "code",
        "colab": {
          "base_uri": "https://localhost:8080/",
          "height": 87
        },
        "outputId": "7577fa99-76e5-42e7-e65a-db17efcf7775"
      },
      "source": [
        "cat /content/darkflow/labels.txt"
      ],
      "execution_count": 18,
      "outputs": [
        {
          "output_type": "stream",
          "text": [
            "aeroplane\n",
            "bicycle\n",
            "bird\n",
            "boat"
          ],
          "name": "stdout"
        }
      ]
    },
    {
      "cell_type": "code",
      "metadata": {
        "id": "anvJK9JyRIaY",
        "colab_type": "code",
        "colab": {
          "base_uri": "https://localhost:8080/",
          "height": 35
        },
        "outputId": "fc424067-3545-4b1c-a1c6-169ea9dad271"
      },
      "source": [
        "%%writefile /content/labels/labels.txt \n",
        "kangaroo"
      ],
      "execution_count": 8,
      "outputs": [
        {
          "output_type": "stream",
          "text": [
            "Writing /content/labels/labels.txt\n"
          ],
          "name": "stdout"
        }
      ]
    },
    {
      "cell_type": "code",
      "metadata": {
        "id": "IaM6-ecBTl95",
        "colab_type": "code",
        "colab": {}
      },
      "source": [
        "%mv /content/labels/labels.txt /content/darkflow/labels.txt"
      ],
      "execution_count": 9,
      "outputs": []
    },
    {
      "cell_type": "markdown",
      "metadata": {
        "id": "XeCyyx-iTGIU",
        "colab_type": "text"
      },
      "source": [
        "We update the model in the .cfg file. We need to update the number of classes and the filters in the last convolution layer in the ,cfg file.\n",
        "\n",
        "No. of filters= (5 + no. of classes)*5"
      ]
    },
    {
      "cell_type": "code",
      "metadata": {
        "id": "3gX0aFT_TMTW",
        "colab_type": "code",
        "colab": {}
      },
      "source": [
        "%mkdir /content/cfg/"
      ],
      "execution_count": 32,
      "outputs": []
    },
    {
      "cell_type": "code",
      "metadata": {
        "id": "JETbdRolOWgq",
        "colab_type": "code",
        "colab": {
          "base_uri": "https://localhost:8080/",
          "height": 35
        },
        "outputId": "1b891c71-962e-48a3-db14-7fde7857cdec"
      },
      "source": [
        "%%writefile /content/cfg/yolo.cfg \n",
        "[net]\n",
        "# Testing\n",
        "#batch=1\n",
        "#subdivisions=1\n",
        "# Training\n",
        "batch=64\n",
        "subdivisions=2\n",
        "width=416\n",
        "height=416\n",
        "channels=3\n",
        "momentum=0.9\n",
        "decay=0.0005\n",
        "angle=0\n",
        "saturation = 1.5\n",
        "exposure = 1.5\n",
        "hue=.1\n",
        "\n",
        "learning_rate=0.001\n",
        "burn_in=1000\n",
        "max_batches = 500200\n",
        "policy=steps\n",
        "steps=400000,450000\n",
        "scales=.1,.1\n",
        "\n",
        "[convolutional]\n",
        "batch_normalize=1\n",
        "filters=16\n",
        "size=3\n",
        "stride=1\n",
        "pad=1\n",
        "activation=leaky\n",
        "\n",
        "[maxpool]\n",
        "size=2\n",
        "stride=2\n",
        "\n",
        "[convolutional]\n",
        "batch_normalize=1\n",
        "filters=32\n",
        "size=3\n",
        "stride=1\n",
        "pad=1\n",
        "activation=leaky\n",
        "\n",
        "[maxpool]\n",
        "size=2\n",
        "stride=2\n",
        "\n",
        "[convolutional]\n",
        "batch_normalize=1\n",
        "filters=64\n",
        "size=3\n",
        "stride=1\n",
        "pad=1\n",
        "activation=leaky\n",
        "\n",
        "[maxpool]\n",
        "size=2\n",
        "stride=2\n",
        "\n",
        "[convolutional]\n",
        "batch_normalize=1\n",
        "filters=128\n",
        "size=3\n",
        "stride=1\n",
        "pad=1\n",
        "activation=leaky\n",
        "\n",
        "[maxpool]\n",
        "size=2\n",
        "stride=2\n",
        "\n",
        "[convolutional]\n",
        "batch_normalize=1\n",
        "filters=256\n",
        "size=3\n",
        "stride=1\n",
        "pad=1\n",
        "activation=leaky\n",
        "\n",
        "[maxpool]\n",
        "size=2\n",
        "stride=2\n",
        "\n",
        "[convolutional]\n",
        "batch_normalize=1\n",
        "filters=512\n",
        "size=3\n",
        "stride=1\n",
        "pad=1\n",
        "activation=leaky\n",
        "\n",
        "[maxpool]\n",
        "size=2\n",
        "stride=1\n",
        "\n",
        "[convolutional]\n",
        "batch_normalize=1\n",
        "filters=1024\n",
        "size=3\n",
        "stride=1\n",
        "pad=1\n",
        "activation=leaky\n",
        "\n",
        "###########\n",
        "\n",
        "[convolutional]\n",
        "batch_normalize=1\n",
        "size=3\n",
        "stride=1\n",
        "pad=1\n",
        "filters=512\n",
        "activation=leaky\n",
        "\n",
        "[convolutional]\n",
        "size=1\n",
        "stride=1\n",
        "pad=1\n",
        "filters=30\n",
        "activation=linear\n",
        "\n",
        "[region]\n",
        "anchors =  0.57273, 0.677385, 1.87446, 2.06253, 3.33843, 5.47434, 7.88282, 3.52778, 9.77052, 9.16828\n",
        "bias_match=1\n",
        "classes=1\n",
        "coords=4\n",
        "num=5\n",
        "softmax=1\n",
        "jitter=.2\n",
        "rescore=0\n",
        "\n",
        "object_scale=5\n",
        "noobject_scale=1\n",
        "class_scale=1\n",
        "coord_scale=1\n",
        "\n",
        "absolute=1\n",
        "thresh = .6\n",
        "random=1"
      ],
      "execution_count": 17,
      "outputs": [
        {
          "output_type": "stream",
          "text": [
            "Writing /content/cfg/yolo.cfg\n"
          ],
          "name": "stdout"
        }
      ]
    },
    {
      "cell_type": "code",
      "metadata": {
        "id": "gBUhvxN4XJDZ",
        "colab_type": "code",
        "colab": {}
      },
      "source": [
        "%mv /content/cfg/yolo.cfg /content/darkflow/cfg/yolov2-tiny.cfg"
      ],
      "execution_count": 18,
      "outputs": []
    },
    {
      "cell_type": "code",
      "metadata": {
        "id": "cvFNMqnoPUe2",
        "colab_type": "code",
        "colab": {}
      },
      "source": [
        "options = {\"model\": \"cfg/yolov2-tiny.cfg\", \n",
        "           \"load\": \"/content/yolov2-tiny.weights\",\n",
        "           \"batch\": 2,\n",
        "           \"epoch\": 5,\n",
        "           \"train\": True,\n",
        "           \"annotation\": \"/content/kangaroo/annots/\",\n",
        "           \"dataset\": \"/content/kangaroo/images/\"}"
      ],
      "execution_count": 19,
      "outputs": []
    },
    {
      "cell_type": "code",
      "metadata": {
        "id": "MX8TQ14lTiEP",
        "colab_type": "code",
        "colab": {
          "base_uri": "https://localhost:8080/",
          "height": 1000
        },
        "outputId": "e0f570f3-c540-4805-a825-1950f838ce42"
      },
      "source": [
        "%cd /content/darkflow\n",
        "from darkflow.net.build import TFNet\n",
        "tfnet = TFNet(options)"
      ],
      "execution_count": 20,
      "outputs": [
        {
          "output_type": "stream",
          "text": [
            "/content/darkflow\n",
            "Parsing ./cfg/yolov2-tiny.cfg\n",
            "Parsing cfg/yolov2-tiny.cfg\n",
            "Loading /content/yolov2-tiny.weights ...\n",
            "Successfully identified 44948600 bytes\n",
            "Finished in 0.005042076110839844s\n",
            "\n",
            "Building net ...\n",
            "WARNING:tensorflow:From /content/darkflow/darkflow/net/build.py:105: The name tf.placeholder is deprecated. Please use tf.compat.v1.placeholder instead.\n",
            "\n",
            "Source | Train? | Layer description                | Output size\n",
            "-------+--------+----------------------------------+---------------\n",
            "WARNING:tensorflow:From /content/darkflow/darkflow/net/ops/baseop.py:70: The name tf.variable_scope is deprecated. Please use tf.compat.v1.variable_scope instead.\n",
            "\n",
            "WARNING:tensorflow:From /content/darkflow/darkflow/net/ops/baseop.py:71: The name tf.get_variable is deprecated. Please use tf.compat.v1.get_variable instead.\n",
            "\n",
            "WARNING:tensorflow:From /content/darkflow/darkflow/net/ops/baseop.py:84: The name tf.placeholder_with_default is deprecated. Please use tf.compat.v1.placeholder_with_default instead.\n",
            "\n",
            "       |        | input                            | (?, 416, 416, 3)\n",
            " Load  |  Yep!  | conv 3x3p1_1  +bnorm  leaky      | (?, 416, 416, 16)\n",
            "WARNING:tensorflow:From /content/darkflow/darkflow/net/ops/simple.py:106: The name tf.nn.max_pool is deprecated. Please use tf.nn.max_pool2d instead.\n",
            "\n",
            " Load  |  Yep!  | maxp 2x2p0_2                     | (?, 208, 208, 16)\n",
            " Load  |  Yep!  | conv 3x3p1_1  +bnorm  leaky      | (?, 208, 208, 32)\n",
            " Load  |  Yep!  | maxp 2x2p0_2                     | (?, 104, 104, 32)\n",
            " Load  |  Yep!  | conv 3x3p1_1  +bnorm  leaky      | (?, 104, 104, 64)\n",
            " Load  |  Yep!  | maxp 2x2p0_2                     | (?, 52, 52, 64)\n",
            " Load  |  Yep!  | conv 3x3p1_1  +bnorm  leaky      | (?, 52, 52, 128)\n",
            " Load  |  Yep!  | maxp 2x2p0_2                     | (?, 26, 26, 128)\n",
            " Load  |  Yep!  | conv 3x3p1_1  +bnorm  leaky      | (?, 26, 26, 256)\n",
            " Load  |  Yep!  | maxp 2x2p0_2                     | (?, 13, 13, 256)\n",
            " Load  |  Yep!  | conv 3x3p1_1  +bnorm  leaky      | (?, 13, 13, 512)\n",
            " Load  |  Yep!  | maxp 2x2p0_1                     | (?, 13, 13, 512)\n",
            " Load  |  Yep!  | conv 3x3p1_1  +bnorm  leaky      | (?, 13, 13, 1024)\n",
            " Load  |  Yep!  | conv 3x3p1_1  +bnorm  leaky      | (?, 13, 13, 512)\n",
            " Load  |  Yep!  | conv 1x1p0_1    linear           | (?, 13, 13, 30)\n",
            "-------+--------+----------------------------------+---------------\n",
            "Running entirely on CPU\n",
            "cfg/yolov2-tiny.cfg loss hyper-parameters:\n",
            "\tH       = 13\n",
            "\tW       = 13\n",
            "\tbox     = 5\n",
            "\tclasses = 1\n",
            "\tscales  = [1.0, 5.0, 1.0, 1.0]\n",
            "WARNING:tensorflow:From /content/darkflow/darkflow/net/yolov2/train.py:87: to_float (from tensorflow.python.ops.math_ops) is deprecated and will be removed in a future version.\n",
            "Instructions for updating:\n",
            "Use `tf.cast` instead.\n",
            "Building cfg/yolov2-tiny.cfg loss\n",
            "WARNING:tensorflow:From /content/darkflow/darkflow/net/yolov2/train.py:107: The name tf.summary.scalar is deprecated. Please use tf.compat.v1.summary.scalar instead.\n",
            "\n",
            "INFO:tensorflow:Summary name cfg/yolov2-tiny.cfg loss is illegal; using cfg/yolov2-tiny.cfg_loss instead.\n",
            "Building cfg/yolov2-tiny.cfg train op\n",
            "WARNING:tensorflow:From /usr/local/lib/python3.6/dist-packages/tensorflow/python/ops/math_grad.py:1205: add_dispatch_support.<locals>.wrapper (from tensorflow.python.ops.array_ops) is deprecated and will be removed in a future version.\n",
            "Instructions for updating:\n",
            "Use tf.where in 2.0, which has the same broadcast rule as np.where\n",
            "WARNING:tensorflow:From /usr/local/lib/python3.6/dist-packages/tensorflow/python/training/rmsprop.py:119: calling Ones.__init__ (from tensorflow.python.ops.init_ops) with dtype is deprecated and will be removed in a future version.\n",
            "Instructions for updating:\n",
            "Call initializer instance with the dtype argument instead of passing it to the constructor\n",
            "WARNING:tensorflow:From /content/darkflow/darkflow/net/build.py:145: The name tf.Session is deprecated. Please use tf.compat.v1.Session instead.\n",
            "\n",
            "Finished in 3.6565418243408203s\n",
            "\n"
          ],
          "name": "stdout"
        }
      ]
    },
    {
      "cell_type": "markdown",
      "metadata": {
        "id": "ytlJawbzzRt2",
        "colab_type": "text"
      },
      "source": [
        "**Note**: The byte difference issue: I solved it by just substracting the found value (in your case 180357512) to the expected value (in your case 64701556). Let Assume the result is \"X\".\n",
        "Now open your file ./darkflow/utils/loader.py and find the line 121. Then you will see a variable \"self.offset\" with a certain value assigned (16 or 20). Let suppose that value equals \"Y\".\n",
        "Upadte the value of self.offset=Y+X"
      ]
    },
    {
      "cell_type": "code",
      "metadata": {
        "id": "92cKzepX3wlS",
        "colab_type": "code",
        "colab": {}
      },
      "source": [
        "!mkdir ckpt"
      ],
      "execution_count": 26,
      "outputs": []
    },
    {
      "cell_type": "code",
      "metadata": {
        "id": "R3zSh1bm0IQ_",
        "colab_type": "code",
        "colab": {
          "base_uri": "https://localhost:8080/",
          "height": 1000
        },
        "outputId": "a8e599fa-bfc3-4f27-ef16-aee44f03b7c5"
      },
      "source": [
        "tfnet.train()"
      ],
      "execution_count": 27,
      "outputs": [
        {
          "output_type": "stream",
          "text": [
            "\n",
            "cfg/yolov2-tiny.cfg parsing /content/kangaroo/annots/\n",
            "Parsing for ['kangaroo'] \n",
            "[====================>]100%  00153.xml\n",
            "Statistics:\n",
            "kangaroo: 266\n",
            "Dataset size: 164\n",
            "Dataset of 164 instance(s)\n",
            "Training statistics: \n",
            "\tLearning rate : 1e-05\n",
            "\tBatch size    : 2\n",
            "\tEpoch number  : 5\n",
            "\tBackup every  : 2000\n",
            "step 1 - loss 101.20442199707031 - moving ave loss 101.20442199707031\n",
            "step 2 - loss 102.1051025390625 - moving ave loss 101.29449005126953\n",
            "step 3 - loss 101.18228149414062 - moving ave loss 101.28326919555664\n",
            "step 4 - loss 102.06282806396484 - moving ave loss 101.36122508239747\n",
            "step 5 - loss 102.03795623779297 - moving ave loss 101.42889819793702\n",
            "step 6 - loss 101.35072326660156 - moving ave loss 101.42108070480347\n",
            "step 7 - loss 101.40074157714844 - moving ave loss 101.41904679203797\n",
            "step 8 - loss 101.06713104248047 - moving ave loss 101.38385521708223\n",
            "step 9 - loss 101.12806701660156 - moving ave loss 101.35827639703417\n",
            "step 10 - loss 101.01298522949219 - moving ave loss 101.32374728027997\n",
            "step 11 - loss 101.00202178955078 - moving ave loss 101.29157473120705\n",
            "step 12 - loss 101.31617736816406 - moving ave loss 101.29403499490276\n",
            "step 13 - loss 101.28298950195312 - moving ave loss 101.2929304456078\n",
            "step 14 - loss 101.73731994628906 - moving ave loss 101.33736939567592\n",
            "step 15 - loss 101.06390380859375 - moving ave loss 101.31002283696772\n",
            "step 16 - loss 101.01586151123047 - moving ave loss 101.28060670439399\n",
            "step 17 - loss 101.90553283691406 - moving ave loss 101.343099317646\n",
            "step 18 - loss 101.24620056152344 - moving ave loss 101.33340944203374\n",
            "step 19 - loss 101.31564331054688 - moving ave loss 101.33163282888506\n",
            "step 20 - loss 102.32184600830078 - moving ave loss 101.43065414682664\n",
            "step 21 - loss 101.00088500976562 - moving ave loss 101.38767723312054\n",
            "step 22 - loss 100.91632080078125 - moving ave loss 101.34054158988661\n",
            "step 23 - loss 101.00201416015625 - moving ave loss 101.30668884691357\n",
            "step 24 - loss 100.92457580566406 - moving ave loss 101.26847754278862\n",
            "step 25 - loss 101.60710144042969 - moving ave loss 101.30233993255273\n",
            "step 26 - loss 100.94953155517578 - moving ave loss 101.26705909481504\n",
            "step 27 - loss 101.37857055664062 - moving ave loss 101.2782102409976\n",
            "step 28 - loss 100.88416290283203 - moving ave loss 101.23880550718104\n",
            "step 29 - loss 101.30194091796875 - moving ave loss 101.24511904825982\n",
            "step 30 - loss 101.56463623046875 - moving ave loss 101.27707076648072\n",
            "step 31 - loss 101.20582580566406 - moving ave loss 101.26994627039906\n",
            "step 32 - loss 100.83699798583984 - moving ave loss 101.22665144194315\n",
            "step 33 - loss 100.82618713378906 - moving ave loss 101.18660501112774\n",
            "step 34 - loss 101.53988647460938 - moving ave loss 101.2219331574759\n",
            "step 35 - loss 100.77749633789062 - moving ave loss 101.17748947551738\n",
            "step 36 - loss 101.19474792480469 - moving ave loss 101.17921532044612\n",
            "step 37 - loss 101.12703704833984 - moving ave loss 101.1739974932355\n",
            "step 38 - loss 101.21179962158203 - moving ave loss 101.17777770607016\n",
            "step 39 - loss 100.76287841796875 - moving ave loss 101.13628777726001\n",
            "step 40 - loss 101.07510375976562 - moving ave loss 101.13016937551058\n",
            "step 41 - loss 101.43782043457031 - moving ave loss 101.16093448141656\n",
            "step 42 - loss 100.70700073242188 - moving ave loss 101.1155411065171\n",
            "step 43 - loss 101.08432006835938 - moving ave loss 101.11241900270133\n",
            "step 44 - loss 101.10223388671875 - moving ave loss 101.11140049110307\n",
            "step 45 - loss 100.74820709228516 - moving ave loss 101.07508115122128\n",
            "step 46 - loss 102.48208618164062 - moving ave loss 101.21578165426322\n",
            "step 47 - loss 101.09386444091797 - moving ave loss 101.20358993292871\n",
            "step 48 - loss 100.69625854492188 - moving ave loss 101.15285679412803\n",
            "step 49 - loss 100.70221710205078 - moving ave loss 101.1077928249203\n",
            "step 50 - loss 101.86308288574219 - moving ave loss 101.18332183100249\n",
            "step 51 - loss 100.97235107421875 - moving ave loss 101.16222475532412\n",
            "step 52 - loss 100.90599060058594 - moving ave loss 101.1366013398503\n",
            "step 53 - loss 100.57102966308594 - moving ave loss 101.08004417217387\n",
            "step 54 - loss 100.8558578491211 - moving ave loss 101.0576255398686\n",
            "step 55 - loss 100.6393814086914 - moving ave loss 101.01580112675087\n",
            "step 56 - loss 101.67262268066406 - moving ave loss 101.0814832821422\n",
            "step 57 - loss 100.95970916748047 - moving ave loss 101.06930587067603\n",
            "step 58 - loss 100.86814880371094 - moving ave loss 101.04919016397953\n",
            "step 59 - loss 100.60539245605469 - moving ave loss 101.00481039318704\n",
            "step 60 - loss 101.29542541503906 - moving ave loss 101.03387189537224\n",
            "step 61 - loss 101.5875473022461 - moving ave loss 101.08923943605964\n",
            "step 62 - loss 101.22492980957031 - moving ave loss 101.10280847341072\n",
            "step 63 - loss 101.1895980834961 - moving ave loss 101.11148743441926\n",
            "step 64 - loss 101.9463882446289 - moving ave loss 101.19497751544023\n",
            "step 65 - loss 102.17955780029297 - moving ave loss 101.29343554392551\n",
            "step 66 - loss 101.20428466796875 - moving ave loss 101.28452045632984\n",
            "step 67 - loss 100.74052429199219 - moving ave loss 101.23012083989607\n",
            "step 68 - loss 100.49700927734375 - moving ave loss 101.15680968364084\n",
            "step 69 - loss 100.40961456298828 - moving ave loss 101.08209017157559\n",
            "step 70 - loss 101.79560089111328 - moving ave loss 101.15344124352936\n",
            "step 71 - loss 100.80467987060547 - moving ave loss 101.11856510623697\n",
            "step 72 - loss 100.47853088378906 - moving ave loss 101.05456168399218\n",
            "step 73 - loss 101.10356140136719 - moving ave loss 101.05946165572968\n",
            "step 74 - loss 100.46287536621094 - moving ave loss 100.99980302677781\n",
            "step 75 - loss 100.74124145507812 - moving ave loss 100.97394686960784\n",
            "step 76 - loss 101.6370849609375 - moving ave loss 101.04026067874081\n",
            "step 77 - loss 101.02391815185547 - moving ave loss 101.03862642605228\n",
            "step 78 - loss 100.35850524902344 - moving ave loss 100.9706143083494\n",
            "step 79 - loss 100.45494079589844 - moving ave loss 100.9190469571043\n",
            "step 80 - loss 100.41285705566406 - moving ave loss 100.86842796696028\n",
            "step 81 - loss 100.77665710449219 - moving ave loss 100.85925088071347\n",
            "step 82 - loss 102.32049560546875 - moving ave loss 101.00537535318901\n",
            "Finish 1 epoch(es)\n",
            "step 83 - loss 100.36674499511719 - moving ave loss 100.94151231738184\n",
            "step 84 - loss 100.24203491210938 - moving ave loss 100.8715645768546\n",
            "step 85 - loss 100.80608367919922 - moving ave loss 100.86501648708906\n",
            "step 86 - loss 100.31050872802734 - moving ave loss 100.8095657111829\n",
            "step 87 - loss 101.2469482421875 - moving ave loss 100.85330396428336\n",
            "step 88 - loss 100.6333999633789 - moving ave loss 100.83131356419291\n",
            "step 89 - loss 101.22582244873047 - moving ave loss 100.87076445264667\n",
            "step 90 - loss 100.92840576171875 - moving ave loss 100.87652858355388\n",
            "step 91 - loss 100.56649780273438 - moving ave loss 100.84552550547193\n",
            "step 92 - loss 100.58685302734375 - moving ave loss 100.81965825765911\n",
            "step 93 - loss 100.26617431640625 - moving ave loss 100.76430986353384\n",
            "step 94 - loss 101.83047485351562 - moving ave loss 100.87092636253202\n",
            "step 95 - loss 100.23393249511719 - moving ave loss 100.80722697579054\n",
            "step 96 - loss 100.885498046875 - moving ave loss 100.815054082899\n",
            "step 97 - loss 100.26473999023438 - moving ave loss 100.76002267363253\n",
            "step 98 - loss 100.45553588867188 - moving ave loss 100.72957399513648\n",
            "step 99 - loss 101.22160339355469 - moving ave loss 100.77877693497831\n",
            "step 100 - loss 100.13551330566406 - moving ave loss 100.7144505720469\n",
            "step 101 - loss 101.34626770019531 - moving ave loss 100.77763228486175\n",
            "step 102 - loss 100.16280364990234 - moving ave loss 100.71614942136581\n",
            "step 103 - loss 100.08671569824219 - moving ave loss 100.65320604905345\n",
            "step 104 - loss 100.51708221435547 - moving ave loss 100.63959366558366\n",
            "step 105 - loss 100.52212524414062 - moving ave loss 100.62784682343936\n",
            "step 106 - loss 101.65193939208984 - moving ave loss 100.73025608030441\n",
            "step 107 - loss 100.41181182861328 - moving ave loss 100.69841165513532\n",
            "step 108 - loss 100.38475799560547 - moving ave loss 100.66704628918234\n",
            "step 109 - loss 100.17781829833984 - moving ave loss 100.6181234900981\n",
            "step 110 - loss 100.02116394042969 - moving ave loss 100.55842753513126\n",
            "step 111 - loss 100.0313491821289 - moving ave loss 100.50571969983103\n",
            "step 112 - loss 100.99651336669922 - moving ave loss 100.55479906651786\n",
            "step 113 - loss 100.70646667480469 - moving ave loss 100.56996582734655\n",
            "step 114 - loss 100.00971984863281 - moving ave loss 100.51394122947518\n",
            "step 115 - loss 100.47742462158203 - moving ave loss 100.51028956868586\n",
            "step 116 - loss 101.75492858886719 - moving ave loss 100.634753470704\n",
            "step 117 - loss 100.71063232421875 - moving ave loss 100.64234135605548\n",
            "step 118 - loss 100.06983947753906 - moving ave loss 100.58509116820385\n",
            "step 119 - loss 100.66769409179688 - moving ave loss 100.59335146056314\n",
            "step 120 - loss 100.19134521484375 - moving ave loss 100.5531508359912\n",
            "step 121 - loss 101.37808227539062 - moving ave loss 100.63564397993116\n",
            "step 122 - loss 100.08937072753906 - moving ave loss 100.58101665469195\n",
            "step 123 - loss 99.94783020019531 - moving ave loss 100.51769800924228\n",
            "step 124 - loss 100.26770782470703 - moving ave loss 100.49269899078877\n",
            "step 125 - loss 100.6431884765625 - moving ave loss 100.50774793936614\n",
            "step 126 - loss 100.18522644042969 - moving ave loss 100.4754957894725\n",
            "step 127 - loss 99.94556427001953 - moving ave loss 100.4225026375272\n",
            "step 128 - loss 100.15608215332031 - moving ave loss 100.39586058910652\n",
            "step 129 - loss 100.80787658691406 - moving ave loss 100.43706218888728\n",
            "step 130 - loss 99.965576171875 - moving ave loss 100.38991358718606\n",
            "step 131 - loss 100.17546081542969 - moving ave loss 100.36846831001043\n",
            "step 132 - loss 100.1939697265625 - moving ave loss 100.35101845166564\n",
            "step 133 - loss 100.19183349609375 - moving ave loss 100.33509995610845\n",
            "step 134 - loss 99.86195373535156 - moving ave loss 100.28778533403276\n",
            "step 135 - loss 101.46917724609375 - moving ave loss 100.40592452523887\n",
            "step 136 - loss 100.20399475097656 - moving ave loss 100.38573154781265\n",
            "step 137 - loss 99.78946685791016 - moving ave loss 100.32610507882241\n",
            "step 138 - loss 100.25762939453125 - moving ave loss 100.3192575103933\n",
            "step 139 - loss 100.14608764648438 - moving ave loss 100.30194052400242\n",
            "step 140 - loss 100.79822540283203 - moving ave loss 100.35156901188539\n",
            "step 141 - loss 99.80398559570312 - moving ave loss 100.29681067026716\n",
            "step 142 - loss 99.7137222290039 - moving ave loss 100.23850182614083\n",
            "step 143 - loss 99.758544921875 - moving ave loss 100.19050613571426\n",
            "step 144 - loss 99.73461151123047 - moving ave loss 100.14491667326588\n",
            "step 145 - loss 99.68702697753906 - moving ave loss 100.09912770369321\n",
            "step 146 - loss 100.41665649414062 - moving ave loss 100.13088058273794\n",
            "step 147 - loss 100.43254852294922 - moving ave loss 100.16104737675907\n",
            "step 148 - loss 99.94544982910156 - moving ave loss 100.13948762199333\n",
            "step 149 - loss 100.06375122070312 - moving ave loss 100.1319139818643\n",
            "step 150 - loss 100.65254211425781 - moving ave loss 100.18397679510366\n",
            "step 151 - loss 101.67095947265625 - moving ave loss 100.33267506285893\n",
            "step 152 - loss 99.58961486816406 - moving ave loss 100.25836904338944\n",
            "step 153 - loss 99.6904067993164 - moving ave loss 100.20157281898213\n",
            "step 154 - loss 99.66676330566406 - moving ave loss 100.14809186765032\n",
            "step 155 - loss 99.95361328125 - moving ave loss 100.12864400901029\n",
            "step 156 - loss 99.5909423828125 - moving ave loss 100.07487384639052\n",
            "step 157 - loss 99.8575210571289 - moving ave loss 100.05313856746436\n",
            "step 158 - loss 99.53250122070312 - moving ave loss 100.00107483278823\n",
            "step 159 - loss 99.54356384277344 - moving ave loss 99.95532373378676\n",
            "step 160 - loss 100.54940795898438 - moving ave loss 100.01473215630651\n",
            "step 161 - loss 99.48248291015625 - moving ave loss 99.96150723169148\n",
            "step 162 - loss 99.55062103271484 - moving ave loss 99.92041861179382\n",
            "step 163 - loss 99.78475952148438 - moving ave loss 99.90685270276289\n",
            "step 164 - loss 99.91544342041016 - moving ave loss 99.90771177452763\n",
            "Finish 2 epoch(es)\n",
            "step 165 - loss 99.85240936279297 - moving ave loss 99.90218153335417\n",
            "step 166 - loss 99.52008819580078 - moving ave loss 99.86397219959883\n",
            "step 167 - loss 100.14157104492188 - moving ave loss 99.89173208413114\n",
            "step 168 - loss 99.42486572265625 - moving ave loss 99.84504544798365\n",
            "step 169 - loss 99.75948333740234 - moving ave loss 99.83648923692552\n",
            "step 170 - loss 99.78125 - moving ave loss 99.83096531323297\n",
            "step 171 - loss 100.75234985351562 - moving ave loss 99.92310376726124\n",
            "step 172 - loss 100.69474792480469 - moving ave loss 100.00026818301558\n",
            "step 173 - loss 100.46218872070312 - moving ave loss 100.04646023678434\n",
            "step 174 - loss 99.76343536376953 - moving ave loss 100.01815774948287\n",
            "step 175 - loss 101.34022521972656 - moving ave loss 100.15036449650724\n",
            "step 176 - loss 99.69111633300781 - moving ave loss 100.1044396801573\n",
            "step 177 - loss 99.32855224609375 - moving ave loss 100.02685093675095\n",
            "step 178 - loss 100.44257354736328 - moving ave loss 100.06842319781218\n",
            "step 179 - loss 100.3412857055664 - moving ave loss 100.09570944858761\n",
            "step 180 - loss 100.12924194335938 - moving ave loss 100.09906269806478\n",
            "step 181 - loss 100.01914978027344 - moving ave loss 100.09107140628565\n",
            "step 182 - loss 99.68074798583984 - moving ave loss 100.05003906424108\n",
            "step 183 - loss 99.4243392944336 - moving ave loss 99.98746908726034\n",
            "step 184 - loss 99.935302734375 - moving ave loss 99.9822524519718\n",
            "step 185 - loss 99.73570251464844 - moving ave loss 99.95759745823948\n",
            "step 186 - loss 99.28107452392578 - moving ave loss 99.88994516480811\n",
            "step 187 - loss 100.5240249633789 - moving ave loss 99.95335314466519\n",
            "step 188 - loss 99.24755859375 - moving ave loss 99.88277368957367\n",
            "step 189 - loss 99.9051513671875 - moving ave loss 99.88501145733505\n",
            "step 190 - loss 99.26524353027344 - moving ave loss 99.82303466462889\n",
            "step 191 - loss 99.55076599121094 - moving ave loss 99.79580779728711\n",
            "step 192 - loss 99.218505859375 - moving ave loss 99.73807760349591\n",
            "step 193 - loss 99.2007064819336 - moving ave loss 99.68434049133968\n",
            "step 194 - loss 99.26750183105469 - moving ave loss 99.64265662531119\n",
            "step 195 - loss 99.1314697265625 - moving ave loss 99.59153793543632\n",
            "step 196 - loss 100.8641357421875 - moving ave loss 99.71879771611144\n",
            "step 197 - loss 99.15986633300781 - moving ave loss 99.66290457780107\n",
            "step 198 - loss 99.19157409667969 - moving ave loss 99.61577152968894\n",
            "step 199 - loss 99.12998962402344 - moving ave loss 99.5671933391224\n",
            "step 200 - loss 99.17805480957031 - moving ave loss 99.5282794861672\n",
            "step 201 - loss 99.1944580078125 - moving ave loss 99.49489733833173\n",
            "step 202 - loss 99.11891174316406 - moving ave loss 99.45729877881496\n",
            "step 203 - loss 100.00009155273438 - moving ave loss 99.5115780562069\n",
            "step 204 - loss 99.10884094238281 - moving ave loss 99.4713043448245\n",
            "step 205 - loss 99.11572265625 - moving ave loss 99.43574617596705\n",
            "step 206 - loss 99.04510498046875 - moving ave loss 99.39668205641722\n",
            "step 207 - loss 99.08094787597656 - moving ave loss 99.36510863837316\n",
            "step 208 - loss 99.13546752929688 - moving ave loss 99.34214452746554\n",
            "step 209 - loss 100.03514099121094 - moving ave loss 99.41144417384008\n",
            "step 210 - loss 99.04338836669922 - moving ave loss 99.374638593126\n",
            "step 211 - loss 99.05496215820312 - moving ave loss 99.34267094963371\n",
            "step 212 - loss 100.46524047851562 - moving ave loss 99.4549279025219\n",
            "step 213 - loss 99.6906509399414 - moving ave loss 99.47850020626386\n",
            "step 214 - loss 99.72557067871094 - moving ave loss 99.50320725350856\n",
            "step 215 - loss 98.99067687988281 - moving ave loss 99.45195421614599\n",
            "step 216 - loss 99.35606384277344 - moving ave loss 99.44236517880874\n",
            "step 217 - loss 100.01325988769531 - moving ave loss 99.49945464969741\n",
            "step 218 - loss 99.62472534179688 - moving ave loss 99.51198171890735\n",
            "step 219 - loss 99.59172058105469 - moving ave loss 99.51995560512208\n",
            "step 220 - loss 99.23670959472656 - moving ave loss 99.49163100408254\n",
            "step 221 - loss 99.93770599365234 - moving ave loss 99.53623850303951\n",
            "step 222 - loss 99.52726745605469 - moving ave loss 99.53534139834103\n",
            "step 223 - loss 98.83770751953125 - moving ave loss 99.46557801046005\n",
            "step 224 - loss 99.19367218017578 - moving ave loss 99.43838742743164\n",
            "step 225 - loss 99.17315673828125 - moving ave loss 99.4118643585166\n",
            "step 226 - loss 98.94810485839844 - moving ave loss 99.36548840850477\n",
            "step 227 - loss 99.57296752929688 - moving ave loss 99.38623632058399\n",
            "step 228 - loss 98.86078643798828 - moving ave loss 99.33369133232442\n",
            "step 229 - loss 98.81771087646484 - moving ave loss 99.28209328673846\n",
            "step 230 - loss 98.82129669189453 - moving ave loss 99.23601362725407\n",
            "step 231 - loss 99.86221313476562 - moving ave loss 99.29863357800522\n",
            "step 232 - loss 98.92584228515625 - moving ave loss 99.26135444872034\n",
            "step 233 - loss 98.8944091796875 - moving ave loss 99.22465992181706\n",
            "step 234 - loss 98.901611328125 - moving ave loss 99.19235506244786\n",
            "step 235 - loss 98.84458923339844 - moving ave loss 99.15757847954292\n",
            "step 236 - loss 99.75957489013672 - moving ave loss 99.2177781206023\n",
            "step 237 - loss 98.77374267578125 - moving ave loss 99.17337457612021\n",
            "step 238 - loss 99.381103515625 - moving ave loss 99.19414747007069\n",
            "step 239 - loss 99.17365264892578 - moving ave loss 99.1920979879562\n",
            "step 240 - loss 98.7184066772461 - moving ave loss 99.1447288568852\n",
            "step 241 - loss 98.64036560058594 - moving ave loss 99.09429253125528\n",
            "step 242 - loss 99.34486389160156 - moving ave loss 99.11934966728991\n",
            "step 243 - loss 100.18154907226562 - moving ave loss 99.22556960778748\n",
            "step 244 - loss 98.75148010253906 - moving ave loss 99.17816065726264\n",
            "step 245 - loss 99.81119537353516 - moving ave loss 99.2414641288899\n",
            "step 246 - loss 98.68942260742188 - moving ave loss 99.1862599767431\n",
            "Finish 3 epoch(es)\n",
            "step 247 - loss 98.60432434082031 - moving ave loss 99.12806641315082\n",
            "step 248 - loss 98.94725799560547 - moving ave loss 99.10998557139628\n",
            "step 249 - loss 98.64187622070312 - moving ave loss 99.06317463632698\n",
            "step 250 - loss 98.70156860351562 - moving ave loss 99.02701403304584\n",
            "step 251 - loss 98.59007263183594 - moving ave loss 98.98331989292487\n",
            "step 252 - loss 99.11155700683594 - moving ave loss 98.99614360431598\n",
            "step 253 - loss 99.03445434570312 - moving ave loss 98.99997467845469\n",
            "step 254 - loss 99.67120361328125 - moving ave loss 99.06709757193735\n",
            "step 255 - loss 100.60635375976562 - moving ave loss 99.22102319072017\n",
            "step 256 - loss 98.5211181640625 - moving ave loss 99.15103268805441\n",
            "step 257 - loss 98.54724884033203 - moving ave loss 99.09065430328218\n",
            "step 258 - loss 99.21964263916016 - moving ave loss 99.10355313686998\n",
            "step 259 - loss 98.54899597167969 - moving ave loss 99.04809742035096\n",
            "step 260 - loss 98.81733703613281 - moving ave loss 99.02502138192914\n",
            "step 261 - loss 100.90005493164062 - moving ave loss 99.21252473690029\n",
            "step 262 - loss 98.52058410644531 - moving ave loss 99.14333067385479\n",
            "step 263 - loss 98.49657440185547 - moving ave loss 99.07865504665487\n",
            "step 264 - loss 99.50770568847656 - moving ave loss 99.12156011083705\n",
            "step 265 - loss 99.70236206054688 - moving ave loss 99.17964030580804\n",
            "step 266 - loss 98.81570434570312 - moving ave loss 99.14324670979755\n",
            "step 267 - loss 98.4459228515625 - moving ave loss 99.07351432397405\n",
            "step 268 - loss 100.09626770019531 - moving ave loss 99.17578966159618\n",
            "step 269 - loss 98.80448913574219 - moving ave loss 99.1386596090108\n",
            "step 270 - loss 98.37762451171875 - moving ave loss 99.06255609928161\n",
            "step 271 - loss 98.32276916503906 - moving ave loss 98.98857740585737\n",
            "step 272 - loss 98.80760192871094 - moving ave loss 98.97047985814272\n",
            "step 273 - loss 98.77510070800781 - moving ave loss 98.95094194312924\n",
            "step 274 - loss 98.32650756835938 - moving ave loss 98.88849850565225\n",
            "step 275 - loss 98.37631225585938 - moving ave loss 98.83727988067297\n",
            "step 276 - loss 98.39788818359375 - moving ave loss 98.79334071096505\n",
            "step 277 - loss 98.72357177734375 - moving ave loss 98.78636381760292\n",
            "step 278 - loss 98.67445373535156 - moving ave loss 98.77517280937779\n",
            "step 279 - loss 99.2767105102539 - moving ave loss 98.82532657946541\n",
            "step 280 - loss 98.61979675292969 - moving ave loss 98.80477359681184\n",
            "step 281 - loss 98.62706756591797 - moving ave loss 98.78700299372247\n",
            "step 282 - loss 98.3297119140625 - moving ave loss 98.74127388575647\n",
            "step 283 - loss 98.26486206054688 - moving ave loss 98.69363270323552\n",
            "step 284 - loss 98.60497283935547 - moving ave loss 98.68476671684752\n",
            "step 285 - loss 98.27017211914062 - moving ave loss 98.64330725707684\n",
            "step 286 - loss 99.57713317871094 - moving ave loss 98.73668984924025\n",
            "step 287 - loss 99.21266174316406 - moving ave loss 98.78428703863264\n",
            "step 288 - loss 98.6307601928711 - moving ave loss 98.76893435405648\n",
            "step 289 - loss 99.6173095703125 - moving ave loss 98.85377187568209\n",
            "step 290 - loss 98.97242736816406 - moving ave loss 98.86563742493028\n",
            "step 291 - loss 98.90769958496094 - moving ave loss 98.86984364093335\n",
            "step 292 - loss 98.131591796875 - moving ave loss 98.79601845652752\n",
            "step 293 - loss 100.07551574707031 - moving ave loss 98.92396818558181\n",
            "step 294 - loss 98.10342407226562 - moving ave loss 98.8419137742502\n",
            "step 295 - loss 98.130859375 - moving ave loss 98.7708083343252\n",
            "step 296 - loss 98.34339904785156 - moving ave loss 98.72806740567783\n",
            "step 297 - loss 98.82135009765625 - moving ave loss 98.73739567487567\n",
            "step 298 - loss 98.49774169921875 - moving ave loss 98.71343027730998\n",
            "step 299 - loss 98.08816528320312 - moving ave loss 98.65090377789929\n",
            "step 300 - loss 98.44509887695312 - moving ave loss 98.63032328780467\n",
            "step 301 - loss 99.16870880126953 - moving ave loss 98.68416183915116\n",
            "step 302 - loss 98.00647735595703 - moving ave loss 98.61639339083175\n",
            "step 303 - loss 98.31559753417969 - moving ave loss 98.58631380516655\n",
            "step 304 - loss 98.05911254882812 - moving ave loss 98.53359367953271\n",
            "step 305 - loss 98.69271087646484 - moving ave loss 98.54950539922592\n",
            "step 306 - loss 98.02864074707031 - moving ave loss 98.49741893401037\n",
            "step 307 - loss 98.67030334472656 - moving ave loss 98.514707375082\n",
            "step 308 - loss 98.29801940917969 - moving ave loss 98.49303857849178\n",
            "step 309 - loss 98.34573364257812 - moving ave loss 98.47830808490042\n",
            "step 310 - loss 98.04362487792969 - moving ave loss 98.43483976420335\n",
            "step 311 - loss 97.96134185791016 - moving ave loss 98.38748997357403\n",
            "step 312 - loss 97.97740173339844 - moving ave loss 98.34648114955648\n",
            "step 313 - loss 98.37130737304688 - moving ave loss 98.34896377190553\n",
            "step 314 - loss 97.94416046142578 - moving ave loss 98.30848344085757\n",
            "step 315 - loss 99.26319885253906 - moving ave loss 98.40395498202572\n",
            "step 316 - loss 99.30413818359375 - moving ave loss 98.49397330218252\n",
            "step 317 - loss 97.91162109375 - moving ave loss 98.43573808133928\n",
            "step 318 - loss 98.5074234008789 - moving ave loss 98.44290661329325\n",
            "step 319 - loss 98.27700805664062 - moving ave loss 98.42631675762799\n",
            "step 320 - loss 97.98101806640625 - moving ave loss 98.38178688850581\n",
            "step 321 - loss 97.96910858154297 - moving ave loss 98.34051905780953\n",
            "step 322 - loss 98.08132934570312 - moving ave loss 98.31460008659889\n",
            "step 323 - loss 97.88369750976562 - moving ave loss 98.27150982891555\n",
            "step 324 - loss 97.81111145019531 - moving ave loss 98.22546999104354\n",
            "step 325 - loss 97.75811767578125 - moving ave loss 98.17873475951731\n",
            "step 326 - loss 98.84541320800781 - moving ave loss 98.24540260436636\n",
            "step 327 - loss 98.1168212890625 - moving ave loss 98.23254447283598\n",
            "step 328 - loss 98.16771697998047 - moving ave loss 98.22606172355043\n",
            "Finish 4 epoch(es)\n",
            "step 329 - loss 98.42585754394531 - moving ave loss 98.24604130558993\n",
            "step 330 - loss 97.83421325683594 - moving ave loss 98.20485850071452\n",
            "step 331 - loss 98.13408660888672 - moving ave loss 98.19778131153174\n",
            "step 332 - loss 98.34600830078125 - moving ave loss 98.2126040104567\n",
            "step 333 - loss 97.76506042480469 - moving ave loss 98.16784965189152\n",
            "step 334 - loss 97.74163818359375 - moving ave loss 98.12522850506176\n",
            "step 335 - loss 98.845458984375 - moving ave loss 98.1972515529931\n",
            "step 336 - loss 98.05767059326172 - moving ave loss 98.18329345701996\n",
            "step 337 - loss 98.3471908569336 - moving ave loss 98.19968319701132\n",
            "step 338 - loss 97.9458999633789 - moving ave loss 98.17430487364808\n",
            "step 339 - loss 99.68793487548828 - moving ave loss 98.32566787383212\n",
            "step 340 - loss 99.47777557373047 - moving ave loss 98.44087864382195\n",
            "step 341 - loss 98.436279296875 - moving ave loss 98.44041870912726\n",
            "step 342 - loss 97.93145751953125 - moving ave loss 98.38952259016767\n",
            "step 343 - loss 97.63233947753906 - moving ave loss 98.31380427890481\n",
            "step 344 - loss 98.62139129638672 - moving ave loss 98.34456298065301\n",
            "step 345 - loss 97.59103393554688 - moving ave loss 98.2692100761424\n",
            "step 346 - loss 97.9964599609375 - moving ave loss 98.24193506462191\n",
            "step 347 - loss 98.15817260742188 - moving ave loss 98.23355881890191\n",
            "step 348 - loss 97.57176208496094 - moving ave loss 98.16737914550781\n",
            "step 349 - loss 97.85429382324219 - moving ave loss 98.13607061328125\n",
            "step 350 - loss 98.24800109863281 - moving ave loss 98.1472636618164\n",
            "step 351 - loss 99.30915069580078 - moving ave loss 98.26345236521485\n",
            "step 352 - loss 97.67027282714844 - moving ave loss 98.20413441140822\n",
            "step 353 - loss 98.02766418457031 - moving ave loss 98.18648738872443\n",
            "step 354 - loss 97.86112213134766 - moving ave loss 98.15395086298676\n",
            "step 355 - loss 97.4891586303711 - moving ave loss 98.0874716397252\n",
            "step 356 - loss 97.52737426757812 - moving ave loss 98.0314619025105\n",
            "step 357 - loss 97.47187805175781 - moving ave loss 97.97550351743524\n",
            "step 358 - loss 97.83627319335938 - moving ave loss 97.96158048502765\n",
            "step 359 - loss 97.4347915649414 - moving ave loss 97.90890159301904\n",
            "step 360 - loss 97.44894409179688 - moving ave loss 97.86290584289684\n",
            "step 361 - loss 97.47792053222656 - moving ave loss 97.8244073118298\n",
            "step 362 - loss 97.43641662597656 - moving ave loss 97.78560824324448\n",
            "step 363 - loss 98.44277954101562 - moving ave loss 97.85132537302161\n",
            "step 364 - loss 97.43751525878906 - moving ave loss 97.80994436159835\n",
            "step 365 - loss 97.41717529296875 - moving ave loss 97.7706674547354\n",
            "step 366 - loss 97.71307373046875 - moving ave loss 97.76490808230875\n",
            "step 367 - loss 97.33295440673828 - moving ave loss 97.7217127147517\n",
            "step 368 - loss 98.3980941772461 - moving ave loss 97.78935086100114\n",
            "step 369 - loss 97.66252899169922 - moving ave loss 97.77666867407096\n",
            "step 370 - loss 97.71382141113281 - moving ave loss 97.77038394777715\n",
            "step 371 - loss 97.27565002441406 - moving ave loss 97.72091055544084\n",
            "step 372 - loss 97.39118957519531 - moving ave loss 97.6879384574163\n",
            "step 373 - loss 97.33828735351562 - moving ave loss 97.65297334702623\n",
            "step 374 - loss 97.7016372680664 - moving ave loss 97.65783973913025\n",
            "step 375 - loss 97.27987670898438 - moving ave loss 97.62004343611568\n",
            "step 376 - loss 98.58533477783203 - moving ave loss 97.71657257028733\n",
            "step 377 - loss 97.26222229003906 - moving ave loss 97.6711375422625\n",
            "step 378 - loss 97.57342529296875 - moving ave loss 97.66136631733313\n",
            "step 379 - loss 97.1543960571289 - moving ave loss 97.6106692913127\n",
            "step 380 - loss 97.80552673339844 - moving ave loss 97.63015503552127\n",
            "step 381 - loss 97.60403442382812 - moving ave loss 97.62754297435195\n",
            "step 382 - loss 97.58291625976562 - moving ave loss 97.62308030289333\n",
            "step 383 - loss 97.17875671386719 - moving ave loss 97.57864794399072\n",
            "step 384 - loss 97.12408447265625 - moving ave loss 97.53319159685728\n",
            "step 385 - loss 97.92269134521484 - moving ave loss 97.57214157169304\n",
            "step 386 - loss 97.78474426269531 - moving ave loss 97.59340184079326\n",
            "step 387 - loss 97.14115142822266 - moving ave loss 97.54817679953621\n",
            "step 388 - loss 98.48744201660156 - moving ave loss 97.64210332124274\n",
            "step 389 - loss 97.81475830078125 - moving ave loss 97.65936881919659\n",
            "step 390 - loss 97.53138732910156 - moving ave loss 97.64657067018709\n",
            "step 391 - loss 98.94572448730469 - moving ave loss 97.77648605189886\n",
            "step 392 - loss 98.42984771728516 - moving ave loss 97.8418222184375\n",
            "step 393 - loss 97.12488555908203 - moving ave loss 97.77012855250196\n",
            "step 394 - loss 97.14552307128906 - moving ave loss 97.70766800438068\n",
            "step 395 - loss 98.18228149414062 - moving ave loss 97.75512935335668\n",
            "step 396 - loss 97.42886352539062 - moving ave loss 97.72250277056007\n",
            "step 397 - loss 97.06405639648438 - moving ave loss 97.6566581331525\n",
            "step 398 - loss 97.328369140625 - moving ave loss 97.62382923389976\n",
            "step 399 - loss 97.05252075195312 - moving ave loss 97.5666983857051\n",
            "step 400 - loss 98.14813995361328 - moving ave loss 97.62484254249593\n",
            "step 401 - loss 97.61029815673828 - moving ave loss 97.62338810392018\n",
            "step 402 - loss 97.0064468383789 - moving ave loss 97.56169397736606\n",
            "step 403 - loss 97.28280639648438 - moving ave loss 97.5338052192779\n",
            "step 404 - loss 97.01069641113281 - moving ave loss 97.48149433846339\n",
            "step 405 - loss 97.03443908691406 - moving ave loss 97.43678881330847\n",
            "step 406 - loss 97.31709289550781 - moving ave loss 97.4248192215284\n",
            "step 407 - loss 96.94182586669922 - moving ave loss 97.37651988604549\n",
            "step 408 - loss 97.64321899414062 - moving ave loss 97.403189796855\n",
            "step 409 - loss 97.26583862304688 - moving ave loss 97.3894546794742\n",
            "step 410 - loss 97.51586151123047 - moving ave loss 97.40209536264983\n",
            "Finish 5 epoch(es)\n",
            "Checkpoint at step 410\n"
          ],
          "name": "stdout"
        }
      ]
    },
    {
      "cell_type": "code",
      "metadata": {
        "id": "MmPj4o3tz0-D",
        "colab_type": "code",
        "colab": {
          "base_uri": "https://localhost:8080/",
          "height": 520
        },
        "outputId": "bef02c57-1d11-4d8b-ae5f-83d37e60a3f1"
      },
      "source": [
        "#test\n",
        "options = {\n",
        " 'model': 'cfg/yolov2-tiny.cfg',\n",
        " 'load': 410,\n",
        " 'threshold': 0.3,\n",
        " 'backup':'ckpt/'\n",
        " \n",
        "}\n",
        "tfnet2 = TFNet(options)"
      ],
      "execution_count": 29,
      "outputs": [
        {
          "output_type": "stream",
          "text": [
            "Parsing cfg/yolov2-tiny.cfg\n",
            "Loading None ...\n",
            "Finished in 9.918212890625e-05s\n",
            "\n",
            "Building net ...\n",
            "Source | Train? | Layer description                | Output size\n",
            "-------+--------+----------------------------------+---------------\n",
            "       |        | input                            | (?, 416, 416, 3)\n",
            " Init  |  Yep!  | conv 3x3p1_1  +bnorm  leaky      | (?, 416, 416, 16)\n",
            " Load  |  Yep!  | maxp 2x2p0_2                     | (?, 208, 208, 16)\n",
            " Init  |  Yep!  | conv 3x3p1_1  +bnorm  leaky      | (?, 208, 208, 32)\n",
            " Load  |  Yep!  | maxp 2x2p0_2                     | (?, 104, 104, 32)\n",
            " Init  |  Yep!  | conv 3x3p1_1  +bnorm  leaky      | (?, 104, 104, 64)\n",
            " Load  |  Yep!  | maxp 2x2p0_2                     | (?, 52, 52, 64)\n",
            " Init  |  Yep!  | conv 3x3p1_1  +bnorm  leaky      | (?, 52, 52, 128)\n",
            " Load  |  Yep!  | maxp 2x2p0_2                     | (?, 26, 26, 128)\n",
            " Init  |  Yep!  | conv 3x3p1_1  +bnorm  leaky      | (?, 26, 26, 256)\n",
            " Load  |  Yep!  | maxp 2x2p0_2                     | (?, 13, 13, 256)\n",
            " Init  |  Yep!  | conv 3x3p1_1  +bnorm  leaky      | (?, 13, 13, 512)\n",
            " Load  |  Yep!  | maxp 2x2p0_1                     | (?, 13, 13, 512)\n",
            " Init  |  Yep!  | conv 3x3p1_1  +bnorm  leaky      | (?, 13, 13, 1024)\n",
            " Init  |  Yep!  | conv 3x3p1_1  +bnorm  leaky      | (?, 13, 13, 512)\n",
            " Init  |  Yep!  | conv 1x1p0_1    linear           | (?, 13, 13, 30)\n",
            "-------+--------+----------------------------------+---------------\n",
            "Running entirely on CPU\n",
            "Loading from ckpt/yolov2-tiny-410\n",
            "INFO:tensorflow:Restoring parameters from ckpt/yolov2-tiny-410\n",
            "Finished in 1.9969651699066162s\n",
            "\n"
          ],
          "name": "stdout"
        }
      ]
    },
    {
      "cell_type": "code",
      "metadata": {
        "id": "M6MLWDKW8EMM",
        "colab_type": "code",
        "colab": {
          "base_uri": "https://localhost:8080/",
          "height": 52
        },
        "outputId": "d0060a57-0f45-4b46-ae7a-5a9766080d92"
      },
      "source": [
        "tfnet2.load_from_ckpt()"
      ],
      "execution_count": 34,
      "outputs": [
        {
          "output_type": "stream",
          "text": [
            "Loading from ckpt/yolov2-tiny-410\n",
            "INFO:tensorflow:Restoring parameters from ckpt/yolov2-tiny-410\n"
          ],
          "name": "stdout"
        }
      ]
    },
    {
      "cell_type": "code",
      "metadata": {
        "id": "SmlMW2yzgPBr",
        "colab_type": "code",
        "colab": {
          "base_uri": "https://localhost:8080/",
          "height": 35
        },
        "outputId": "07c1c1f5-8091-4648-b246-a6e4fa553b86"
      },
      "source": [
        "import cv2\n",
        "original_img = cv2.imread(\"/content/kangaroo/images/00001.jpg\")\n",
        "original_img = cv2.cvtColor(original_img, cv2.COLOR_BGR2RGB)\n",
        "results = tfnet2.return_predict(original_img)\n",
        "print(results)"
      ],
      "execution_count": 35,
      "outputs": [
        {
          "output_type": "stream",
          "text": [
            "[]\n"
          ],
          "name": "stdout"
        }
      ]
    },
    {
      "cell_type": "code",
      "metadata": {
        "id": "TDK7YJ5ZzmH3",
        "colab_type": "code",
        "colab": {}
      },
      "source": [
        ""
      ],
      "execution_count": null,
      "outputs": []
    }
  ]
}